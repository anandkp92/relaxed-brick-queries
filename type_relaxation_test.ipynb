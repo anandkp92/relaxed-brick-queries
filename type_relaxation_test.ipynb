{
 "cells": [
  {
   "cell_type": "code",
   "execution_count": 2,
   "metadata": {},
   "outputs": [],
   "source": [
    "import pymortar\n",
    "import glob\n",
    "URL = \"http://beta-api.mortardata.org\"\n",
    "c = pymortar.Client(URL)\n",
    "import brickschema\n",
    "from brickschema.namespaces import BRICK, RDFS, OWL, TAG, RDF\n",
    "from rdflib import URIRef"
   ]
  },
  {
   "cell_type": "markdown",
   "metadata": {},
   "source": [
    "# 1.1.1 For Type relaxation rules\n",
    "\n",
    "## 1.1.1.1 ApplyRule_UpperClass() \n",
    "\n",
    "\t\t\tInput: A triple pattern t (?x, type, C[n])\n",
    "\t\t\tOutput: List of superclasses of C[n] (first layer)\n",
    "            ? A relaxed triple t’ such that if C[n] is a subclass of C[n+1], \n",
    "\t\t\tt’= (?x, type, C[n+1]) ?\n",
    "            \n",
    "## 1.1.1.2 ApplyRule_LowerClass() \n",
    "\n",
    "\t\t\tInput: A triple pattern t (?x, type, C[n])\n",
    "            Output: List of subclasses of C[n] (first layer)\n",
    "            ?A relaxed triple t’ such that if C[n] is a superclass of C[n+1], \n",
    "\t\t\tt’= (?x, type, C1)?\n",
    "            \n",
    "## 1.1.1.3 ApplyRule_SiblingClass()  \n",
    "            Input: A triple pattern t (?x, type, C[n])\n",
    "            Output: List of siblingclasses (contain same super class of C[n]) (first layer)\n",
    "            \n",
    "            \n",
    "##### parse_triple must required to create entity before a type relaxation rule can be applied"
   ]
  },
  {
   "cell_type": "code",
   "execution_count": 1,
   "metadata": {},
   "outputs": [],
   "source": [
    "from utils import *\n",
    "from type_relaxation import *"
   ]
  },
  {
   "cell_type": "code",
   "execution_count": 3,
   "metadata": {},
   "outputs": [],
   "source": [
    "def test(triple):\n",
    "    entity = parse_triple(triple)\n",
    "\n",
    "    upper_class = ApplyRule_UpperClass(entity)\n",
    "    lower_class = ApplyRule_LowerClass(entity)\n",
    "    sibling_class = ApplyRule_SiblingClass(entity)\n",
    "    \n",
    "    return upper_class, lower_class, sibling_class"
   ]
  },
  {
   "cell_type": "code",
   "execution_count": 4,
   "metadata": {},
   "outputs": [
    {
     "name": "stdout",
     "output_type": "stream",
     "text": [
      "UPPER CLASS:\n",
      "['System_Enable_Command']\n",
      "LOWER CLASS:\n",
      "['Reheat_Hot_Water_System', 'Discharge_Hot_Water', 'Heat_Recovery_Hot_Water_System', 'Domestic_Hot_Water_System_Enable_Command', 'Radiation_Hot_Water_System', 'Return_Hot_Water', 'Supply_Hot_Water', 'Preheat_Hot_Water_System']\n",
      "SIBLING CLASS:\n",
      "['Lighting_System', 'Heating_Ventilation_Air_Conditioning_System', 'Electrical_System', 'Safety_System', 'Shading_System', 'Chilled_Water_System_Enable_Command', 'Domestic_Hot_Water_System', 'Gas_System']\n"
     ]
    }
   ],
   "source": [
    "triple = [\"?Sensor\",  \"rdf:type\", \"brick:Hot_Water_System_Enable_Command\"]\n",
    "upper, lower, sibling = test(triple)\n",
    "print(\"UPPER CLASS:\")\n",
    "print(upper)\n",
    "print(\"LOWER CLASS:\")\n",
    "print(lower)\n",
    "print(\"SIBLING CLASS:\")\n",
    "print(sibling)"
   ]
  },
  {
   "cell_type": "code",
   "execution_count": 5,
   "metadata": {},
   "outputs": [
    {
     "name": "stdout",
     "output_type": "stream",
     "text": [
      "UPPER CLASS:\n",
      "['Sensor']\n",
      "LOWER CLASS:\n",
      "['Peak_Power_Demand_Sensor', 'Heating_Demand_Sensor', 'Cooling_Demand_Sensor']\n",
      "SIBLING CLASS:\n",
      "['Conductivity_Sensor', 'Frost_Sensor', 'Flow_Sensor', 'Piezoelectric_Sensor', 'Capacity_Sensor', 'Torque_Sensor', 'Voltage_Sensor', 'Direction_Sensor', 'Pressure_Sensor', 'Speed_Sensor', 'Temperature_Sensor', 'Rain_Sensor', 'Motion_Sensor', 'Power_Sensor', 'Angle_Sensor', 'Luminance_Sensor', 'Contact_Sensor', 'Occupancy_Sensor', 'Enthalpy_Sensor', 'Dewpoint_Sensor', 'Current_Sensor', 'Hail_Sensor', 'Gas_Sensor', 'Frequency_Sensor', 'Particulate_Matter_Sensor', 'Usage_Sensor', 'Adjust_Sensor', 'Energy_Sensor', 'Air_Grains_Sensor', 'Humidity_Sensor', 'Illuminance_Sensor', 'Fire_Sensor', 'Duration_Sensor', 'Heat_Sensor', 'Water_Level_Sensor', 'Solar_Radiance_Sensor', 'Position_Sensor']\n"
     ]
    }
   ],
   "source": [
    "triple = [\"?Point\",  \"rdf:type\", \"brick:Demand_Sensor\"]\n",
    "upper, lower, sibling = test(triple)\n",
    "print(\"UPPER CLASS:\")\n",
    "print(upper)\n",
    "print(\"LOWER CLASS:\")\n",
    "print(lower)\n",
    "print(\"SIBLING CLASS:\")\n",
    "print(sibling)"
   ]
  },
  {
   "cell_type": "code",
   "execution_count": 6,
   "metadata": {},
   "outputs": [
    {
     "name": "stdout",
     "output_type": "stream",
     "text": [
      "UPPER CLASS:\n",
      "['Load_Shed_Status', 'Pressure_Status']\n",
      "LOWER CLASS:\n",
      "['Chilled_Water_Differential_Pressure_Load_Shed_Status', 'Medium_Temperature_Hot_Water_Differential_Pressure_Load_Shed_Status', 'Hot_Water_Differential_Pressure_Load_Shed_Status']\n",
      "SIBLING CLASS:\n",
      "['Supply_Air_Duct_Pressure_Status', 'Hot_Water_Discharge_Temperature_Load_Shed_Status', 'Hot_Water_Supply_Temperature_Load_Shed_Status', 'Discharge_Air_Duct_Pressure_Status']\n"
     ]
    }
   ],
   "source": [
    "triple = [\"?Status\",  \"rdf:type\", 'brick:Differential_Pressure_Load_Shed_Status']\n",
    "upper, lower, sibling = test(triple)\n",
    "print(\"UPPER CLASS:\")\n",
    "print(upper)\n",
    "print(\"LOWER CLASS:\")\n",
    "print(lower)\n",
    "print(\"SIBLING CLASS:\")\n",
    "print(sibling)"
   ]
  },
  {
   "cell_type": "code",
   "execution_count": 7,
   "metadata": {},
   "outputs": [
    {
     "name": "stdout",
     "output_type": "stream",
     "text": [
      "UPPER CLASS:\n",
      "['Terminal_Unit']\n",
      "LOWER CLASS:\n",
      "[]\n",
      "SIBLING CLASS:\n",
      "['Constant_Air_Volume_Box', 'CAV', 'Radiator', 'Variable_Air_Volume_Box', 'FCU', 'Fan_Coil_Unit']\n"
     ]
    }
   ],
   "source": [
    "triple = [\"?Equipment\",  \"rdf:type\", 'brick:VAV']\n",
    "upper, lower, sibling = test(triple)\n",
    "print(\"UPPER CLASS:\")\n",
    "print(upper)\n",
    "print(\"LOWER CLASS:\")\n",
    "print(lower)\n",
    "print(\"SIBLING CLASS:\")\n",
    "print(sibling)"
   ]
  },
  {
   "cell_type": "code",
   "execution_count": null,
   "metadata": {},
   "outputs": [],
   "source": []
  }
 ],
 "metadata": {
  "kernelspec": {
   "display_name": "Python 3",
   "language": "python",
   "name": "python3"
  },
  "language_info": {
   "codemirror_mode": {
    "name": "ipython",
    "version": 3
   },
   "file_extension": ".py",
   "mimetype": "text/x-python",
   "name": "python",
   "nbconvert_exporter": "python",
   "pygments_lexer": "ipython3",
   "version": "3.8.5"
  }
 },
 "nbformat": 4,
 "nbformat_minor": 4
}
