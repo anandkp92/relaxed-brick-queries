{
 "cells": [
  {
   "cell_type": "code",
   "execution_count": 3,
   "metadata": {},
   "outputs": [],
   "source": [
    "import pymortar\n",
    "import glob\n",
    "URL = \"http://beta-api.mortardata.org\"\n",
    "c = pymortar.Client(URL)"
   ]
  },
  {
   "cell_type": "markdown",
   "metadata": {},
   "source": [
    "## Anands Example Code"
   ]
  },
  {
   "cell_type": "code",
   "execution_count": 8,
   "metadata": {},
   "outputs": [],
   "source": [
    "# Example Queries\n",
    "\n",
    "# query AHU, supply air temp sensor, and downstream zone, doesnt work\n",
    "query1 = \"\"\"SELECT ?ahu ?sat ?zone WHERE {\n",
    "    ?ahu a brick:AHU .\n",
    "    ?ahu brick:hasPart?/brick:hasPoint ?sat .\n",
    "    ?sat a brick:Supply_Air_Temperature_Sensor .\n",
    "    ?ahu brick:feeds+ ?zone .\n",
    "    ?zone a brick:HVAC_Zone\n",
    "}\"\"\"\n",
    "\n",
    "# damper position commands in VAVs, doesnt work\n",
    "query2 = \"\"\"SELECT ?vav ?cmd WHERE {\n",
    "    ?vav   a  brick:VAV .\n",
    "    ?vav   brick:hasPart?/brick:hasPoint ?cmd .\n",
    "    ?cmd a brick:Damper_Position_Command\n",
    "}\"\"\"\n",
    "\n",
    "# all air temperature sensors\n",
    "query3 = \"\"\"SELECT ?ats WHERE {\n",
    "    ?ats  a  brick:Air_Temperature_Sensor .\n",
    "}\"\"\"\n",
    "\n",
    "#c.sparql(query3)"
   ]
  },
  {
   "cell_type": "code",
   "execution_count": 25,
   "metadata": {},
   "outputs": [
    {
     "data": {
      "text/plain": [
       "<rdflib.plugins.sparql.processor.SPARQLResult at 0x127a92280>"
      ]
     },
     "execution_count": 25,
     "metadata": {},
     "output_type": "execute_result"
    }
   ],
   "source": [
    "g = brickschema.Graph(load_brick=True)\n",
    "query = \"\"\"SELECT ?afs ?afsp ?vav WHERE  {\n",
    "    ?afs    a       brick:Air_Flow_Sensor .\n",
    "    ?afsp   a       brick:Air_Flow_Setpoint .\n",
    "    ?afs    brick:isPointOf ?vav .\n",
    "    ?afsp   brick:isPointOf ?vav .\n",
    "    ?vav    a   brick:VAV\n",
    "}\"\"\"\n",
    "g.query(query)"
   ]
  },
  {
   "cell_type": "code",
   "execution_count": null,
   "metadata": {},
   "outputs": [],
   "source": [
    "brickschema.Graph(load_brick=True)"
   ]
  },
  {
   "cell_type": "code",
   "execution_count": 11,
   "metadata": {},
   "outputs": [],
   "source": [
    "def extract_triples(query): \n",
    "    triples = []\n",
    "    where_clause = query.split('{')[1].split('}')[0]\n",
    "    for where_line in where_clause.split('.'):\n",
    "        line = where_line.strip()\n",
    "        triple = []\n",
    "        count = 0\n",
    "        for i in line.split(' '):\n",
    "            i = i.strip()\n",
    "            \n",
    "            if i!= \"\" and i!= \" \" and i!= \"\\n\":\n",
    "                if count == 0:\n",
    "                    triple.append(i)\n",
    "                elif count == 1:\n",
    "                    triple.append(i)\n",
    "                elif count == 2:\n",
    "                    triple.append(i)\n",
    "                count+=1\n",
    "        triples.append(triple)\n",
    "    return triples"
   ]
  },
  {
   "cell_type": "code",
   "execution_count": 12,
   "metadata": {},
   "outputs": [
    {
     "data": {
      "text/plain": [
       "[['?afs', 'a', 'brick:Air_Flow_Sensor'],\n",
       " ['?afsp', 'a', 'brick:Air_Flow_Setpoint'],\n",
       " ['?afs', 'brick:isPointOf', '?vav'],\n",
       " ['?afsp', 'brick:isPointOf', '?vav'],\n",
       " ['?vav', 'a', 'brick:VAV']]"
      ]
     },
     "execution_count": 12,
     "metadata": {},
     "output_type": "execute_result"
    }
   ],
   "source": [
    "query = \"\"\"SELECT ?afs ?afsp ?vav WHERE  {\n",
    "    ?afs    a       brick:Air_Flow_Sensor .\n",
    "    ?afsp   a       brick:Air_Flow_Setpoint .\n",
    "    ?afs    brick:isPointOf ?vav .\n",
    "    ?afsp   brick:isPointOf ?vav .\n",
    "    ?vav    a   brick:VAV\n",
    "}\"\"\"\n",
    "extract_triples(query)"
   ]
  },
  {
   "cell_type": "markdown",
   "metadata": {},
   "source": [
    "## 1.1.1.1 ApplyRule_UpperClass() \n",
    "\n",
    "\t\t\tInput: A triple pattern t (?x, type, C), Brick.ttl\n",
    "\t\t\tOutput: A relaxed triple t’ such that if C is a subclass of C1, \n",
    "\t\t\tt’= (?x, type, C1) "
   ]
  },
  {
   "cell_type": "code",
   "execution_count": 199,
   "metadata": {},
   "outputs": [],
   "source": [
    "\n",
    "def ApplyRule_UpperClass(query, level, file_path):\n",
    "    \"\"\"\n",
    "    Inputs:\n",
    "        Query Input: \"SELECT ?x WHERE{ ?x rdf:type brick:C}\"\n",
    "        Level = specifies how many upper classes to be extracted, level = 1, level = 2, etc.. or 'max'\n",
    "        file_path = path to Brick ontology ttl file\n",
    "    \n",
    "    Output: A relaxed triple(s) such that if C is a subclass of C1, \"{ ?x rdf:type brick:C1}\"\n",
    "    \"\"\"\n",
    "    # Parsing query to obtain brick:C\n",
    "    parse_query = query.split(' ')[-1].split('}')[0]\n",
    "    parse_front = query.split(' b')[0]\n",
    "    #print(parse_query)\n",
    "    \n",
    "    # Reading\n",
    "    f=open(file_path)\n",
    "    lines=f.readlines()\n",
    "    \n",
    "    # Initializing query output list\n",
    "    output = []\n",
    "    \n",
    "    # Loops until Cmax is Alarm, Command, Parameter, Sensor, Setpoint, Status\n",
    "    Cmax_list = [\"brick:Alarm\", \"brick:Command\", \"brick:Parameter\",\n",
    "                 \"brick:Sensor\", \"brick:Setpoint\", \"Brick:Status\"]\n",
    "        \n",
    "    with open(file_path) as file:\n",
    "        for num, line in enumerate(file):\n",
    "            if re.search(parse_query, line) and re.search('owl:Class', line):\n",
    "                #print(line)\n",
    "                sub_lines = lines[num:]\n",
    "                        \n",
    "                matching = [sub_lines[num_1+1] for num_1, s in enumerate(sub_lines) if 'subClassOf' in s]\n",
    "                upper_1  = \"_\".join(re.findall(\"[a-zA-Z]+\", matching[0]))\n",
    "                upper_1 = upper_1.replace('_', ':', 1)\n",
    "                \n",
    "                upper_C = parse_front + ' '+upper_1+\"}\"\n",
    "                output.append(upper_C)\n",
    "                \n",
    "                # Update Query\n",
    "                parse_query = upper_1\n",
    "                        \n",
    "                if parse_query in Cmax_list:\n",
    "                    break\n",
    "    print(\"Input Query:\")\n",
    "    print(query)\n",
    "    print('\\n')\n",
    "    print(\"UpperClass Output:\")\n",
    "    \n",
    "    if level == 'max':\n",
    "        for i in output:\n",
    "            print(i)\n",
    "    \n",
    "    else:\n",
    "        if level > len(output):\n",
    "            print(\"Level input greater than highest possible UpperClass, set level = 'max' \")\n",
    "        else:\n",
    "            for i in output[:level]:\n",
    "                print(i)\n",
    "    \n",
    "    return output"
   ]
  },
  {
   "cell_type": "code",
   "execution_count": 200,
   "metadata": {
    "scrolled": false
   },
   "outputs": [
    {
     "name": "stdout",
     "output_type": "stream",
     "text": [
      "Input Query:\n",
      "{?sensor  rdf:type brick:Chilled_Water_Pump_Differential_Pressure_Deadband_Setpoint}\n",
      "\n",
      "\n",
      "UpperClass Output:\n",
      "{?sensor  rdf:type brick:Chilled_Water_Differential_Pressure_Deadband_Setpoint}\n",
      "{?sensor  rdf:type brick:Chilled_Water_Differential_Pressure_Setpoint}\n",
      "{?sensor  rdf:type brick:Differential_Pressure_Setpoint}\n",
      "{?sensor  rdf:type brick:Pressure_Setpoint}\n"
     ]
    }
   ],
   "source": [
    "query = \"{?sensor  rdf:type brick:Chilled_Water_Pump_Differential_Pressure_Deadband_Setpoint}\"\n",
    "level = 'max'\n",
    "file_path = 'Brick.ttl'\n",
    "\n",
    "test = ApplyRule_UpperClass(query, level, file_path)"
   ]
  },
  {
   "cell_type": "code",
   "execution_count": 201,
   "metadata": {},
   "outputs": [
    {
     "name": "stdout",
     "output_type": "stream",
     "text": [
      "Input Query:\n",
      "{?sensor  rdf:type brick:CO2_Sensor}\n",
      "\n",
      "\n",
      "UpperClass Output:\n",
      "{?sensor  rdf:type brick:Particulate_Matter_Sensor}\n",
      "{?sensor  rdf:type brick:Sensor}\n"
     ]
    }
   ],
   "source": [
    "query = \"{?sensor  rdf:type brick:CO2_Sensor}\"\n",
    "level = 'max'\n",
    "file_path = 'Brick.ttl'\n",
    "\n",
    "test = ApplyRule_UpperClass(query, level, file_path)"
   ]
  },
  {
   "cell_type": "code",
   "execution_count": null,
   "metadata": {},
   "outputs": [],
   "source": []
  }
 ],
 "metadata": {
  "kernelspec": {
   "display_name": "Python 3",
   "language": "python",
   "name": "python3"
  },
  "language_info": {
   "codemirror_mode": {
    "name": "ipython",
    "version": 3
   },
   "file_extension": ".py",
   "mimetype": "text/x-python",
   "name": "python",
   "nbconvert_exporter": "python",
   "pygments_lexer": "ipython3",
   "version": "3.8.5"
  }
 },
 "nbformat": 4,
 "nbformat_minor": 4
}
