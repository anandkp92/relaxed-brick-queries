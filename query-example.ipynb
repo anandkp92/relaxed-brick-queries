{
 "cells": [
  {
   "cell_type": "code",
   "execution_count": 1,
   "metadata": {},
   "outputs": [],
   "source": [
    "import pymortar\n",
    "import glob\n",
    "URL = \"http://beta-api.mortardata.org\"\n",
    "c = pymortar.Client(URL)"
   ]
  },
  {
   "cell_type": "code",
   "execution_count": 2,
   "metadata": {},
   "outputs": [],
   "source": [
    "# query AHU, supply air temp sensor, and downstream zone\n",
    "query1 = \"\"\"SELECT ?ahu ?sat ?zone WHERE {\n",
    "    ?ahu a brick:AHU .\n",
    "    ?ahu brick:hasPart?/brick:hasPoint ?sat .\n",
    "    ?sat a brick:Supply_Air_Temperature_Sensor .\n",
    "    ?ahu brick:feeds+ ?zone .\n",
    "    ?zone a brick:HVAC_Zone\n",
    "}\"\"\"\n",
    "\n",
    "# damper position commands in VAVs\n",
    "query2 = \"\"\"SELECT ?vav ?cmd WHERE {\n",
    "    ?vav   a  brick:VAV .\n",
    "    ?vav   brick:hasPart?/brick:hasPoint ?cmd .\n",
    "    ?cmd a brick:Damper_Position_Command\n",
    "}\"\"\"\n",
    "\n",
    "# all air temperature sensors\n",
    "query3 = \"\"\"SELECT ?ats WHERE {\n",
    "    ?ats  a  brick:Air_Temperature_Sensor .\n",
    "}\"\"\""
   ]
  },
  {
   "cell_type": "code",
   "execution_count": 3,
   "metadata": {},
   "outputs": [
    {
     "data": {
      "text/html": [
       "<div>\n",
       "<style scoped>\n",
       "    .dataframe tbody tr th:only-of-type {\n",
       "        vertical-align: middle;\n",
       "    }\n",
       "\n",
       "    .dataframe tbody tr th {\n",
       "        vertical-align: top;\n",
       "    }\n",
       "\n",
       "    .dataframe thead th {\n",
       "        text-align: right;\n",
       "    }\n",
       "</style>\n",
       "<table border=\"1\" class=\"dataframe\">\n",
       "  <thead>\n",
       "    <tr style=\"text-align: right;\">\n",
       "      <th></th>\n",
       "      <th>ats</th>\n",
       "    </tr>\n",
       "  </thead>\n",
       "  <tbody>\n",
       "    <tr>\n",
       "      <th>0</th>\n",
       "      <td>http://buildsys.org/ontologies/GHA_ICS#GHA_ICS...</td>\n",
       "    </tr>\n",
       "    <tr>\n",
       "      <th>1</th>\n",
       "      <td>http://buildsys.org/ontologies/LFH#LFH.AHU.S2....</td>\n",
       "    </tr>\n",
       "    <tr>\n",
       "      <th>2</th>\n",
       "      <td>http://buildsys.org/ontologies/CHEMX#CHEMX.ZON...</td>\n",
       "    </tr>\n",
       "    <tr>\n",
       "      <th>3</th>\n",
       "      <td>http://buildsys.org/ontologies/VM3A#VM3A.ZONE....</td>\n",
       "    </tr>\n",
       "    <tr>\n",
       "      <th>4</th>\n",
       "      <td>http://buildsys.org/ontologies/BWFP#BWFP.ZONE....</td>\n",
       "    </tr>\n",
       "    <tr>\n",
       "      <th>...</th>\n",
       "      <td>...</td>\n",
       "    </tr>\n",
       "    <tr>\n",
       "      <th>3219</th>\n",
       "      <td>http://buildsys.org/ontologies/GHA_ICS#GHA_ICS...</td>\n",
       "    </tr>\n",
       "    <tr>\n",
       "      <th>3220</th>\n",
       "      <td>http://buildsys.org/ontologies/CHEM#CHEM.ZONE....</td>\n",
       "    </tr>\n",
       "    <tr>\n",
       "      <th>3221</th>\n",
       "      <td>http://buildsys.org/ontologies/DH#DH.AHU.AHU02...</td>\n",
       "    </tr>\n",
       "    <tr>\n",
       "      <th>3222</th>\n",
       "      <td>http://buildsys.org/ontologies/GBSF#GBSF.ZONE....</td>\n",
       "    </tr>\n",
       "    <tr>\n",
       "      <th>3223</th>\n",
       "      <td>http://buildsys.org/ontologies/STOR#STOR.ZONE....</td>\n",
       "    </tr>\n",
       "  </tbody>\n",
       "</table>\n",
       "<p>3224 rows × 1 columns</p>\n",
       "</div>"
      ],
      "text/plain": [
       "                                                    ats\n",
       "0     http://buildsys.org/ontologies/GHA_ICS#GHA_ICS...\n",
       "1     http://buildsys.org/ontologies/LFH#LFH.AHU.S2....\n",
       "2     http://buildsys.org/ontologies/CHEMX#CHEMX.ZON...\n",
       "3     http://buildsys.org/ontologies/VM3A#VM3A.ZONE....\n",
       "4     http://buildsys.org/ontologies/BWFP#BWFP.ZONE....\n",
       "...                                                 ...\n",
       "3219  http://buildsys.org/ontologies/GHA_ICS#GHA_ICS...\n",
       "3220  http://buildsys.org/ontologies/CHEM#CHEM.ZONE....\n",
       "3221  http://buildsys.org/ontologies/DH#DH.AHU.AHU02...\n",
       "3222  http://buildsys.org/ontologies/GBSF#GBSF.ZONE....\n",
       "3223  http://buildsys.org/ontologies/STOR#STOR.ZONE....\n",
       "\n",
       "[3224 rows x 1 columns]"
      ]
     },
     "execution_count": 3,
     "metadata": {},
     "output_type": "execute_result"
    }
   ],
   "source": [
    "c.sparql(query3)"
   ]
  },
  {
   "cell_type": "code",
   "execution_count": null,
   "metadata": {},
   "outputs": [],
   "source": []
  }
 ],
 "metadata": {
  "kernelspec": {
   "display_name": "Python 3",
   "language": "python",
   "name": "python3"
  },
  "language_info": {
   "codemirror_mode": {
    "name": "ipython",
    "version": 3
   },
   "file_extension": ".py",
   "mimetype": "text/x-python",
   "name": "python",
   "nbconvert_exporter": "python",
   "pygments_lexer": "ipython3",
   "version": "3.8.3"
  }
 },
 "nbformat": 4,
 "nbformat_minor": 4
}
