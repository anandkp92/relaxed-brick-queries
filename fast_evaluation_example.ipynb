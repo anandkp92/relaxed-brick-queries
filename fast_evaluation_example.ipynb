{
 "cells": [
  {
   "cell_type": "code",
   "execution_count": 2,
   "metadata": {},
   "outputs": [],
   "source": [
    "import brickschema\n",
    "from brickschema.namespaces import BRICK, RDFS, OWL, TAG, RDF, SH\n",
    "from rdflib import URIRef\n",
    "import networkx\n",
    "\n",
    "from utils import *\n",
    "from rules.relationship_relaxation import *\n",
    "from rules.type_relaxation import *\n",
    "from relaxation_graphs.fast_relaxation_graph import *\n",
    "from evaluation.metrics_fast import *\n",
    "\n",
    "# Not ideal visual just validation\n",
    "import matplotlib.pyplot as plt\n",
    "import networkx as nx\n",
    "import datetime\n",
    "import os\n",
    "import pickle\n",
    "\n",
    "import pymortar\n",
    "from queries.mortar import queries as q1\n",
    "from queries.cbe import queries as q2\n",
    "from queries.nrel import queries as q3\n",
    "\n",
    "brick_graph = brickschema.Graph(load_brick=True)\n",
    "query_bank = q1 + q2 + q3"
   ]
  },
  {
   "cell_type": "code",
   "execution_count": 3,
   "metadata": {},
   "outputs": [],
   "source": [
    "files = os.listdir('Data - Brick models/')\n",
    "brick_models = []\n",
    "\n",
    "with open(\"brick_models.pkl\", 'rb') as fp:\n",
    "    brick_models = pickle.load(fp)\n",
    "    "
   ]
  },
  {
   "cell_type": "code",
   "execution_count": 3,
   "metadata": {},
   "outputs": [],
   "source": [
    "# for file in files:\n",
    "#     if file.endswith(\".ttl\"):\n",
    "#         g = brickschema.Graph(load_brick=True)\n",
    "#         g.load_file('Data - Brick models/'+file)\n",
    "#         g.expand(profile=\"owlrl\")\n",
    "#         brick_models.append(g)\n",
    "\n",
    "# with open(\"brick_models.pkl\", 'wb') as fp:\n",
    "#     pickle.dump(brick_models, fp)\n"
   ]
  },
  {
   "cell_type": "code",
   "execution_count": 4,
   "metadata": {},
   "outputs": [
    {
     "name": "stdout",
     "output_type": "stream",
     "text": [
      "SELECT * WHERE { ?s ?p ?o }\n",
      "{'graph': <networkx.classes.graph.Graph object at 0x7ff1f8f29190>, 'relaxation_time': 0.000653, 'query_size': 1}\n",
      "SELECT ?point ?point_type WHERE {\n",
      "    ?point rdf:type brick:Point .\n",
      "    ?point rdf:type ?point_type \n",
      "}\n",
      "{'graph': <networkx.classes.graph.Graph object at 0x7ff2094e2a00>, 'relaxation_time': 0.000161, 'query_size': 2}\n",
      "SELECT ?meter WHERE { ?meter rdf:type brick:Green_Button_Meter }\n",
      "{'graph': <networkx.classes.graph.Graph object at 0x7ff248180070>, 'relaxation_time': 0.000393, 'query_size': 1}\n",
      " SELECT ?t WHERE { ?t rdf:type brick:Weather_Temperature_Sensor }\n",
      "{'graph': <networkx.classes.graph.Graph object at 0x7ff2094e2820>, 'relaxation_time': 0.000144, 'query_size': 1}\n",
      "SELECT ?sensor WHERE {\n",
      "    ?sensor rdf:type brick:Zone_Air_Temperature_Sensor .\n",
      "    ?sensor brick:isPointOf ?equip \n",
      "}\n",
      "{'graph': <networkx.classes.graph.Graph object at 0x7ff2094e2ac0>, 'relaxation_time': 0.000752, 'query_size': 2}\n",
      "SELECT ?sp WHERE {\n",
      "    ?sp rdf:type brick:Zone_Air_Temperature_Setpoint .\n",
      "    ?sp brick:isPointOf ?equip\n",
      "}\n",
      "{'graph': <networkx.classes.graph.Graph object at 0x7ff22838c730>, 'relaxation_time': 0.000612, 'query_size': 2}\n",
      "SELECT ?meter WHERE { ?meter rdf:type brick:Building_Electric_Meter }\n",
      "{'graph': <networkx.classes.graph.Graph object at 0x7ff22838c340>, 'relaxation_time': 0.000324, 'query_size': 1}\n",
      "SELECT ?point WHERE { ?point rdf:type brick:Occupancy_Sensor }\n",
      "{'graph': <networkx.classes.graph.Graph object at 0x7ff1f8f29490>, 'relaxation_time': 0.000326, 'query_size': 1}\n",
      "SELECT ?tstat ?room ?zone ?state ?temp ?hsp ?csp WHERE {\n",
      "            ?tstat brick:hasLocation ?room .\n",
      "            ?zone brick:hasPart ?room .\n",
      "            ?tstat brick:hasPoint ?state .\n",
      "            ?tstat brick:hasPoint ?temp .\n",
      "            ?tstat brick:hasPoint ?hsp .\n",
      "            ?tstat brick:hasPoint ?csp .\n",
      "            ?zone rdf:type brick:Zone .\n",
      "            ?tstat rdf:type brick:Thermostat .\n",
      "            ?state rdf:type brick:Thermostat_Status .\n",
      "            ?temp  rdf:type brick:Temperature_Sensor  .\n",
      "            ?hsp   rdf:type brick:Supply_Air_Temperature_Heating_Setpoint .\n",
      "            ?csp   rdf:type brick:Supply_Air_Temperature_Cooling_Setpoint\n",
      "        }\n",
      "    \n",
      "{'graph': <networkx.classes.graph.Graph object at 0x7ff2094e26d0>, 'relaxation_time': 0.005754, 'query_size': 12}\n",
      "SELECT ?sensor ?sp ?equip WHERE {\n",
      "    ?sensor    rdf:type     brick:Air_Flow_Sensor .\n",
      "    ?sp    rdf:type     brick:Air_Flow_Setpoint .\n",
      "    ?sensor    brick:isPointOf ?equip .\n",
      "    ?sp    brick:isPointOf ?equip\n",
      "}\n",
      "{'graph': <networkx.classes.graph.Graph object at 0x7ff22838c790>, 'relaxation_time': 0.001561, 'query_size': 4}\n",
      "SELECT ?cooling_point ?heating_point ?ahu WHERE {\n",
      "        ?cooling_point rdf:type brick:Cooling_Valve_Command .\n",
      "        ?heating_point rdf:type brick:Heating_Valve_Command .\n",
      "        ?ahu brick:hasPoint ?cooling_point .\n",
      "        ?ahu brick:hasPoint ?heating_point\n",
      "    }\n",
      "{'graph': <networkx.classes.graph.Graph object at 0x7ff22838cd30>, 'relaxation_time': 0.00041, 'query_size': 4}\n",
      "SELECT * WHERE {\n",
      "    ?equip        rdf:type   brick:VAV .\n",
      "    ?equip        brick:isFedBy+                 ?ahu .\n",
      "    ?vlv          rdf:type                    ?vlv_type .\n",
      "    ?ahu          brick:hasPoint                 ?upstream_ta .\n",
      "    ?equip        brick:hasPoint                 ?dnstream_ta .\n",
      "    ?upstream_ta  rdf:type   brick:Supply_Air_Temperature_Sensor .\n",
      "    ?dnstream_ta  rdf:type   brick:Supply_Air_Temperature_Sensor .\n",
      "    ?equip        brick:hasPoint                 ?vlv .\n",
      "    ?vlv          rdf:type   brick:Valve_Command\n",
      "}\n",
      "{'graph': <networkx.classes.graph.Graph object at 0x7ff2094e28e0>, 'relaxation_time': 0.001744, 'query_size': 9}\n",
      "SELECT * WHERE {\n",
      "        ?equip        rdf:type   brick:VAV .\n",
      "        ?equip        brick:hasPoint                 ?air_flow .\n",
      "        ?air_flow     rdf:type   brick:Supply_Air_Flow_Sensor\n",
      "    }\n",
      "{'graph': <networkx.classes.graph.Graph object at 0x7ff2094e2b20>, 'relaxation_time': 0.001315, 'query_size': 3}\n",
      "SELECT * WHERE {\n",
      "        ?vlv        rdf:type   brick:Valve_Command .\n",
      "        ?vlv        rdf:type                    ?vlv_type .\n",
      "        ?equip      brick:hasPoint                 ?vlv .\n",
      "        ?equip      rdf:type   brick:Air_Handling_Unit .\n",
      "        ?air_temps  rdf:type   brick:Supply_Air_Temperature_Sensor .\n",
      "        ?equip      brick:hasPoint                 ?air_temps .\n",
      "        ?air_temps  rdf:type                    ?temp_type\n",
      "    }\n",
      "{'graph': <networkx.classes.graph.Graph object at 0x7ff22838c6d0>, 'relaxation_time': 0.001099, 'query_size': 7}\n",
      "SELECT * WHERE {\n",
      "        ?vlv        rdf:type   brick:Valve_Command .\n",
      "        ?vlv        rdf:type                    ?vlv_type .\n",
      "        ?equip      brick:hasPoint                 ?vlv .\n",
      "        ?equip      rdf:type   brick:Air_Handling_Unit .\n",
      "        ?air_temps  rdf:type   brick:Return_Air_Temperature_Sensor .\n",
      "        ?equip      brick:hasPoint                 ?air_temps .\n",
      "        ?air_temps  rdf:type                    ?temp_type\n",
      "    }\n",
      "{'graph': <networkx.classes.graph.Graph object at 0x7ff2094e2a90>, 'relaxation_time': 0.00119, 'query_size': 7}\n",
      "SELECT ?vav WHERE {\n",
      "    ?vav rdf:type brick:VAV\n",
      "}\n",
      "{'graph': <networkx.classes.graph.Graph object at 0x7ff2094f3c70>, 'relaxation_time': 0.000274, 'query_size': 1}\n",
      "SELECT ?sensor ?room WHERE {\n",
      "    ?sensor rdf:type brick:Zone_Temperature_Sensor .\n",
      "    ?room rdf:type brick:Room .\n",
      "    ?vav rdf:type brick:VAV .\n",
      "    ?zone rdf:type brick:HVAC_Zone .\n",
      "    ?vav brick:feeds+ ?zone .\n",
      "    ?zone brick:hasPart ?room .\n",
      "    ?vav brick:hasPoint ?sensor\n",
      "}\n",
      "{'graph': <networkx.classes.graph.Graph object at 0x7ff2094f3df0>, 'relaxation_time': 0.001323, 'query_size': 7}\n",
      "SELECT ?floor ?room ?zone WHERE {\n",
      "    ?floor rdf:type brick:Floor .\n",
      "    ?room rdf:type brick:Room .\n",
      "    ?zone rdf:type brick:HVAC_Zone .\n",
      "\n",
      "    ?room brick:isPartOf+ ?floor .\n",
      "    ?room brick:isPartOf+ ?zone\n",
      "}\n",
      "{'graph': <networkx.classes.graph.Graph object at 0x7ff2094f3be0>, 'relaxation_time': 0.006053, 'query_size': 5}\n"
     ]
    }
   ],
   "source": [
    "max_level = 5\n",
    "query_metrics = {}\n",
    "for query in q1:\n",
    "    print(query)\n",
    "    start_time = datetime.datetime.now()\n",
    "    G = get_fast_relaxed_graph(query=query, max_level=max_level)\n",
    "    end_time = datetime.datetime.now()\n",
    "    query_metrics[query]={'graph': G}\n",
    "    query_metrics[query]['relaxation_time']  = (end_time-start_time).total_seconds()\n",
    "    query_metrics[query]['query_size'] = len(extract_triples(query))\n",
    "    print(query_metrics[query])"
   ]
  },
  {
   "cell_type": "code",
   "execution_count": 5,
   "metadata": {},
   "outputs": [],
   "source": [
    "buildings = brick_models[:5]"
   ]
  },
  {
   "cell_type": "code",
   "execution_count": null,
   "metadata": {},
   "outputs": [
    {
     "name": "stdout",
     "output_type": "stream",
     "text": [
      "{'graph': <networkx.classes.graph.Graph object at 0x7ff1f8f29190>, 'relaxation_time': 0.000653, 'query_size': 1, 'building_nodes_with_data': {0: 9, 1: 13, 2: 13, 3: 13, 4: 13}, 'size_relaxed_graph': 17}\n",
      "{'graph': <networkx.classes.graph.Graph object at 0x7ff2094e2a00>, 'relaxation_time': 0.000161, 'query_size': 2, 'building_nodes_with_data': {0: 1, 1: 1, 2: 1, 3: 1, 4: 1}, 'size_relaxed_graph': 1}\n",
      "{'graph': <networkx.classes.graph.Graph object at 0x7ff248180070>, 'relaxation_time': 0.000393, 'query_size': 1, 'building_nodes_with_data': {0: 0, 1: 0, 2: 0, 3: 0, 4: 0}, 'size_relaxed_graph': 2}\n",
      "{'graph': <networkx.classes.graph.Graph object at 0x7ff2094e2820>, 'relaxation_time': 0.000144, 'query_size': 1, 'building_nodes_with_data': {0: 0, 1: 0, 2: 0, 3: 0, 4: 0}, 'size_relaxed_graph': 2}\n",
      "{'graph': <networkx.classes.graph.Graph object at 0x7ff2094e2ac0>, 'relaxation_time': 0.000752, 'query_size': 2, 'building_nodes_with_data': {0: 12, 1: 12, 2: 12, 3: 12, 4: 12}, 'size_relaxed_graph': 12}\n",
      "{'graph': <networkx.classes.graph.Graph object at 0x7ff22838c730>, 'relaxation_time': 0.000612, 'query_size': 2, 'building_nodes_with_data': {0: 9, 1: 12, 2: 9, 3: 12, 4: 12}, 'size_relaxed_graph': 12}\n",
      "{'graph': <networkx.classes.graph.Graph object at 0x7ff22838c340>, 'relaxation_time': 0.000324, 'query_size': 1, 'building_nodes_with_data': {0: 0, 1: 2, 2: 0, 3: 0, 4: 0}, 'size_relaxed_graph': 2}\n",
      "{'graph': <networkx.classes.graph.Graph object at 0x7ff1f8f29490>, 'relaxation_time': 0.000326, 'query_size': 1, 'building_nodes_with_data': {0: 3, 1: 3, 2: 3, 3: 3, 4: 3}, 'size_relaxed_graph': 5}\n",
      "{'graph': <networkx.classes.graph.Graph object at 0x7ff2094e26d0>, 'relaxation_time': 0.005754, 'query_size': 12, 'building_nodes_with_data': {0: 0, 1: 0, 2: 0, 3: 0, 4: 0}, 'size_relaxed_graph': 1}\n",
      "{'graph': <networkx.classes.graph.Graph object at 0x7ff22838c790>, 'relaxation_time': 0.001561, 'query_size': 4, 'building_nodes_with_data': {0: 5, 1: 24, 2: 5, 3: 24, 4: 5}, 'size_relaxed_graph': 60}\n",
      "{'graph': <networkx.classes.graph.Graph object at 0x7ff22838cd30>, 'relaxation_time': 0.00041, 'query_size': 4, 'building_nodes_with_data': {0: 0, 1: 0, 2: 0, 3: 0, 4: 0}, 'size_relaxed_graph': 5}\n",
      "{'graph': <networkx.classes.graph.Graph object at 0x7ff2094e28e0>, 'relaxation_time': 0.001744, 'query_size': 9, 'building_nodes_with_data': {0: 0, 1: 0, 2: 0, 3: 0, 4: 0}, 'size_relaxed_graph': 1}\n",
      "{'graph': <networkx.classes.graph.Graph object at 0x7ff2094e2b20>, 'relaxation_time': 0.001315, 'query_size': 3, 'building_nodes_with_data': {0: 1, 1: 36, 2: 9, 3: 36, 4: 9}, 'size_relaxed_graph': 36}\n",
      "{'graph': <networkx.classes.graph.Graph object at 0x7ff22838c6d0>, 'relaxation_time': 0.001099, 'query_size': 7, 'building_nodes_with_data': {0: 1, 1: 1, 2: 0, 3: 1, 4: 1}, 'size_relaxed_graph': 1}\n",
      "{'graph': <networkx.classes.graph.Graph object at 0x7ff2094e2a90>, 'relaxation_time': 0.00119, 'query_size': 7, 'building_nodes_with_data': {0: 1, 1: 1, 2: 1, 3: 1, 4: 1}, 'size_relaxed_graph': 1}\n",
      "{'graph': <networkx.classes.graph.Graph object at 0x7ff2094f3c70>, 'relaxation_time': 0.000274, 'query_size': 1, 'building_nodes_with_data': {0: 3, 1: 6, 2: 6, 3: 6, 4: 6}, 'size_relaxed_graph': 6}\n",
      "{'graph': <networkx.classes.graph.Graph object at 0x7ff2094f3df0>, 'relaxation_time': 0.001323, 'query_size': 7, 'building_nodes_with_data': {0: 0, 1: 0, 2: 0, 3: 0, 4: 0}, 'size_relaxed_graph': 1}\n"
     ]
    }
   ],
   "source": [
    "for query in q1:\n",
    "    relaxed_graph = query_metrics[query]['graph']\n",
    "    select_statement = query.split(\"{\")[0] + \"{\\n\"\n",
    "    \n",
    "    building_nodes_with_data = {}\n",
    "    for building_idx in range(len(buildings)):\n",
    "        building_model = buildings[building_idx]\n",
    "        nodes_with_data= []\n",
    "        \n",
    "        for node_idx, node in relaxed_graph.nodes().data():\n",
    "            brick_query = generate_brick_query_from_node(node['query'], select_statement=select_statement)\n",
    "            res = run_brick_query(building_model=building_model, query=brick_query)\n",
    "\n",
    "            if len(res) > 0:\n",
    "                nodes_with_data.append(node)\n",
    "        building_nodes_with_data[building_idx] = len(nodes_with_data)\n",
    "    query_metrics[query]['building_nodes_with_data'] = building_nodes_with_data\n",
    "    query_metrics[query]['size_relaxed_graph'] = len(relaxed_graph.nodes())\n",
    "    print(query_metrics[query])"
   ]
  },
  {
   "cell_type": "code",
   "execution_count": null,
   "metadata": {},
   "outputs": [],
   "source": [
    "# file = \"Data - Brick models/artx.ttl\"\n",
    "\n",
    "q1 = \"\"\"SELECT ?damper ?vav WHERE {\n",
    "    ?damper   rdf:type   brick:Damper . \n",
    "    ?vav    rdf:type   brick:VAV . \n",
    "    ?damper   brick:isPartOf  ?vav   \n",
    "}\"\"\"\n",
    "\n",
    "# q2 = \"\"\"SELECT ?damper ?vav WHERE {\n",
    "#     ?damper   rdf:type   brick:Damper .\n",
    "#     ?vav      rdf:type   brick:VAV .\n",
    "#     ?damper   brick:isPartOf  ?vav  \n",
    "# }\"\"\""
   ]
  },
  {
   "cell_type": "code",
   "execution_count": null,
   "metadata": {},
   "outputs": [],
   "source": [
    "# q1_res = get_fast_evaluation_metrics(file=\"Data - Brick models/artx.ttl\", query=q1)\n",
    "# q1_res"
   ]
  },
  {
   "cell_type": "code",
   "execution_count": 12,
   "metadata": {},
   "outputs": [
    {
     "name": "stdout",
     "output_type": "stream",
     "text": [
      "SELECT ?damper ?vav WHERE {\n",
      "    ?damper   rdf:type   brick:Damper . \n",
      "    ?vav    rdf:type   brick:VAV . \n",
      "    ?damper   brick:isPartOf  ?vav   \n",
      "}\n"
     ]
    }
   ],
   "source": [
    "c = pymortar.Client(\"https://beta-api.mortardata.org\")\n",
    "print(q1)\n",
    "sites = c.qualify([q1]).sites"
   ]
  },
  {
   "cell_type": "code",
   "execution_count": 16,
   "metadata": {},
   "outputs": [],
   "source": [
    "df = c.qualify([q1])"
   ]
  },
  {
   "cell_type": "code",
   "execution_count": null,
   "metadata": {},
   "outputs": [],
   "source": [
    "brickschema."
   ]
  }
 ],
 "metadata": {
  "kernelspec": {
   "display_name": "Python 3",
   "language": "python",
   "name": "python3"
  },
  "language_info": {
   "codemirror_mode": {
    "name": "ipython",
    "version": 3
   },
   "file_extension": ".py",
   "mimetype": "text/x-python",
   "name": "python",
   "nbconvert_exporter": "python",
   "pygments_lexer": "ipython3",
   "version": "3.8.3"
  }
 },
 "nbformat": 4,
 "nbformat_minor": 4
}
