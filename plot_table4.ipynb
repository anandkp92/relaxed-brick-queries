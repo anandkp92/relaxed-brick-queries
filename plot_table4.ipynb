{
 "cells": [
  {
   "cell_type": "code",
   "execution_count": 6,
   "metadata": {},
   "outputs": [],
   "source": [
    "import json\n",
    "import pandas as pd\n",
    "import matplotlib.pyplot as plt\n",
    "import matplotlib\n",
    "import brickschema\n",
    "import datetime\n",
    "from relaxation_graphs.fast_relaxation_graph import *\n",
    "from evaluation.similarity_score import *\n",
    "import uuid\n",
    "import pickle\n",
    "import time \n",
    "from rdflib import URIRef, Literal, BNode\n",
    "from queries.mortar import queries as q1\n",
    "%matplotlib inline"
   ]
  },
  {
   "cell_type": "code",
   "execution_count": 7,
   "metadata": {},
   "outputs": [],
   "source": [
    "font = {'family' : 'sans-serif',\n",
    "        'weight' : 'normal',\n",
    "        'size'   : 32}\n",
    "\n",
    "matplotlib.rc('font', **font)"
   ]
  },
  {
   "cell_type": "code",
   "execution_count": 8,
   "metadata": {},
   "outputs": [],
   "source": [
    "useful_queries = [\n",
    "\"\"\"SELECT ?sensor WHERE {\n",
    "    ?sensor rdf:type brick:Zone_Air_Temperature_Sensor .\n",
    "    ?sensor brick:isPointOf ?equip \n",
    "}\"\"\",\n",
    "\"\"\"SELECT ?sp WHERE {\n",
    "    ?sp rdf:type brick:Zone_Air_Temperature_Setpoint .\n",
    "    ?sp brick:isPointOf ?equip\n",
    "}\"\"\",\n",
    "\"\"\"SELECT ?sensor ?sp ?equip WHERE {\n",
    "    ?sensor  rdf:type     brick:Air_Flow_Sensor .\n",
    "    ?sp      rdf:type     brick:Air_Flow_Setpoint .\n",
    "    ?sensor  brick:isPointOf ?equip .\n",
    "    ?sp      brick:isPointOf ?equip\n",
    "}\"\"\",\n",
    "\"\"\"SELECT * WHERE {\n",
    "    ?equip    rdf:type  brick:VAV .\n",
    "    ?equip    brick:hasPoint  ?air_flow .\n",
    "    ?air_flow rdf:type   brick:Supply_Air_Flow_Sensor\n",
    "    }\"\"\",\n",
    "\"\"\"SELECT ?vav WHERE {\n",
    "    ?vav rdf:type brick:VAV\n",
    "}\"\"\",\n",
    "\"\"\"SELECT ?floor ?room WHERE {\n",
    "    ?floor rdf:type brick:Floor .\n",
    "    ?room rdf:type brick:Room .\n",
    "    ?room brick:isPartOf+ ?floor .\n",
    "}\"\"\",\n",
    "    \n",
    "\"\"\"SELECT * WHERE {\n",
    "    ?oat_damper a brick:Outside_Damper .\n",
    "    ?pos a brick:Damper_Position_Command .\n",
    "    ?oat_damper brick:hasPoint ?pos .\n",
    "    ?oat a brick:Outside_Air_Temperature_Sensor\n",
    "}\"\"\",\n",
    "    \n",
    "\"\"\"SELECT * WHERE {\n",
    "    ?equip   rdf:type  brick:VAV .\n",
    "    ?equip   brick:isFedBy  ?ahu .\n",
    "    ?ahu     brick:hasPoint  ?upstream_ta .\n",
    "    ?equip   brick:hasPoint  ?dnstream_ta .\n",
    "    ?upstream_ta  rdf:type brick:Supply_Air_Temperature_Sensor .\n",
    "    ?dnstream_ta  rdf:type brick:Supply_Air_Temperature_Sensor .\n",
    "    ?equip   brick:hasPoint  ?vlv .\n",
    "    ?vlv     rdf:type   brick:Valve_Command\n",
    "}\"\"\"\n",
    "]"
   ]
  },
  {
   "cell_type": "code",
   "execution_count": 9,
   "metadata": {},
   "outputs": [],
   "source": [
    "useful_buildings = [31, 35, 37]\n",
    "\n",
    "files = os.listdir('Data - Brick models/')\n",
    "brick_models = []\n",
    "\n",
    "with open(\"brick_models.pkl\", 'rb') as fp:\n",
    "    brick_models = pickle.load(fp)\n",
    "    "
   ]
  },
  {
   "cell_type": "code",
   "execution_count": 19,
   "metadata": {},
   "outputs": [
    {
     "name": "stdout",
     "output_type": "stream",
     "text": [
      "8\n",
      "8\n",
      "26\n",
      "17\n",
      "5\n",
      "28\n",
      "31\n",
      "421\n"
     ]
    }
   ],
   "source": [
    "i=0\n",
    "max_level=3\n",
    "for q in useful_queries:\n",
    "    count = 0\n",
    "    t = 0\n",
    "    st = time.time()\n",
    "    G = get_fast_relaxed_graph(query=q, max_level=max_level)\n",
    "    et = time.time()\n",
    "    t += (et-st)*1000\n",
    "    print(len(G))"
   ]
  },
  {
   "cell_type": "code",
   "execution_count": 11,
   "metadata": {},
   "outputs": [
    {
     "name": "stdout",
     "output_type": "stream",
     "text": [
      "0.49\n",
      "0.42\n",
      "0.8\n",
      "0.74\n",
      "0.19\n",
      "0.62\n",
      "0.95\n",
      "49.42\n"
     ]
    }
   ],
   "source": [
    "i=0\n",
    "for q in useful_queries:\n",
    "    count = 0\n",
    "    t = 0\n",
    "    while count < 100:\n",
    "        st = time.time()\n",
    "        G = get_fast_relaxed_graph(query=q, max_level=max_level)\n",
    "        et = time.time()\n",
    "        t += (et-st)*1000\n",
    "        count+=1\n",
    "    print(round(t/100, 2))"
   ]
  },
  {
   "cell_type": "code",
   "execution_count": null,
   "metadata": {},
   "outputs": [],
   "source": []
  }
 ],
 "metadata": {
  "kernelspec": {
   "display_name": "Python [conda env:root] *",
   "language": "python",
   "name": "conda-root-py"
  },
  "language_info": {
   "codemirror_mode": {
    "name": "ipython",
    "version": 3
   },
   "file_extension": ".py",
   "mimetype": "text/x-python",
   "name": "python",
   "nbconvert_exporter": "python",
   "pygments_lexer": "ipython3",
   "version": "3.8.3"
  }
 },
 "nbformat": 4,
 "nbformat_minor": 4
}
