{
 "cells": [
  {
   "cell_type": "code",
   "execution_count": 3,
   "metadata": {},
   "outputs": [],
   "source": [
    "import pymortar\n",
    "import glob\n",
    "URL = \"http://beta-api.mortardata.org\"\n",
    "c = pymortar.Client(URL)"
   ]
  },
  {
   "cell_type": "markdown",
   "metadata": {},
   "source": [
    "# 1.1.1 For Type relaxation rules\n",
    "\n",
    "## 1.1.1.1 ApplyRule_UpperClass() \n",
    "\n",
    "\t\t\tInput: A triple pattern t (?x, type, C[n])\n",
    "\t\t\tOutput: List of superclasses of C[n] (first layer)\n",
    "            ? A relaxed triple t’ such that if C[n] is a subclass of C[n+1], \n",
    "\t\t\tt’= (?x, type, C[n+1]) ?\n",
    "            \n",
    "## 1.1.1.2 ApplyRule_LowerClass() \n",
    "\n",
    "\t\t\tInput: A triple pattern t (?x, type, C[n])\n",
    "            Output: List of subclasses of C[n] (first layer)\n",
    "            ?A relaxed triple t’ such that if C[n] is a superclass of C[n+1], \n",
    "\t\t\tt’= (?x, type, C1)?\n",
    "            \n",
    "## 1.1.1.3 ApplyRule_SiblingClass()  \n",
    "            Input: A triple pattern t (?x, type, C[n])\n",
    "            Output: List of siblingclasses (contain same super class of C[n]) (first layer)"
   ]
  },
  {
   "cell_type": "code",
   "execution_count": 443,
   "metadata": {},
   "outputs": [],
   "source": [
    "import brickschema\n",
    "from brickschema.namespaces import BRICK, RDFS, OWL, TAG, RDF\n",
    "from rdflib import URIRef\n",
    "\n",
    "brick_graph = brickschema.Graph(load_brick=True)\n",
    "\n",
    "#From Anand's Code\n",
    "def get_namespace(x):\n",
    "    if ':' in x:\n",
    "        ns = x.split(':')[0]\n",
    "    else:\n",
    "        ns = 'brick'\n",
    "    if ns.lower() == 'brick':\n",
    "        return BRICK\n",
    "    elif ns.lower() == 'owl':\n",
    "        return OWL\n",
    "    elif ns.lower() == 'tag':\n",
    "        return TAG\n",
    "    elif ns.lower() == 'rdf':\n",
    "        return RDF\n",
    "    elif ns.lower() == 'rdfs':\n",
    "        return RDFS\n",
    "    elif ns.lower() == 'sh':\n",
    "        return SH\n",
    "##\n",
    "\n",
    "def ApplyRule_LowerClass(entity):\n",
    "    if entity is None:\n",
    "        return []\n",
    "    else:\n",
    "        lower_class = []\n",
    "        for subj, obj in brick_graph.subject_objects(predicate=RDFS.subClassOf):\n",
    "            if obj in entity:\n",
    "                thing = subj.rsplit('#')[-1]\n",
    "                lower_class.append(thing)\n",
    "        return lower_class\n",
    "\n",
    "def ApplyRule_UpperClass(entity):\n",
    "    upper_class = []\n",
    "    if entity is None:\n",
    "        return []\n",
    "    else:\n",
    "        super_classes = []\n",
    "        for sup in brick_graph.transitive_objects(subject=entity, property=RDFS['subClassOf']):\n",
    "            if isinstance(sup, URIRef):\n",
    "                thing = sup.rsplit('#')[-1]\n",
    "                super_classes.append(thing)\n",
    "        #Retriving first layer of upper_class\n",
    "        for upper in super_classes:\n",
    "            sub = BRICK[upper]\n",
    "            lower_list = ApplyRule_LowerClass(sub)\n",
    "            entity = entity.rsplit('#')[-1]\n",
    "            if entity in lower_list:\n",
    "                upper_class.append(upper)\n",
    "                \n",
    "        return upper_class \n",
    "\n",
    "def ApplyRule_SiblingClass(entity):\n",
    "    sibling_class = []\n",
    "    if entity is None:\n",
    "        return []\n",
    "    else:\n",
    "        upper_class = ApplyRule_UpperClass(entity)\n",
    "        for upper in upper_class:\n",
    "            upper = BRICK[upper]\n",
    "            lower_list = ApplyRule_LowerClass(upper)\n",
    "            sibling_class.extend(lower_list)\n",
    "    sibling_class = list(set(sibling_class))\n",
    "    entity = entity.rsplit('#')[-1]\n",
    "    sibling_class.remove(entity)\n",
    "    \n",
    "    return sibling_class\n"
   ]
  },
  {
   "cell_type": "code",
   "execution_count": 450,
   "metadata": {},
   "outputs": [],
   "source": [
    "def test(triple):\n",
    "    t0 = triple[2]\n",
    "    #Anands Codes\n",
    "    if t0[0] != '?':\n",
    "        sub_ns = get_namespace(t0.split(':')[0])\n",
    "        sub_entity = t0.split(':')[1]\n",
    "        sub = sub_ns[sub_entity]\n",
    "\n",
    "    upper_class = ApplyRule_UpperClass(entity=sub)\n",
    "    lower_class = ApplyRule_LowerClass(entity=sub)\n",
    "    sibling_class = ApplyRule_SiblingClass(entity=sub)\n",
    "    \n",
    "    return upper_class, lower_class, sibling_class"
   ]
  },
  {
   "cell_type": "code",
   "execution_count": 451,
   "metadata": {},
   "outputs": [
    {
     "name": "stdout",
     "output_type": "stream",
     "text": [
      "UPPER CLASS:\n",
      "['System_Enable_Command']\n",
      "LOWER CLASS:\n",
      "['Domestic_Hot_Water_System_Enable_Command', 'Discharge_Hot_Water', 'Preheat_Hot_Water_System', 'Heat_Recovery_Hot_Water_System', 'Supply_Hot_Water', 'Reheat_Hot_Water_System', 'Return_Hot_Water', 'Radiation_Hot_Water_System']\n",
      "SIBLING CLASS:\n",
      "['Shading_System', 'Chilled_Water_System_Enable_Command', 'Gas_System', 'Electrical_System', 'Lighting_System', 'Safety_System', 'Domestic_Hot_Water_System', 'Heating_Ventilation_Air_Conditioning_System']\n"
     ]
    }
   ],
   "source": [
    "triple = [\"?Sensor\",  \"rdf:type\", \"brick:Hot_Water_System_Enable_Command\"]\n",
    "upper, lower, sibling = test(triple)\n",
    "print(\"UPPER CLASS:\")\n",
    "print(upper)\n",
    "print(\"LOWER CLASS:\")\n",
    "print(lower)\n",
    "print(\"SIBLING CLASS:\")\n",
    "print(sibling)"
   ]
  },
  {
   "cell_type": "code",
   "execution_count": 452,
   "metadata": {},
   "outputs": [
    {
     "name": "stdout",
     "output_type": "stream",
     "text": [
      "UPPER CLASS:\n",
      "['Sensor']\n",
      "LOWER CLASS:\n",
      "['Heating_Demand_Sensor', 'Cooling_Demand_Sensor', 'Peak_Power_Demand_Sensor']\n",
      "SIBLING CLASS:\n",
      "['Power_Sensor', 'Torque_Sensor', 'Illuminance_Sensor', 'Fire_Sensor', 'Contact_Sensor', 'Energy_Sensor', 'Enthalpy_Sensor', 'Motion_Sensor', 'Conductivity_Sensor', 'Air_Grains_Sensor', 'Current_Sensor', 'Frequency_Sensor', 'Flow_Sensor', 'Adjust_Sensor', 'Dewpoint_Sensor', 'Position_Sensor', 'Rain_Sensor', 'Temperature_Sensor', 'Speed_Sensor', 'Direction_Sensor', 'Duration_Sensor', 'Pressure_Sensor', 'Occupancy_Sensor', 'Heat_Sensor', 'Piezoelectric_Sensor', 'Frost_Sensor', 'Solar_Radiance_Sensor', 'Humidity_Sensor', 'Angle_Sensor', 'Particulate_Matter_Sensor', 'Gas_Sensor', 'Voltage_Sensor', 'Usage_Sensor', 'Hail_Sensor', 'Water_Level_Sensor', 'Luminance_Sensor', 'Capacity_Sensor']\n"
     ]
    }
   ],
   "source": [
    "triple = [\"?Point\",  \"rdf:type\", \"brick:Demand_Sensor\"]\n",
    "upper, lower, sibling = test(triple)\n",
    "print(\"UPPER CLASS:\")\n",
    "print(upper)\n",
    "print(\"LOWER CLASS:\")\n",
    "print(lower)\n",
    "print(\"SIBLING CLASS:\")\n",
    "print(sibling)"
   ]
  },
  {
   "cell_type": "code",
   "execution_count": 453,
   "metadata": {},
   "outputs": [
    {
     "name": "stdout",
     "output_type": "stream",
     "text": [
      "UPPER CLASS:\n",
      "['Load_Shed_Status', 'Pressure_Status']\n",
      "LOWER CLASS:\n",
      "['Chilled_Water_Differential_Pressure_Load_Shed_Status', 'Hot_Water_Differential_Pressure_Load_Shed_Status', 'Medium_Temperature_Hot_Water_Differential_Pressure_Load_Shed_Status']\n",
      "SIBLING CLASS:\n",
      "['Hot_Water_Discharge_Temperature_Load_Shed_Status', 'Hot_Water_Supply_Temperature_Load_Shed_Status', 'Supply_Air_Duct_Pressure_Status', 'Discharge_Air_Duct_Pressure_Status']\n"
     ]
    }
   ],
   "source": [
    "triple = [\"?Status\",  \"rdf:type\", 'brick:Differential_Pressure_Load_Shed_Status']\n",
    "upper, lower, sibling = test(triple)\n",
    "print(\"UPPER CLASS:\")\n",
    "print(upper)\n",
    "print(\"LOWER CLASS:\")\n",
    "print(lower)\n",
    "print(\"SIBLING CLASS:\")\n",
    "print(sibling)"
   ]
  },
  {
   "cell_type": "code",
   "execution_count": 454,
   "metadata": {},
   "outputs": [
    {
     "name": "stdout",
     "output_type": "stream",
     "text": [
      "UPPER CLASS:\n",
      "['Terminal_Unit']\n",
      "LOWER CLASS:\n",
      "[]\n",
      "SIBLING CLASS:\n",
      "['FCU', 'Constant_Air_Volume_Box', 'Variable_Air_Volume_Box', 'Fan_Coil_Unit', 'Radiator', 'CAV']\n"
     ]
    }
   ],
   "source": [
    "triple = [\"?Equipment\",  \"rdf:type\", 'brick:VAV']\n",
    "upper, lower, sibling = test(triple)\n",
    "print(\"UPPER CLASS:\")\n",
    "print(upper)\n",
    "print(\"LOWER CLASS:\")\n",
    "print(lower)\n",
    "print(\"SIBLING CLASS:\")\n",
    "print(sibling)"
   ]
  }
 ],
 "metadata": {
  "kernelspec": {
   "display_name": "Python 3",
   "language": "python",
   "name": "python3"
  },
  "language_info": {
   "codemirror_mode": {
    "name": "ipython",
    "version": 3
   },
   "file_extension": ".py",
   "mimetype": "text/x-python",
   "name": "python",
   "nbconvert_exporter": "python",
   "pygments_lexer": "ipython3",
   "version": "3.8.5"
  }
 },
 "nbformat": 4,
 "nbformat_minor": 4
}
