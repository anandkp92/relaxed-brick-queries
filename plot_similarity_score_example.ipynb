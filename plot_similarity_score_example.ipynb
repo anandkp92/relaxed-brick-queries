{
 "cells": [
  {
   "cell_type": "code",
   "execution_count": 1,
   "metadata": {},
   "outputs": [],
   "source": [
    "import json\n",
    "import pandas as pd\n",
    "import matplotlib.pyplot as plt\n",
    "import matplotlib\n",
    "import brickschema\n",
    "import datetime\n",
    "from relaxation_graphs.fast_relaxation_graph import *\n",
    "from evaluation.similarity_score import *\n",
    "import uuid\n",
    "import pickle\n",
    "from rdflib import URIRef, Literal, BNode\n",
    "from queries.mortar import queries as q1\n",
    "%matplotlib inline"
   ]
  },
  {
   "cell_type": "code",
   "execution_count": 2,
   "metadata": {},
   "outputs": [],
   "source": [
    "font = {'family' : 'sans-serif',\n",
    "        'weight' : 'normal',\n",
    "        'size'   : 32}\n",
    "\n",
    "matplotlib.rc('font', **font)"
   ]
  },
  {
   "cell_type": "code",
   "execution_count": 3,
   "metadata": {},
   "outputs": [],
   "source": [
    "file = \"Data - Brick models/acad.ttl\"\n",
    "\n",
    "running_example = \"\"\"SELECT * WHERE {\n",
    " ?sen   rdf:type   brick:Supply_Air_Temperature_Sensor .\n",
    " ?sp    rdf:type   brick:Supply_Air_Temperature_Setpoint .\n",
    " ?ahu   rdf:type   brick:AHU .\n",
    " ?ahu   brick:feeds ?thing .\n",
    " ?thing  brick:hasPoint ?sen .\n",
    " ?thing  brick:hasPoint ?sp .\n",
    "}\"\"\"\n"
   ]
  },
  {
   "cell_type": "markdown",
   "metadata": {},
   "source": [
    "## max_level = 3"
   ]
  },
  {
   "cell_type": "code",
   "execution_count": 4,
   "metadata": {},
   "outputs": [],
   "source": [
    "max_level = 3\n",
    "G = get_fast_relaxed_graph(query=running_example, max_level=max_level)"
   ]
  },
  {
   "cell_type": "code",
   "execution_count": 5,
   "metadata": {},
   "outputs": [],
   "source": [
    "g = brickschema.Graph(load_brick=True)\n",
    "g.load_file(file)\n",
    "g.expand(profile=\"owlrl\")\n",
    "select_statement = running_example.split(\"{\")[0] + \"{\\n\""
   ]
  },
  {
   "cell_type": "code",
   "execution_count": 6,
   "metadata": {},
   "outputs": [
    {
     "data": {
      "text/plain": [
       "1920"
      ]
     },
     "execution_count": 6,
     "metadata": {},
     "output_type": "execute_result"
    }
   ],
   "source": [
    "total_instances = get_total_num_instances(g, 'brick:Equipment') + get_total_num_instances(g, 'brick:Location') + get_total_num_instances(g, 'brick:Point')\n",
    "total_instances"
   ]
  },
  {
   "cell_type": "code",
   "execution_count": 7,
   "metadata": {},
   "outputs": [],
   "source": [
    "original_uuid = list(G.nodes())[0]\n",
    "original_query = G.nodes()[original_uuid]['query']"
   ]
  },
  {
   "cell_type": "markdown",
   "metadata": {},
   "source": [
    "### case 1: all weights=1"
   ]
  },
  {
   "cell_type": "code",
   "execution_count": 8,
   "metadata": {},
   "outputs": [],
   "source": [
    "scores = {}\n",
    "for idx, node in G.nodes().data():    \n",
    "    relaxed_query = list(node['query'])\n",
    "    score = sim_score(original_query, relaxed_query, g, total_instances)\n",
    "    \n",
    "    level = node['level']\n",
    "    if score in scores:\n",
    "        scores[score].append(relaxed_query)\n",
    "    else:\n",
    "        scores[score] = [relaxed_query]"
   ]
  },
  {
   "cell_type": "code",
   "execution_count": 9,
   "metadata": {},
   "outputs": [
    {
     "name": "stdout",
     "output_type": "stream",
     "text": [
      "score: 1, number of relaxed queries with this score: 9\n",
      "score: 0.8703953925243878, number of relaxed queries with this score: 7\n",
      "score: 0.8691185533597107, number of relaxed queries with this score: 4\n",
      "score: 0.8193389185022003, number of relaxed queries with this score: 11\n",
      "score: 0.8017951543953568, number of relaxed queries with this score: 1\n",
      "score: 0.7816289042500114, number of relaxed queries with this score: 1\n",
      "score: 0.7681412256571158, number of relaxed queries with this score: 11\n",
      "score: 0.71314881958023, number of relaxed queries with this score: 5\n",
      "score: 0.7121026555599422, number of relaxed queries with this score: 1\n",
      "score: 0.6685865836199897, number of relaxed queries with this score: 5\n",
      "score: 0.6676057908190676, number of relaxed queries with this score: 1\n",
      "score: 0.6617400035965336, number of relaxed queries with this score: 1\n",
      "score: 0.6293680010868559, number of relaxed queries with this score: 6\n",
      "score: 0.5477990083482832, number of relaxed queries with this score: 1\n",
      "score: 0, number of relaxed queries with this score: 257\n"
     ]
    }
   ],
   "source": [
    "for score in sorted(list(scores.keys()), reverse = True):\n",
    "    print(\"score: {}, number of relaxed queries with this score: {}\".format(score, len(scores[score])))"
   ]
  },
  {
   "cell_type": "code",
   "execution_count": 10,
   "metadata": {},
   "outputs": [
    {
     "name": "stdout",
     "output_type": "stream",
     "text": [
      "[['?sen', 'rdf:type', 'brick:Supply_Air_Temperature_Sensor'], ['?sp', 'rdf:type', 'brick:Supply_Air_Temperature_Setpoint'], ['?ahu', 'rdf:type', 'brick:AHU'], ['?ahu', 'brick:feeds', '?thing'], ['?thing', 'brick:hasPoint', '?sen'], ['?thing', 'brick:hasPoint', '?sp']] 1\n",
      "[['?sen', 'rdf:type', 'brick:Supply_Air_Temperature_Sensor'], ['?sp', 'rdf:type', 'brick:Supply_Air_Temperature_Setpoint'], ['?ahu', 'rdf:type', 'brick:AHU'], ['?ahu', 'brick:feeds', '?thing'], ['?thing', 'brick:hasPoint', '?sen'], ['?thing', 'brick:hasPoint', '?sp']] 1\n",
      "[['?sen', 'rdf:type', 'brick:Supply_Air_Temperature_Sensor'], ['?sp', 'rdf:type', 'brick:Supply_Air_Temperature_Setpoint'], ['?ahu', 'rdf:type', 'brick:AHU'], ['?ahu', 'brick:feeds', '?thing'], ['?thing', 'brick:hasPoint', '?sen'], ['?thing', 'brick:hasPoint+', '?sp']] 1\n",
      "[['?sen', 'rdf:type', 'brick:Supply_Air_Temperature_Sensor'], ['?sp', 'rdf:type', 'brick:Supply_Air_Temperature_Setpoint'], ['?ahu', 'rdf:type', 'brick:AHU'], ['?ahu', 'brick:feeds', '?thing'], ['?thing', 'brick:hasPoint+', '?sen'], ['?thing', 'brick:hasPoint', '?sp']] 1\n",
      "[['?sen', 'rdf:type', 'brick:Supply_Air_Temperature_Sensor'], ['?sp', 'rdf:type', 'brick:Supply_Air_Temperature_Setpoint'], ['?ahu', 'rdf:type', 'brick:AHU'], ['?ahu', 'brick:feeds', '?thing'], ['?thing', 'brick:hasPoint+', '?sen'], ['?thing', 'brick:hasPoint+', '?sp']] 1\n",
      "[['?sen', 'rdf:type', 'brick:Supply_Air_Temperature_Sensor'], ['?sp', 'rdf:type', 'brick:Supply_Air_Temperature_Setpoint'], ['?ahu', 'rdf:type', 'brick:AHU'], ['?ahu', 'brick:feeds+', '?thing'], ['?thing', 'brick:hasPoint', '?sen'], ['?thing', 'brick:hasPoint', '?sp']] 1\n",
      "[['?sen', 'rdf:type', 'brick:Supply_Air_Temperature_Sensor'], ['?sp', 'rdf:type', 'brick:Supply_Air_Temperature_Setpoint'], ['?ahu', 'rdf:type', 'brick:AHU'], ['?ahu', 'brick:feeds+', '?thing'], ['?thing', 'brick:hasPoint', '?sen'], ['?thing', 'brick:hasPoint+', '?sp']] 1\n",
      "[['?sen', 'rdf:type', 'brick:Supply_Air_Temperature_Sensor'], ['?sp', 'rdf:type', 'brick:Supply_Air_Temperature_Setpoint'], ['?ahu', 'rdf:type', 'brick:AHU'], ['?ahu', 'brick:feeds+', '?thing'], ['?thing', 'brick:hasPoint+', '?sen'], ['?thing', 'brick:hasPoint', '?sp']] 1\n",
      "[['?sen', 'rdf:type', 'brick:Supply_Air_Temperature_Sensor'], ['?sp', 'rdf:type', 'brick:Supply_Air_Temperature_Setpoint'], ['?ahu', 'rdf:type', 'brick:AHU'], ['?ahu', 'brick:feeds+', '?thing'], ['?thing', 'brick:hasPoint+', '?sen'], ['?thing', 'brick:hasPoint+', '?sp']] 1\n",
      "[['?sen', 'rdf:type', 'brick:Air_Temperature_Sensor'], ['?sp', 'rdf:type', 'brick:Supply_Air_Temperature_Setpoint'], ['?ahu', 'rdf:type', 'brick:AHU'], ['?ahu', 'brick:feeds', '?thing'], ['?thing', 'brick:hasPoint', '?sen'], ['?thing', 'brick:hasPoint', '?sp']] 0.8703953925243878\n",
      "[['?sen', 'rdf:type', 'brick:Air_Temperature_Sensor'], ['?sp', 'rdf:type', 'brick:Supply_Air_Temperature_Setpoint'], ['?ahu', 'rdf:type', 'brick:AHU'], ['?ahu', 'brick:feeds', '?thing'], ['?thing', 'brick:hasPoint', '?sen'], ['?thing', 'brick:hasPoint+', '?sp']] 0.8703953925243878\n",
      "[['?sen', 'rdf:type', 'brick:Air_Temperature_Sensor'], ['?sp', 'rdf:type', 'brick:Supply_Air_Temperature_Setpoint'], ['?ahu', 'rdf:type', 'brick:AHU'], ['?ahu', 'brick:feeds', '?thing'], ['?thing', 'brick:hasPoint+', '?sen'], ['?thing', 'brick:hasPoint', '?sp']] 0.8703953925243878\n",
      "[['?sen', 'rdf:type', 'brick:Air_Temperature_Sensor'], ['?sp', 'rdf:type', 'brick:Supply_Air_Temperature_Setpoint'], ['?ahu', 'rdf:type', 'brick:AHU'], ['?ahu', 'brick:feeds', '?thing'], ['?thing', 'brick:hasPoint+', '?sen'], ['?thing', 'brick:hasPoint+', '?sp']] 0.8703953925243878\n",
      "[['?sen', 'rdf:type', 'brick:Air_Temperature_Sensor'], ['?sp', 'rdf:type', 'brick:Supply_Air_Temperature_Setpoint'], ['?ahu', 'rdf:type', 'brick:AHU'], ['?ahu', 'brick:feeds+', '?thing'], ['?thing', 'brick:hasPoint', '?sen'], ['?thing', 'brick:hasPoint', '?sp']] 0.8703953925243878\n",
      "[['?sen', 'rdf:type', 'brick:Air_Temperature_Sensor'], ['?sp', 'rdf:type', 'brick:Supply_Air_Temperature_Setpoint'], ['?ahu', 'rdf:type', 'brick:AHU'], ['?ahu', 'brick:feeds+', '?thing'], ['?thing', 'brick:hasPoint', '?sen'], ['?thing', 'brick:hasPoint+', '?sp']] 0.8703953925243878\n",
      "[['?sen', 'rdf:type', 'brick:Air_Temperature_Sensor'], ['?sp', 'rdf:type', 'brick:Supply_Air_Temperature_Setpoint'], ['?ahu', 'rdf:type', 'brick:AHU'], ['?ahu', 'brick:feeds+', '?thing'], ['?thing', 'brick:hasPoint+', '?sen'], ['?thing', 'brick:hasPoint', '?sp']] 0.8703953925243878\n"
     ]
    }
   ],
   "source": [
    "max_score = 0\n",
    "count = 0\n",
    "print_counter = 15\n",
    "queries_to_print1 = []\n",
    "\n",
    "for score in sorted(list(scores.keys()), reverse = True):\n",
    "    if score > max_score:\n",
    "        max_score = score\n",
    "\n",
    "    for i in scores[score]:\n",
    "        queries_to_print1.append((i, score))\n",
    "    count = len(queries_to_print1)\n",
    "    \n",
    "    if count >= print_counter:\n",
    "        break\n",
    "\n",
    "for q, sc in queries_to_print1:\n",
    "    print(q, sc)"
   ]
  },
  {
   "cell_type": "markdown",
   "metadata": {},
   "source": [
    "### case 2: triple 1,2,3,4 weights = 0.5, triple 5 weight = 1"
   ]
  },
  {
   "cell_type": "code",
   "execution_count": 11,
   "metadata": {},
   "outputs": [],
   "source": [
    "scores2 = {}\n",
    "for idx, node in G.nodes().data():    \n",
    "    relaxed_query = list(node['query'])\n",
    "    score2 = sim_score(original_query, relaxed_query, g, total_instances)\n",
    "    \n",
    "    if relaxed_query[0][2] == 'brick:Supply_Air_Temperature_Sensor': #1\n",
    "        score2 = score2*0.5\n",
    "    if relaxed_query[1][2] == 'brick:Supply_Air_Temperature_Setpoint': #2\n",
    "        score2 = score2*0.5\n",
    "    if relaxed_query[2][2] == 'brick:AHU': #3\n",
    "        score2 = score2*0.5\n",
    "    if relaxed_query[3][1] == 'brick:feeds': #4\n",
    "        score2 = score2*0.5\n",
    "    \n",
    "    if score2 in scores2:\n",
    "        scores2[score2].append(relaxed_query)\n",
    "    else:\n",
    "        scores2[score2] = [relaxed_query]"
   ]
  },
  {
   "cell_type": "code",
   "execution_count": 12,
   "metadata": {},
   "outputs": [
    {
     "name": "stdout",
     "output_type": "stream",
     "text": [
      "score: 0.356574409790115, number of relaxed queries with this score: 1\n",
      "score: 0.33429329180999484, number of relaxed queries with this score: 1\n",
      "score: 0.31468400054342793, number of relaxed queries with this score: 1\n",
      "score: 0.2738995041741416, number of relaxed queries with this score: 1\n",
      "score: 0.21759884813109695, number of relaxed queries with this score: 3\n",
      "score: 0.21727963833992767, number of relaxed queries with this score: 1\n",
      "score: 0.20483472962555008, number of relaxed queries with this score: 4\n",
      "score: 0.19203530641427896, number of relaxed queries with this score: 4\n",
      "score: 0.1782872048950575, number of relaxed queries with this score: 4\n",
      "score: 0.17802566388998556, number of relaxed queries with this score: 1\n",
      "score: 0.16714664590499742, number of relaxed queries with this score: 4\n",
      "score: 0.1669014477047669, number of relaxed queries with this score: 1\n",
      "score: 0.15734200027171397, number of relaxed queries with this score: 5\n",
      "score: 0.125, number of relaxed queries with this score: 4\n",
      "score: 0.10879942406554848, number of relaxed queries with this score: 4\n",
      "score: 0.10863981916996383, number of relaxed queries with this score: 3\n",
      "score: 0.10241736481277504, number of relaxed queries with this score: 7\n",
      "score: 0.1002243942994196, number of relaxed queries with this score: 1\n",
      "score: 0.09770361303125143, number of relaxed queries with this score: 1\n",
      "score: 0.09601765320713948, number of relaxed queries with this score: 7\n",
      "score: 0.0827175004495667, number of relaxed queries with this score: 1\n",
      "score: 0.0625, number of relaxed queries with this score: 5\n",
      "score: 0.0, number of relaxed queries with this score: 257\n"
     ]
    }
   ],
   "source": [
    "for score2 in sorted(list(scores2.keys()), reverse = True):\n",
    "    print(\"score: {}, number of relaxed queries with this score: {}\".format(score2, len(scores2[score2])))"
   ]
  },
  {
   "cell_type": "code",
   "execution_count": 13,
   "metadata": {},
   "outputs": [
    {
     "name": "stdout",
     "output_type": "stream",
     "text": [
      "[['?sen', 'rdf:type', 'brick:Air_Temperature_Sensor'], ['?sp', 'rdf:type', 'brick:Air_Temperature_Setpoint'], ['?ahu', 'rdf:type', 'brick:AHU'], ['?ahu', 'brick:feeds+', '?thing'], ['?thing', 'brick:hasPoint', '?sen'], ['?thing', 'brick:hasPoint', '?sp']] 0.356574409790115\n",
      "[['?sen', 'rdf:type', 'brick:Air_Temperature_Sensor'], ['?sp', 'rdf:type', 'brick:Supply_Air_Temperature_Setpoint'], ['?ahu', 'rdf:type', 'brick:HVAC_Equipment'], ['?ahu', 'brick:feeds+', '?thing'], ['?thing', 'brick:hasPoint', '?sen'], ['?thing', 'brick:hasPoint', '?sp']] 0.33429329180999484\n",
      "[['?sen', 'rdf:type', 'brick:Supply_Air_Temperature_Sensor'], ['?sp', 'rdf:type', 'brick:Air_Temperature_Setpoint'], ['?ahu', 'rdf:type', 'brick:HVAC_Equipment'], ['?ahu', 'brick:feeds+', '?thing'], ['?thing', 'brick:hasPoint', '?sen'], ['?thing', 'brick:hasPoint', '?sp']] 0.31468400054342793\n",
      "[['?sen', 'rdf:type', 'brick:Air_Temperature_Sensor'], ['?sp', 'rdf:type', 'brick:Air_Temperature_Setpoint'], ['?ahu', 'rdf:type', 'brick:HVAC_Equipment'], ['?ahu', 'brick:feeds', '?thing'], ['?thing', 'brick:hasPoint', '?sen'], ['?thing', 'brick:hasPoint', '?sp']] 0.2738995041741416\n",
      "[['?sen', 'rdf:type', 'brick:Air_Temperature_Sensor'], ['?sp', 'rdf:type', 'brick:Supply_Air_Temperature_Setpoint'], ['?ahu', 'rdf:type', 'brick:AHU'], ['?ahu', 'brick:feeds+', '?thing'], ['?thing', 'brick:hasPoint', '?sen'], ['?thing', 'brick:hasPoint', '?sp']] 0.21759884813109695\n",
      "[['?sen', 'rdf:type', 'brick:Air_Temperature_Sensor'], ['?sp', 'rdf:type', 'brick:Supply_Air_Temperature_Setpoint'], ['?ahu', 'rdf:type', 'brick:AHU'], ['?ahu', 'brick:feeds+', '?thing'], ['?thing', 'brick:hasPoint', '?sen'], ['?thing', 'brick:hasPoint+', '?sp']] 0.21759884813109695\n",
      "[['?sen', 'rdf:type', 'brick:Air_Temperature_Sensor'], ['?sp', 'rdf:type', 'brick:Supply_Air_Temperature_Setpoint'], ['?ahu', 'rdf:type', 'brick:AHU'], ['?ahu', 'brick:feeds+', '?thing'], ['?thing', 'brick:hasPoint+', '?sen'], ['?thing', 'brick:hasPoint', '?sp']] 0.21759884813109695\n",
      "[['?sen', 'rdf:type', 'brick:Temperature_Sensor'], ['?sp', 'rdf:type', 'brick:Supply_Air_Temperature_Setpoint'], ['?ahu', 'rdf:type', 'brick:AHU'], ['?ahu', 'brick:feeds+', '?thing'], ['?thing', 'brick:hasPoint', '?sen'], ['?thing', 'brick:hasPoint', '?sp']] 0.21727963833992767\n",
      "[['?sen', 'rdf:type', 'brick:Supply_Air_Temperature_Sensor'], ['?sp', 'rdf:type', 'brick:Air_Temperature_Setpoint'], ['?ahu', 'rdf:type', 'brick:AHU'], ['?ahu', 'brick:feeds+', '?thing'], ['?thing', 'brick:hasPoint', '?sen'], ['?thing', 'brick:hasPoint', '?sp']] 0.20483472962555008\n",
      "[['?sen', 'rdf:type', 'brick:Supply_Air_Temperature_Sensor'], ['?sp', 'rdf:type', 'brick:Air_Temperature_Setpoint'], ['?ahu', 'rdf:type', 'brick:AHU'], ['?ahu', 'brick:feeds+', '?thing'], ['?thing', 'brick:hasPoint', '?sen'], ['?thing', 'brick:hasPoint+', '?sp']] 0.20483472962555008\n",
      "[['?sen', 'rdf:type', 'brick:Supply_Air_Temperature_Sensor'], ['?sp', 'rdf:type', 'brick:Air_Temperature_Setpoint'], ['?ahu', 'rdf:type', 'brick:AHU'], ['?ahu', 'brick:feeds+', '?thing'], ['?thing', 'brick:hasPoint+', '?sen'], ['?thing', 'brick:hasPoint', '?sp']] 0.20483472962555008\n",
      "[['?sen', 'rdf:type', 'brick:Supply_Air_Temperature_Sensor'], ['?sp', 'rdf:type', 'brick:Temperature_Setpoint'], ['?ahu', 'rdf:type', 'brick:AHU'], ['?ahu', 'brick:feeds+', '?thing'], ['?thing', 'brick:hasPoint', '?sen'], ['?thing', 'brick:hasPoint', '?sp']] 0.20483472962555008\n",
      "[['?sen', 'rdf:type', 'brick:Supply_Air_Temperature_Sensor'], ['?sp', 'rdf:type', 'brick:Supply_Air_Temperature_Setpoint'], ['?ahu', 'rdf:type', 'brick:HVAC_Equipment'], ['?ahu', 'brick:feeds+', '?thing'], ['?thing', 'brick:hasPoint', '?sen'], ['?thing', 'brick:hasPoint', '?sp']] 0.19203530641427896\n",
      "[['?sen', 'rdf:type', 'brick:Supply_Air_Temperature_Sensor'], ['?sp', 'rdf:type', 'brick:Supply_Air_Temperature_Setpoint'], ['?ahu', 'rdf:type', 'brick:HVAC_Equipment'], ['?ahu', 'brick:feeds+', '?thing'], ['?thing', 'brick:hasPoint', '?sen'], ['?thing', 'brick:hasPoint+', '?sp']] 0.19203530641427896\n",
      "[['?sen', 'rdf:type', 'brick:Supply_Air_Temperature_Sensor'], ['?sp', 'rdf:type', 'brick:Supply_Air_Temperature_Setpoint'], ['?ahu', 'rdf:type', 'brick:HVAC_Equipment'], ['?ahu', 'brick:feeds+', '?thing'], ['?thing', 'brick:hasPoint+', '?sen'], ['?thing', 'brick:hasPoint', '?sp']] 0.19203530641427896\n",
      "[['?sen', 'rdf:type', 'brick:Supply_Air_Temperature_Sensor'], ['?sp', 'rdf:type', 'brick:Supply_Air_Temperature_Setpoint'], ['?ahu', 'rdf:type', 'brick:Equipment'], ['?ahu', 'brick:feeds+', '?thing'], ['?thing', 'brick:hasPoint', '?sen'], ['?thing', 'brick:hasPoint', '?sp']] 0.19203530641427896\n"
     ]
    }
   ],
   "source": [
    "max_score2 = 0\n",
    "count = 0\n",
    "print_counter = 15\n",
    "queries_to_print2 = []\n",
    "\n",
    "for score2 in sorted(list(scores2.keys()), reverse = True):\n",
    "    if score2 > max_score2:\n",
    "        max_score2 = score2\n",
    "\n",
    "    for i in scores2[score2]:\n",
    "        queries_to_print2.append((i, score2))\n",
    "    count = len(queries_to_print2)\n",
    "    \n",
    "    if count >= print_counter:\n",
    "        break\n",
    "\n",
    "for q, sc in queries_to_print2:\n",
    "    print(q, sc)"
   ]
  },
  {
   "cell_type": "markdown",
   "metadata": {},
   "source": [
    "### case 3: triple 1,2, weights = 0.1, triples 3,4 weights = 0.5, triple 5 weight = 1"
   ]
  },
  {
   "cell_type": "code",
   "execution_count": 14,
   "metadata": {},
   "outputs": [],
   "source": [
    "scores3 = {}\n",
    "for idx, node in G.nodes().data():    \n",
    "    relaxed_query = list(node['query'])\n",
    "    score3 = sim_score(original_query, relaxed_query, g, total_instances)\n",
    "    \n",
    "    if relaxed_query[0][2] == 'brick:Supply_Air_Temperature_Sensor': #1\n",
    "        score3 = score3*0.1\n",
    "    if relaxed_query[1][2] == 'brick:Supply_Air_Temperature_Setpoint': #2\n",
    "        score3 = score3*0.1\n",
    "    if relaxed_query[2][2] == 'brick:AHU': #3\n",
    "        score3 = score3*0.5\n",
    "    if relaxed_query[3][1] == 'brick:feeds': #4\n",
    "        score3 = score3*0.5\n",
    "    \n",
    "    if score3 in scores3:\n",
    "        scores3[score3].append(relaxed_query)\n",
    "    else:\n",
    "        scores3[score3] = [relaxed_query]"
   ]
  },
  {
   "cell_type": "code",
   "execution_count": 15,
   "metadata": {},
   "outputs": [
    {
     "name": "stdout",
     "output_type": "stream",
     "text": [
      "score: 0.356574409790115, number of relaxed queries with this score: 1\n",
      "score: 0.2738995041741416, number of relaxed queries with this score: 1\n",
      "score: 0.1782872048950575, number of relaxed queries with this score: 4\n",
      "score: 0.17802566388998556, number of relaxed queries with this score: 1\n",
      "score: 0.06685865836199897, number of relaxed queries with this score: 1\n",
      "score: 0.06293680010868559, number of relaxed queries with this score: 1\n",
      "score: 0.043519769626219396, number of relaxed queries with this score: 3\n",
      "score: 0.04345592766798553, number of relaxed queries with this score: 1\n",
      "score: 0.04096694592511002, number of relaxed queries with this score: 4\n",
      "score: 0.03342932918099949, number of relaxed queries with this score: 4\n",
      "score: 0.03338028954095338, number of relaxed queries with this score: 1\n",
      "score: 0.031468400054342795, number of relaxed queries with this score: 5\n",
      "score: 0.021759884813109698, number of relaxed queries with this score: 4\n",
      "score: 0.021727963833992767, number of relaxed queries with this score: 3\n",
      "score: 0.02048347296255501, number of relaxed queries with this score: 7\n",
      "score: 0.02004487885988392, number of relaxed queries with this score: 1\n",
      "score: 0.019540722606250286, number of relaxed queries with this score: 1\n",
      "score: 0.007681412256571159, number of relaxed queries with this score: 4\n",
      "score: 0.005000000000000001, number of relaxed queries with this score: 4\n",
      "score: 0.0038407061282855794, number of relaxed queries with this score: 7\n",
      "score: 0.0033087000179826682, number of relaxed queries with this score: 1\n",
      "score: 0.0025000000000000005, number of relaxed queries with this score: 5\n",
      "score: 0.0, number of relaxed queries with this score: 257\n"
     ]
    }
   ],
   "source": [
    "for score3 in sorted(list(scores3.keys()), reverse = True):\n",
    "    print(\"score: {}, number of relaxed queries with this score: {}\".format(score3, len(scores3[score3])))"
   ]
  },
  {
   "cell_type": "code",
   "execution_count": 16,
   "metadata": {},
   "outputs": [
    {
     "name": "stdout",
     "output_type": "stream",
     "text": [
      "[['?sen', 'rdf:type', 'brick:Air_Temperature_Sensor'], ['?sp', 'rdf:type', 'brick:Air_Temperature_Setpoint'], ['?ahu', 'rdf:type', 'brick:AHU'], ['?ahu', 'brick:feeds+', '?thing'], ['?thing', 'brick:hasPoint', '?sen'], ['?thing', 'brick:hasPoint', '?sp']] 0.356574409790115\n",
      "[['?sen', 'rdf:type', 'brick:Air_Temperature_Sensor'], ['?sp', 'rdf:type', 'brick:Air_Temperature_Setpoint'], ['?ahu', 'rdf:type', 'brick:HVAC_Equipment'], ['?ahu', 'brick:feeds', '?thing'], ['?thing', 'brick:hasPoint', '?sen'], ['?thing', 'brick:hasPoint', '?sp']] 0.2738995041741416\n",
      "[['?sen', 'rdf:type', 'brick:Air_Temperature_Sensor'], ['?sp', 'rdf:type', 'brick:Air_Temperature_Setpoint'], ['?ahu', 'rdf:type', 'brick:AHU'], ['?ahu', 'brick:feeds', '?thing'], ['?thing', 'brick:hasPoint', '?sen'], ['?thing', 'brick:hasPoint', '?sp']] 0.1782872048950575\n",
      "[['?sen', 'rdf:type', 'brick:Air_Temperature_Sensor'], ['?sp', 'rdf:type', 'brick:Air_Temperature_Setpoint'], ['?ahu', 'rdf:type', 'brick:AHU'], ['?ahu', 'brick:feeds', '?thing'], ['?thing', 'brick:hasPoint', '?sen'], ['?thing', 'brick:hasPoint+', '?sp']] 0.1782872048950575\n",
      "[['?sen', 'rdf:type', 'brick:Air_Temperature_Sensor'], ['?sp', 'rdf:type', 'brick:Air_Temperature_Setpoint'], ['?ahu', 'rdf:type', 'brick:AHU'], ['?ahu', 'brick:feeds', '?thing'], ['?thing', 'brick:hasPoint+', '?sen'], ['?thing', 'brick:hasPoint', '?sp']] 0.1782872048950575\n",
      "[['?sen', 'rdf:type', 'brick:Air_Temperature_Sensor'], ['?sp', 'rdf:type', 'brick:Temperature_Setpoint'], ['?ahu', 'rdf:type', 'brick:AHU'], ['?ahu', 'brick:feeds', '?thing'], ['?thing', 'brick:hasPoint', '?sen'], ['?thing', 'brick:hasPoint', '?sp']] 0.1782872048950575\n",
      "[['?sen', 'rdf:type', 'brick:Temperature_Sensor'], ['?sp', 'rdf:type', 'brick:Air_Temperature_Setpoint'], ['?ahu', 'rdf:type', 'brick:AHU'], ['?ahu', 'brick:feeds', '?thing'], ['?thing', 'brick:hasPoint', '?sen'], ['?thing', 'brick:hasPoint', '?sp']] 0.17802566388998556\n",
      "[['?sen', 'rdf:type', 'brick:Air_Temperature_Sensor'], ['?sp', 'rdf:type', 'brick:Supply_Air_Temperature_Setpoint'], ['?ahu', 'rdf:type', 'brick:HVAC_Equipment'], ['?ahu', 'brick:feeds+', '?thing'], ['?thing', 'brick:hasPoint', '?sen'], ['?thing', 'brick:hasPoint', '?sp']] 0.06685865836199897\n",
      "[['?sen', 'rdf:type', 'brick:Supply_Air_Temperature_Sensor'], ['?sp', 'rdf:type', 'brick:Air_Temperature_Setpoint'], ['?ahu', 'rdf:type', 'brick:HVAC_Equipment'], ['?ahu', 'brick:feeds+', '?thing'], ['?thing', 'brick:hasPoint', '?sen'], ['?thing', 'brick:hasPoint', '?sp']] 0.06293680010868559\n",
      "[['?sen', 'rdf:type', 'brick:Air_Temperature_Sensor'], ['?sp', 'rdf:type', 'brick:Supply_Air_Temperature_Setpoint'], ['?ahu', 'rdf:type', 'brick:AHU'], ['?ahu', 'brick:feeds+', '?thing'], ['?thing', 'brick:hasPoint', '?sen'], ['?thing', 'brick:hasPoint', '?sp']] 0.043519769626219396\n",
      "[['?sen', 'rdf:type', 'brick:Air_Temperature_Sensor'], ['?sp', 'rdf:type', 'brick:Supply_Air_Temperature_Setpoint'], ['?ahu', 'rdf:type', 'brick:AHU'], ['?ahu', 'brick:feeds+', '?thing'], ['?thing', 'brick:hasPoint', '?sen'], ['?thing', 'brick:hasPoint+', '?sp']] 0.043519769626219396\n",
      "[['?sen', 'rdf:type', 'brick:Air_Temperature_Sensor'], ['?sp', 'rdf:type', 'brick:Supply_Air_Temperature_Setpoint'], ['?ahu', 'rdf:type', 'brick:AHU'], ['?ahu', 'brick:feeds+', '?thing'], ['?thing', 'brick:hasPoint+', '?sen'], ['?thing', 'brick:hasPoint', '?sp']] 0.043519769626219396\n",
      "[['?sen', 'rdf:type', 'brick:Temperature_Sensor'], ['?sp', 'rdf:type', 'brick:Supply_Air_Temperature_Setpoint'], ['?ahu', 'rdf:type', 'brick:AHU'], ['?ahu', 'brick:feeds+', '?thing'], ['?thing', 'brick:hasPoint', '?sen'], ['?thing', 'brick:hasPoint', '?sp']] 0.04345592766798553\n",
      "[['?sen', 'rdf:type', 'brick:Supply_Air_Temperature_Sensor'], ['?sp', 'rdf:type', 'brick:Air_Temperature_Setpoint'], ['?ahu', 'rdf:type', 'brick:AHU'], ['?ahu', 'brick:feeds+', '?thing'], ['?thing', 'brick:hasPoint', '?sen'], ['?thing', 'brick:hasPoint', '?sp']] 0.04096694592511002\n",
      "[['?sen', 'rdf:type', 'brick:Supply_Air_Temperature_Sensor'], ['?sp', 'rdf:type', 'brick:Air_Temperature_Setpoint'], ['?ahu', 'rdf:type', 'brick:AHU'], ['?ahu', 'brick:feeds+', '?thing'], ['?thing', 'brick:hasPoint', '?sen'], ['?thing', 'brick:hasPoint+', '?sp']] 0.04096694592511002\n",
      "[['?sen', 'rdf:type', 'brick:Supply_Air_Temperature_Sensor'], ['?sp', 'rdf:type', 'brick:Air_Temperature_Setpoint'], ['?ahu', 'rdf:type', 'brick:AHU'], ['?ahu', 'brick:feeds+', '?thing'], ['?thing', 'brick:hasPoint+', '?sen'], ['?thing', 'brick:hasPoint', '?sp']] 0.04096694592511002\n",
      "[['?sen', 'rdf:type', 'brick:Supply_Air_Temperature_Sensor'], ['?sp', 'rdf:type', 'brick:Temperature_Setpoint'], ['?ahu', 'rdf:type', 'brick:AHU'], ['?ahu', 'brick:feeds+', '?thing'], ['?thing', 'brick:hasPoint', '?sen'], ['?thing', 'brick:hasPoint', '?sp']] 0.04096694592511002\n"
     ]
    }
   ],
   "source": [
    "max_score3 = 0\n",
    "count = 0\n",
    "print_counter = 15\n",
    "queries_to_print3 = []\n",
    "\n",
    "for score3 in sorted(list(scores3.keys()), reverse = True):\n",
    "    if score3 > max_score3:\n",
    "        max_score3 = score3\n",
    "\n",
    "    for i in scores3[score3]:\n",
    "        queries_to_print3.append((i, score3))\n",
    "    count = len(queries_to_print3)\n",
    "    \n",
    "    if count >= print_counter:\n",
    "        break\n",
    "\n",
    "for q, sc in queries_to_print3:\n",
    "    print(q, sc)"
   ]
  },
  {
   "cell_type": "code",
   "execution_count": null,
   "metadata": {},
   "outputs": [],
   "source": []
  }
 ],
 "metadata": {
  "kernelspec": {
   "display_name": "Python [conda env:root] *",
   "language": "python",
   "name": "conda-root-py"
  },
  "language_info": {
   "codemirror_mode": {
    "name": "ipython",
    "version": 3
   },
   "file_extension": ".py",
   "mimetype": "text/x-python",
   "name": "python",
   "nbconvert_exporter": "python",
   "pygments_lexer": "ipython3",
   "version": "3.8.3"
  }
 },
 "nbformat": 4,
 "nbformat_minor": 4
}
