{
 "cells": [
  {
   "cell_type": "code",
   "execution_count": 1,
   "metadata": {},
   "outputs": [],
   "source": [
    "import json\n",
    "import pandas as pd\n",
    "import matplotlib.pyplot as plt\n",
    "import matplotlib\n",
    "import brickschema\n",
    "import datetime\n",
    "from relaxation_graphs.fast_relaxation_graph import *\n",
    "from evaluation.similarity_score import *\n",
    "import uuid\n",
    "import pickle\n",
    "import time \n",
    "from rdflib import URIRef, Literal, BNode\n",
    "from queries.mortar import queries as q1\n",
    "%matplotlib inline"
   ]
  },
  {
   "cell_type": "code",
   "execution_count": 2,
   "metadata": {},
   "outputs": [],
   "source": [
    "font = {'family' : 'sans-serif',\n",
    "        'weight' : 'normal',\n",
    "        'size'   : 32}\n",
    "\n",
    "matplotlib.rc('font', **font)"
   ]
  },
  {
   "cell_type": "code",
   "execution_count": 3,
   "metadata": {},
   "outputs": [],
   "source": [
    "from queries.mortar import queries as q1\n",
    "from queries.nrel import queries as q2\n",
    "\n",
    "useful_queries = [q1[4], q1[5], q1[9], q1[12], q1[15], q1[17], q2[3], q1[11]]\n",
    "#select query\n"
   ]
  },
  {
   "cell_type": "code",
   "execution_count": null,
   "metadata": {},
   "outputs": [],
   "source": [
    "files = os.listdir('Data - Brick models/')\n",
    "brick_models = []\n",
    "\n",
    "for file in files:\n",
    "    if file.endswith(\".ttl\"):\n",
    "        g = brickschema.Graph(load_brick=True)\n",
    "        g.load_file('Data - Brick models/'+file)\n",
    "        g.expand(profile=\"owlrl\")\n",
    "        brick_models.append(g)\n",
    "\n",
    "with open(\"brick_models.pkl\", 'wb') as fp:\n",
    "    pickle.dump(brick_models, fp)\n"
   ]
  },
  {
   "cell_type": "code",
   "execution_count": 4,
   "metadata": {},
   "outputs": [],
   "source": [
    "# files = os.listdir('Data - Brick models/')\n",
    "# brick_models = []\n",
    "\n",
    "# with open(\"brick_models.pkl\", 'rb') as fp:\n",
    "#     brick_models = pickle.load(fp)\n",
    "    "
   ]
  },
  {
   "cell_type": "code",
   "execution_count": null,
   "metadata": {},
   "outputs": [
    {
     "name": "stdout",
     "output_type": "stream",
     "text": [
      "0 done, current unique buldings = 0\n",
      "1 done, current unique buldings = 0\n",
      "2 done, current unique buldings = 0\n",
      "3 done, current unique buldings = 1\n",
      "4 done, current unique buldings = 2\n",
      "5 done, current unique buldings = 3\n",
      "6 done, current unique buldings = 4\n"
     ]
    }
   ],
   "source": [
    "results = {}\n",
    "output_queries = {}\n",
    "unique_buildings = []\n",
    "for query in useful_queries[-1:]:\n",
    "    max_level = 1\n",
    "    G = get_fast_relaxed_graph(query=query, max_level=max_level)\n",
    "    already_done_queries = []\n",
    "    original_uuid = list(G.nodes())[0]\n",
    "    original_query = G.nodes()[original_uuid]['query']\n",
    "    results_query = {}\n",
    "    output_queries_buildings = {}\n",
    "    select_statement = query.split(\"{\")[0] + \"{\\n\"\n",
    "    \n",
    "    building_idx = 0\n",
    "    while building_idx < len(brick_models):\n",
    "        g = brick_models[building_idx]\n",
    "        scores = {}\n",
    "        results_building = {}\n",
    "        for idx, node in G.nodes().data():    \n",
    "            relaxed_query = list(node['query'])\n",
    "            level = node['level']\n",
    "            \n",
    "            if level > max_level: \n",
    "                continue\n",
    "            else:\n",
    "                brick_query = generate_brick_query_from_node(relaxed_query, select_statement=select_statement)\n",
    "                res = run_brick_query(building_model=g, query=brick_query)\n",
    "                \n",
    "                if len(res) > 0:\n",
    "                    if building_idx not in unique_buildings:\n",
    "                        unique_buildings.append(building_idx)\n",
    "                        break\n",
    "        print(\"{} done, current unique buldings = {}\".format(building_idx, len(unique_buildings)))\n",
    "        building_idx+=1"
   ]
  },
  {
   "cell_type": "code",
   "execution_count": null,
   "metadata": {},
   "outputs": [],
   "source": []
  }
 ],
 "metadata": {
  "kernelspec": {
   "display_name": "Python 3",
   "language": "python",
   "name": "python3"
  },
  "language_info": {
   "codemirror_mode": {
    "name": "ipython",
    "version": 3
   },
   "file_extension": ".py",
   "mimetype": "text/x-python",
   "name": "python",
   "nbconvert_exporter": "python",
   "pygments_lexer": "ipython3",
   "version": "3.8.3"
  }
 },
 "nbformat": 4,
 "nbformat_minor": 4
}
