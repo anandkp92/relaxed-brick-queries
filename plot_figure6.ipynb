{
 "cells": [
  {
   "cell_type": "code",
   "execution_count": 1,
   "metadata": {},
   "outputs": [],
   "source": [
    "import json\n",
    "import pandas as pd\n",
    "import matplotlib.pyplot as plt\n",
    "import matplotlib\n",
    "import brickschema\n",
    "import datetime\n",
    "from relaxation_graphs.fast_relaxation_graph import *\n",
    "from evaluation.similarity_score import *\n",
    "import uuid\n",
    "import pickle\n",
    "import time \n",
    "from rdflib import URIRef, Literal, BNode\n",
    "from queries.mortar import queries as q1\n",
    "%matplotlib inline"
   ]
  },
  {
   "cell_type": "code",
   "execution_count": 2,
   "metadata": {},
   "outputs": [],
   "source": [
    "font = {'family' : 'sans-serif',\n",
    "        'weight' : 'normal',\n",
    "        'size'   : 32}\n",
    "\n",
    "matplotlib.rc('font', **font)"
   ]
  },
  {
   "cell_type": "code",
   "execution_count": 3,
   "metadata": {},
   "outputs": [],
   "source": [
    "useful_queries = [\n",
    "\"\"\"SELECT ?sensor WHERE {\n",
    "    ?sensor rdf:type brick:Zone_Air_Temperature_Sensor .\n",
    "    ?sensor brick:isPointOf ?equip \n",
    "}\"\"\",\n",
    "\"\"\"SELECT ?sp WHERE {\n",
    "    ?sp rdf:type brick:Zone_Air_Temperature_Setpoint .\n",
    "    ?sp brick:isPointOf ?equip\n",
    "}\"\"\",\n",
    "\"\"\"SELECT ?sensor ?sp ?equip WHERE {\n",
    "    ?sensor  rdf:type     brick:Air_Flow_Sensor .\n",
    "    ?sp      rdf:type     brick:Air_Flow_Setpoint .\n",
    "    ?sensor  brick:isPointOf ?equip .\n",
    "    ?sp      brick:isPointOf ?equip\n",
    "}\"\"\",\n",
    "\"\"\"SELECT * WHERE {\n",
    "    ?equip    rdf:type  brick:VAV .\n",
    "    ?equip    brick:hasPoint  ?air_flow .\n",
    "    ?air_flow rdf:type   brick:Supply_Air_Flow_Sensor\n",
    "    }\"\"\",\n",
    "\"\"\"SELECT ?vav WHERE {\n",
    "    ?vav rdf:type brick:VAV\n",
    "}\"\"\",\n",
    "\"\"\"SELECT ?floor ?room WHERE {\n",
    "    ?floor rdf:type brick:Floor .\n",
    "    ?room rdf:type brick:Room .\n",
    "    ?room brick:isPartOf+ ?floor .\n",
    "}\"\"\",\n",
    "    \n",
    "\"\"\"SELECT * WHERE {\n",
    "    ?oat_damper a brick:Outside_Damper .\n",
    "    ?pos a brick:Damper_Position_Command .\n",
    "    ?oat_damper brick:hasPoint ?pos .\n",
    "    ?oat a brick:Outside_Air_Temperature_Sensor\n",
    "}\"\"\",\n",
    "    \n",
    "\"\"\"SELECT * WHERE {\n",
    "    ?equip   rdf:type  brick:VAV .\n",
    "    ?equip   brick:isFedBy  ?ahu .\n",
    "    ?ahu     brick:hasPoint  ?upstream_ta .\n",
    "    ?equip   brick:hasPoint  ?dnstream_ta .\n",
    "    ?upstream_ta  rdf:type brick:Supply_Air_Temperature_Sensor .\n",
    "    ?dnstream_ta  rdf:type brick:Supply_Air_Temperature_Sensor .\n",
    "    ?equip   brick:hasPoint  ?vlv .\n",
    "    ?vlv     rdf:type   brick:Valve_Command\n",
    "}\"\"\"\n",
    "]\n"
   ]
  },
  {
   "cell_type": "code",
   "execution_count": null,
   "metadata": {},
   "outputs": [],
   "source": [
    "files = os.listdir('Data - Brick models/')\n",
    "brick_models = []\n",
    "\n",
    "for file in files:\n",
    "    if file.endswith(\".ttl\"):\n",
    "        g = brickschema.Graph(load_brick=True)\n",
    "        g.load_file('Data - Brick models/'+file)\n",
    "        g.expand(profile=\"owlrl\")\n",
    "        brick_models.append(g)\n",
    "\n",
    "with open(\"brick_models.pkl\", 'wb') as fp:\n",
    "    pickle.dump(brick_models, fp)\n"
   ]
  },
  {
   "cell_type": "code",
   "execution_count": 4,
   "metadata": {},
   "outputs": [],
   "source": [
    "# files = os.listdir('Data - Brick models/')\n",
    "# brick_models = []\n",
    "\n",
    "# with open(\"brick_models.pkl\", 'rb') as fp:\n",
    "#     brick_models = pickle.load(fp)\n",
    "    "
   ]
  },
  {
   "cell_type": "code",
   "execution_count": 5,
   "metadata": {},
   "outputs": [
    {
     "name": "stdout",
     "output_type": "stream",
     "text": [
      "0 done, current unique buldings = 0\n",
      "1 done, current unique buldings = 0\n",
      "2 done, current unique buldings = 0\n",
      "3 done, current unique buldings = 1\n",
      "4 done, current unique buldings = 2\n",
      "5 done, current unique buldings = 3\n",
      "6 done, current unique buldings = 4\n",
      "7 done, current unique buldings = 5\n",
      "8 done, current unique buldings = 5\n",
      "9 done, current unique buldings = 5\n",
      "10 done, current unique buldings = 5\n",
      "11 done, current unique buldings = 5\n",
      "12 done, current unique buldings = 6\n",
      "13 done, current unique buldings = 6\n",
      "14 done, current unique buldings = 6\n",
      "15 done, current unique buldings = 7\n",
      "16 done, current unique buldings = 7\n",
      "17 done, current unique buldings = 7\n",
      "18 done, current unique buldings = 8\n",
      "19 done, current unique buldings = 8\n",
      "20 done, current unique buldings = 8\n",
      "21 done, current unique buldings = 8\n",
      "22 done, current unique buldings = 9\n",
      "23 done, current unique buldings = 9\n",
      "24 done, current unique buldings = 9\n",
      "25 done, current unique buldings = 9\n",
      "26 done, current unique buldings = 9\n",
      "27 done, current unique buldings = 9\n",
      "28 done, current unique buldings = 9\n",
      "29 done, current unique buldings = 9\n",
      "30 done, current unique buldings = 9\n",
      "31 done, current unique buldings = 10\n",
      "32 done, current unique buldings = 10\n",
      "33 done, current unique buldings = 10\n",
      "34 done, current unique buldings = 11\n",
      "35 done, current unique buldings = 12\n",
      "36 done, current unique buldings = 13\n",
      "37 done, current unique buldings = 13\n",
      "38 done, current unique buldings = 13\n",
      "39 done, current unique buldings = 13\n",
      "40 done, current unique buldings = 13\n",
      "41 done, current unique buldings = 14\n",
      "42 done, current unique buldings = 15\n",
      "43 done, current unique buldings = 15\n",
      "44 done, current unique buldings = 15\n",
      "45 done, current unique buldings = 15\n",
      "46 done, current unique buldings = 15\n",
      "47 done, current unique buldings = 15\n",
      "48 done, current unique buldings = 16\n",
      "49 done, current unique buldings = 17\n"
     ]
    }
   ],
   "source": [
    "results = {}\n",
    "output_queries = {}\n",
    "unique_buildings = []\n",
    "for query in useful_queries[-1:]:\n",
    "    max_level = 1\n",
    "    G = get_fast_relaxed_graph(query=query, max_level=max_level)\n",
    "    already_done_queries = []\n",
    "    original_uuid = list(G.nodes())[0]\n",
    "    original_query = G.nodes()[original_uuid]['query']\n",
    "    results_query = {}\n",
    "    output_queries_buildings = {}\n",
    "    select_statement = query.split(\"{\")[0] + \"{\\n\"\n",
    "    \n",
    "    building_idx = 0\n",
    "    while building_idx < len(brick_models):\n",
    "        g = brick_models[building_idx]\n",
    "        scores = {}\n",
    "        results_building = {}\n",
    "        for idx, node in G.nodes().data():    \n",
    "            relaxed_query = list(node['query'])\n",
    "            level = node['level']\n",
    "            \n",
    "            if level > max_level: \n",
    "                continue\n",
    "            else:\n",
    "                brick_query = generate_brick_query_from_node(relaxed_query, select_statement=select_statement)\n",
    "                res = run_brick_query(building_model=g, query=brick_query)\n",
    "                \n",
    "                if len(res) > 0:\n",
    "                    if building_idx not in unique_buildings:\n",
    "                        unique_buildings.append(building_idx)\n",
    "                        break\n",
    "        print(\"{} done, current unique buldings = {}\".format(building_idx, len(unique_buildings)))\n",
    "        building_idx+=1"
   ]
  },
  {
   "cell_type": "code",
   "execution_count": 6,
   "metadata": {},
   "outputs": [
    {
     "data": {
      "text/plain": [
       "[3, 4, 5, 6, 7, 12, 15, 18, 22, 31, 34, 35, 36, 41, 42, 48, 49]"
      ]
     },
     "execution_count": 6,
     "metadata": {},
     "output_type": "execute_result"
    }
   ],
   "source": [
    "unique_buildings"
   ]
  },
  {
   "cell_type": "code",
   "execution_count": null,
   "metadata": {},
   "outputs": [],
   "source": []
  }
 ],
 "metadata": {
  "kernelspec": {
   "display_name": "Python 3",
   "language": "python",
   "name": "python3"
  },
  "language_info": {
   "codemirror_mode": {
    "name": "ipython",
    "version": 3
   },
   "file_extension": ".py",
   "mimetype": "text/x-python",
   "name": "python",
   "nbconvert_exporter": "python",
   "pygments_lexer": "ipython3",
   "version": "3.8.3"
  }
 },
 "nbformat": 4,
 "nbformat_minor": 4
}
