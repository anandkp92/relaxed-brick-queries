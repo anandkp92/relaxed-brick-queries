{
 "cells": [
  {
   "cell_type": "code",
   "execution_count": 2,
   "metadata": {},
   "outputs": [],
   "source": [
    "import os\n",
    "import sys\n",
    "module_path = os.path.abspath(os.path.join('..'))\n",
    "if module_path not in sys.path:\n",
    "    sys.path.append(module_path)"
   ]
  },
  {
   "cell_type": "code",
   "execution_count": 3,
   "metadata": {},
   "outputs": [],
   "source": [
    "import brickschema\n",
    "from brickschema.namespaces import BRICK, RDFS, OWL, TAG, RDF, SH\n",
    "from rdflib import URIRef\n",
    "import networkx\n",
    "\n",
    "from utils import *\n",
    "from rules.relationship_relaxation import *\n",
    "from rules.type_relaxation import *\n",
    "from relaxation_graphs.full_relaxation_graph import *"
   ]
  },
  {
   "cell_type": "code",
   "execution_count": null,
   "metadata": {},
   "outputs": [],
   "source": [
    "def create_ordered_list(triples_copy):\n",
    "    ordered_list = []\n",
    "    for item in triples_copy:\n",
    "        for item_i in item:\n",
    "            item_new = item_i.split('#')[-1]\n",
    "            ordered_list.append(item_new)\n",
    "    ordered_list.sort()\n",
    "    return ordered_list\n",
    "\n",
    "def generates_answer(triples_copy, file_input, profile_input, building_graph):\n",
    "    ### all this can probably be done in main script, so we dont load each time\n",
    "    g = brickschema.Graph(load_brick=True) \n",
    "    g.load_file(file_input) # \"../Data - Brick models/msb.ttl\"\n",
    "    g.expand(profile=profile_input) # \"owlrl\"\n",
    "    ### \n",
    "    \n",
    "    # Make function to turn triples in list format back to string query format? triples_copy\n",
    "    res = g.query(q)\n",
    "    if res == True: # Something like this?? or if the res contains a length/output\n",
    "        generates_answer = 'True'\n",
    "    else:\n",
    "        generates_answer = 'False'\n",
    "        \n",
    "    return generates_answer\n",
    "        \n",
    "                \n",
    "def relax_triples(G, triples, rules, rule_names, level_itr, node_idx, k_node, building_graph):\n",
    "    node_list =[]\n",
    "    \n",
    "    for r_index in range(len(rules)):\n",
    "        rule = rules[r_index]\n",
    "    \n",
    "        for i in range(len(triples)):\n",
    "            triple = triples[i]\n",
    "            relaxed_triples = rule(triple)\n",
    "\n",
    "            if len(relaxed_triples) > 0:\n",
    "                for relaxed_triple in relaxed_triples:\n",
    "                    triples_copy = triples.copy()\n",
    "                    triples_copy[i] = relaxed_triple\n",
    "                    \n",
    "                    #Checking to see if it exists within graph\n",
    "                    ordered_list = create_ordered_list(triples_copy)\n",
    "                    # Checking to see if triple gnerates answer\n",
    "                    answer = generates_answer(triples_copy, file_input, profile_input, building_graph)\n",
    "                    \n",
    "                    if any(G.nodes.data()[node]['ordered_id'] == ordered_list for node in G) == False:\n",
    "                        if answer == 'True':\n",
    "                            G.add_node(node_idx, query=triples_copy, \n",
    "                                       ordered_id = ordered_list, generates_answer=answer)\n",
    "                            G.add_edge(k_node, node_idx, rule=rule_names[r_index], \n",
    "                                       level=level_itr, triple=i)\n",
    "                            node_idx+=1\n",
    "                        else: # answer == 'False':\n",
    "                            G.add_node(node_idx, query=triples_copy, \n",
    "                                       ordered_id = ordered_list, generates_answer=answer)\n",
    "                            G.add_edge(k_node, node_idx, rule=rule_names[r_index], \n",
    "                                       level=level_itr, triple=i)\n",
    "                            # add that node with no generated answer to list of new nodes to be relaxed in next itr\n",
    "                            node_list.append(node_idx)\n",
    "                    else:\n",
    "                        #print('node deleted')\n",
    "                        pass\n",
    "                        \n",
    "    return G, node_idx, node_list\n",
    "\n",
    "def relaxtion_graph(query, limit_level, building_graph):\n",
    "    rules = [ApplyRule_LowerClass, ApplyRule_SiblingClass, ApplyRule_UpperClass, apply_rule_variable_relationship,\n",
    "             apply_rule_transitive_relationship]\n",
    "    rule_names = ['lower', 'sibling', 'upper', 'relationship', 'transitive_relationship']\n",
    "    \n",
    "    if limit_level == True:\n",
    "        limit_num = int(input('Enter desired level of relaxation:- '))\n",
    "    else:\n",
    "        limit_num = 10000000\n",
    "                        \n",
    "    triples = extract_triples(query)\n",
    "\n",
    "    G = networkx.Graph()\n",
    "    node_idx = 1\n",
    "    ordered_list = create_ordered_list(triples)\n",
    "    # Orginal query will always have a false generates answer, thus the need to relax\n",
    "    G.add_node(node_idx, query=triples, ordered_id = ordered_list, generates_answer='False')\n",
    "    node_idx+=1\n",
    "    G_old = G.copy()\n",
    "        \n",
    "    # Create First Layer, \n",
    "    #start_node = node_idx\n",
    "    level_itr = 1\n",
    "    G_new, node_idx, node_list = relax_triples(G, triples, rules, rule_names, level_itr, node_idx, k_node=1, , building_graph)\n",
    "    print('Level '+ str(level_itr) + ' complete')\n",
    "    #end_node = node_idx\n",
    "    G_new = G.copy()\n",
    "    # List of all node indexes with False 'generates_answer' attribute\n",
    "\n",
    "    # While layer contains False 'generates_answer' node(s), continue\n",
    "    while len(node_list) > 0:\n",
    "        level_itr += 1\n",
    "        for k_node in node_list:\n",
    "            query = G.nodes.data()[k_node]['query']\n",
    "            triples = query.copy()\n",
    "            G_new, node_idx, node_list = relax_triples(G, triples, rules, rule_names, level_itr, node_idx, k_node)\n",
    "        print('Level '+ str(level_itr) + 'complete')\n",
    "        if level_itr > limit_num:\n",
    "            break\n",
    "\n",
    "    return G_new"
   ]
  },
  {
   "cell_type": "code",
   "execution_count": null,
   "metadata": {},
   "outputs": [],
   "source": [
    "\n",
    "def main(query, limit_level=False, export=False, building_graph):\n",
    "    G_relaxed = relaxtion_graph(query, limit_level, building_graph)\n",
    "    print('Relaxed query graph generated')\n",
    "    if export == True:\n",
    "        # saving graph created above in gexf format, can be visualized using Gephi\n",
    "        nx.write_gexf(G_relaxed, \"full_relaxed_query.gexf\")\n",
    "        print('GEXF file generated')\n",
    "        \n",
    "    return G_relaxed\n"
   ]
  },
  {
   "cell_type": "code",
   "execution_count": 4,
   "metadata": {},
   "outputs": [],
   "source": [
    "q = \"\"\"SELECT ?vav WHERE  {\n",
    "    ?vav a brick:VAV\n",
    "}\"\"\""
   ]
  },
  {
   "cell_type": "code",
   "execution_count": 6,
   "metadata": {},
   "outputs": [
    {
     "data": {
      "text/plain": [
       "[rdflib.term.URIRef('http://buildsys.org/ontologies/ARTX#VAVRM120'),\n",
       " rdflib.term.URIRef('http://buildsys.org/ontologies/ARTX#VAVRM100'),\n",
       " rdflib.term.URIRef('http://buildsys.org/ontologies/ARTX#VAVRM112'),\n",
       " rdflib.term.URIRef('http://buildsys.org/ontologies/ARTX#VAVRM107B'),\n",
       " rdflib.term.URIRef('http://buildsys.org/ontologies/ARTX#VAVRM110'),\n",
       " rdflib.term.URIRef('http://buildsys.org/ontologies/ARTX#VAVRM103'),\n",
       " rdflib.term.URIRef('http://buildsys.org/ontologies/ARTX#VAVRM107A'),\n",
       " rdflib.term.URIRef('http://buildsys.org/ontologies/ARTX#VAVRM115')]"
      ]
     },
     "execution_count": 6,
     "metadata": {},
     "output_type": "execute_result"
    }
   ],
   "source": [
    "g = brickschema.Graph(load_brick=True)\n",
    "g.load_file(\"Data - Brick models/artx.ttl\")\n",
    "g.expand(profile=\"owlrl\")\n",
    "\n",
    "run_brick_query(building_model=g, query=q)"
   ]
  },
  {
   "cell_type": "code",
   "execution_count": 6,
   "metadata": {},
   "outputs": [
    {
     "name": "stdout",
     "output_type": "stream",
     "text": [
      "(rdflib.term.URIRef('http://buildsys.org/ontologies/MSB#MSB.ZONE.AHU05.RM060.Zone_Supply_Air_Flow'), rdflib.term.URIRef('http://buildsys.org/ontologies/MSB#VAVRM060'))\n",
      "[rdflib.term.URIRef('http://buildsys.org/ontologies/MSB#MSB.ZONE.AHU05.RM060.Zone_Supply_Air_Flow')]\n"
     ]
    }
   ],
   "source": [
    "op = []\n",
    "for row in res:\n",
    "    print(row)\n",
    "    op.append(row[0])\n",
    "    \n",
    "print(op)"
   ]
  },
  {
   "cell_type": "code",
   "execution_count": null,
   "metadata": {},
   "outputs": [],
   "source": []
  }
 ],
 "metadata": {
  "kernelspec": {
   "display_name": "Python 3",
   "language": "python",
   "name": "python3"
  },
  "language_info": {
   "codemirror_mode": {
    "name": "ipython",
    "version": 3
   },
   "file_extension": ".py",
   "mimetype": "text/x-python",
   "name": "python",
   "nbconvert_exporter": "python",
   "pygments_lexer": "ipython3",
   "version": "3.8.3"
  }
 },
 "nbformat": 4,
 "nbformat_minor": 4
}
