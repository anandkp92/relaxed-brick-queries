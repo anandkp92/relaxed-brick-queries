{
 "cells": [
  {
   "cell_type": "code",
   "execution_count": 10,
   "metadata": {},
   "outputs": [],
   "source": [
    "import os\n",
    "import sys\n",
    "module_path = os.path.abspath(os.path.join('..'))\n",
    "if module_path not in sys.path:\n",
    "    sys.path.append(module_path)"
   ]
  },
  {
   "cell_type": "code",
   "execution_count": 12,
   "metadata": {},
   "outputs": [],
   "source": [
    "import brickschema\n",
    "from brickschema.namespaces import BRICK, RDFS, OWL, TAG, RDF, SH\n",
    "from rdflib import URIRef\n",
    "from utils import *\n",
    "from rules.relationship_relaxation import *"
   ]
  },
  {
   "cell_type": "code",
   "execution_count": 13,
   "metadata": {},
   "outputs": [],
   "source": [
    "brick_graph = brickschema.Graph(load_brick=True)\n",
    "# g = brickschema.Graph(load_brick=True)\n",
    "# g.parse(\"https://brickschema.org/ttl/soda_brick.ttl\", format=\"ttl\")"
   ]
  },
  {
   "cell_type": "code",
   "execution_count": 14,
   "metadata": {},
   "outputs": [],
   "source": [
    "relationships = get_all_brick_relationships()\n",
    "relationship_domain_range_map = get_relationship_domain_range_map()\n",
    "shacl_relationship_map = get_shacl_relationship_map()\n",
    "equipment = get_all_equipment()\n",
    "hvac_equipment = get_hvac_equipment()"
   ]
  },
  {
   "cell_type": "code",
   "execution_count": 15,
   "metadata": {},
   "outputs": [],
   "source": [
    "query = \"\"\"SELECT ?afs ?afsp ?vav WHERE  {\n",
    "    ?afs    a       brick:Air_Flow_Sensor .\n",
    "    ?afsp   a       brick:Air_Flow_Setpoint .\n",
    "    ?afs    brick:isPointOf ?vav .\n",
    "    ?afsp   brick:isPointOf ?vav .\n",
    "    ?vav    a   brick:VAV\n",
    "}\"\"\""
   ]
  },
  {
   "cell_type": "code",
   "execution_count": 16,
   "metadata": {},
   "outputs": [
    {
     "data": {
      "text/plain": [
       "[['?afs', 'a', 'brick:Air_Flow_Sensor'],\n",
       " ['?afsp', 'a', 'brick:Air_Flow_Setpoint'],\n",
       " ['?afs', 'brick:isPointOf', '?vav'],\n",
       " ['?afsp', 'brick:isPointOf', '?vav'],\n",
       " ['?vav', 'a', 'brick:VAV']]"
      ]
     },
     "execution_count": 16,
     "metadata": {},
     "output_type": "execute_result"
    }
   ],
   "source": [
    "triples = extract_triples(query)\n",
    "triples"
   ]
  },
  {
   "cell_type": "code",
   "execution_count": 17,
   "metadata": {},
   "outputs": [
    {
     "data": {
      "text/plain": [
       "rdflib.term.URIRef('https://brickschema.org/schema/Brick#Air_Flow_Sensor')"
      ]
     },
     "execution_count": 17,
     "metadata": {},
     "output_type": "execute_result"
    }
   ],
   "source": [
    "get_type_from_triples('?afs', triples)"
   ]
  },
  {
   "cell_type": "code",
   "execution_count": 19,
   "metadata": {},
   "outputs": [
    {
     "data": {
      "text/plain": [
       "[['?afs',\n",
       "  rdflib.term.URIRef('https://brickschema.org/schema/Brick#isPointOf'),\n",
       "  '?vav']]"
      ]
     },
     "execution_count": 19,
     "metadata": {},
     "output_type": "execute_result"
    }
   ],
   "source": [
    "apply_rule_variable_relationship(['?afs', 'brick:isPointOf', '?vav'], triples=triples)"
   ]
  },
  {
   "cell_type": "code",
   "execution_count": 20,
   "metadata": {},
   "outputs": [
    {
     "data": {
      "text/plain": [
       "[['?afs',\n",
       "  rdflib.term.URIRef('https://brickschema.org/schema/Brick#isPointOf'),\n",
       "  '?vav']]"
      ]
     },
     "execution_count": 20,
     "metadata": {},
     "output_type": "execute_result"
    }
   ],
   "source": [
    "apply_rule_variable_relationship(['?afs', 'brick:isPointOf', '?vav'], triples)"
   ]
  },
  {
   "cell_type": "code",
   "execution_count": 21,
   "metadata": {},
   "outputs": [
    {
     "data": {
      "text/plain": [
       "[['brick:VAV', 'isPartOf+', 'brick:Rooftop']]"
      ]
     },
     "execution_count": 21,
     "metadata": {},
     "output_type": "execute_result"
    }
   ],
   "source": [
    "apply_rule_transitive_relationship(['brick:VAV', 'isPartOf', 'brick:Rooftop'])"
   ]
  },
  {
   "cell_type": "code",
   "execution_count": null,
   "metadata": {},
   "outputs": [],
   "source": [
    "# similarity score for evaluation, after graph generation\n"
   ]
  }
 ],
 "metadata": {
  "kernelspec": {
   "display_name": "Python 3",
   "language": "python",
   "name": "python3"
  },
  "language_info": {
   "codemirror_mode": {
    "name": "ipython",
    "version": 3
   },
   "file_extension": ".py",
   "mimetype": "text/x-python",
   "name": "python",
   "nbconvert_exporter": "python",
   "pygments_lexer": "ipython3",
   "version": "3.8.3"
  }
 },
 "nbformat": 4,
 "nbformat_minor": 4
}
