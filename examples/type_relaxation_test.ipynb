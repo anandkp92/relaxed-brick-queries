{
 "cells": [
  {
   "cell_type": "code",
   "execution_count": 1,
   "metadata": {},
   "outputs": [],
   "source": [
    "import os\n",
    "import sys\n",
    "module_path = os.path.abspath(os.path.join('..'))\n",
    "if module_path not in sys.path:\n",
    "    sys.path.append(module_path)"
   ]
  },
  {
   "cell_type": "code",
   "execution_count": 2,
   "metadata": {},
   "outputs": [],
   "source": [
    "import pymortar\n",
    "import glob\n",
    "import brickschema\n",
    "from brickschema.namespaces import BRICK, RDFS, OWL, TAG, RDF\n",
    "from rdflib import URIRef\n",
    "from utils import *\n",
    "from rules.type_relaxation import *"
   ]
  },
  {
   "cell_type": "markdown",
   "metadata": {},
   "source": [
    "# 1.1.1 For Type relaxation rules\n",
    "\n",
    "## 1.1.1.1 ApplyRule_UpperClass() \n",
    "\n",
    "\t\t\tInput: A triple pattern t (?x, type, C[n])\n",
    "\t\t\tOutput: List of superclasses of C[n] (first layer)\n",
    "            ? A relaxed triple t’ such that if C[n] is a subclass of C[n+1], \n",
    "\t\t\tt’= (?x, type, C[n+1]) ?\n",
    "            \n",
    "## 1.1.1.2 ApplyRule_LowerClass() \n",
    "\n",
    "\t\t\tInput: A triple pattern t (?x, type, C[n])\n",
    "            Output: List of subclasses of C[n] (first layer)\n",
    "            ?A relaxed triple t’ such that if C[n] is a superclass of C[n+1], \n",
    "\t\t\tt’= (?x, type, C1)?\n",
    "            \n",
    "## 1.1.1.3 ApplyRule_SiblingClass()  \n",
    "            Input: A triple pattern t (?x, type, C[n])\n",
    "            Output: List of siblingclasses (contain same super class of C[n]) (first layer)\n",
    "            \n",
    "            \n",
    "##### parse_triple must required to create entity before a type relaxation rule can be applied"
   ]
  },
  {
   "cell_type": "code",
   "execution_count": 3,
   "metadata": {},
   "outputs": [
    {
     "name": "stdout",
     "output_type": "stream",
     "text": [
      "UPPER CLASS:\n",
      "[['?Sensor', 'rdf:type', rdflib.term.URIRef('https://brickschema.org/schema/Brick#System_Enable_Command')]]\n",
      "LOWER CLASS:\n",
      "[['?Sensor', 'rdf:type', rdflib.term.URIRef('https://brickschema.org/schema/Brick#Domestic_Hot_Water_System_Enable_Command')]]\n",
      "SIBLING CLASS:\n",
      "[['?Sensor', 'rdf:type', rdflib.term.URIRef('https://brickschema.org/schema/Brick#Chilled_Water_System_Enable_Command')], ['?Sensor', 'rdf:type', rdflib.term.URIRef('https://brickschema.org/schema/Brick#Hot_Water_System_Enable_Command')]]\n"
     ]
    }
   ],
   "source": [
    "triple = [\"?Sensor\",  \"rdf:type\", \"brick:Hot_Water_System_Enable_Command\"]\n",
    "lower = ApplyRule_LowerClass(triple)\n",
    "upper = ApplyRule_UpperClass(triple)\n",
    "sibling = ApplyRule_SiblingClass(triple)\n",
    "print(\"UPPER CLASS:\")\n",
    "print(upper)\n",
    "print(\"LOWER CLASS:\")\n",
    "print(lower)\n",
    "print(\"SIBLING CLASS:\")\n",
    "print(sibling)"
   ]
  },
  {
   "cell_type": "code",
   "execution_count": 4,
   "metadata": {},
   "outputs": [
    {
     "name": "stdout",
     "output_type": "stream",
     "text": [
      "UPPER CLASS:\n",
      "[['?Sensor', 'rdf:type', rdflib.term.URIRef('https://brickschema.org/schema/Brick#System_Enable_Command')]]\n",
      "LOWER CLASS:\n",
      "[['?Sensor', 'rdf:type', rdflib.term.URIRef('https://brickschema.org/schema/Brick#Domestic_Hot_Water_System_Enable_Command')]]\n",
      "SIBLING CLASS:\n",
      "[['?Sensor', 'rdf:type', rdflib.term.URIRef('https://brickschema.org/schema/Brick#Chilled_Water_System_Enable_Command')], ['?Sensor', 'rdf:type', rdflib.term.URIRef('https://brickschema.org/schema/Brick#Hot_Water_System_Enable_Command')]]\n"
     ]
    }
   ],
   "source": [
    "triple = [\"?Point\",  \"rdf:type\", \"brick:Demand_Sensor\"]\n",
    "print(\"UPPER CLASS:\")\n",
    "print(upper)\n",
    "print(\"LOWER CLASS:\")\n",
    "print(lower)\n",
    "print(\"SIBLING CLASS:\")\n",
    "print(sibling)"
   ]
  },
  {
   "cell_type": "code",
   "execution_count": 5,
   "metadata": {},
   "outputs": [
    {
     "name": "stdout",
     "output_type": "stream",
     "text": [
      "UPPER CLASS:\n",
      "[['?Sensor', 'rdf:type', rdflib.term.URIRef('https://brickschema.org/schema/Brick#System_Enable_Command')]]\n",
      "LOWER CLASS:\n",
      "[['?Sensor', 'rdf:type', rdflib.term.URIRef('https://brickschema.org/schema/Brick#Domestic_Hot_Water_System_Enable_Command')]]\n",
      "SIBLING CLASS:\n",
      "[['?Sensor', 'rdf:type', rdflib.term.URIRef('https://brickschema.org/schema/Brick#Chilled_Water_System_Enable_Command')], ['?Sensor', 'rdf:type', rdflib.term.URIRef('https://brickschema.org/schema/Brick#Hot_Water_System_Enable_Command')]]\n"
     ]
    }
   ],
   "source": [
    "triple = [\"?Status\",  \"rdf:type\", 'brick:Differential_Pressure_Load_Shed_Status']\n",
    "print(\"UPPER CLASS:\")\n",
    "print(upper)\n",
    "print(\"LOWER CLASS:\")\n",
    "print(lower)\n",
    "print(\"SIBLING CLASS:\")\n",
    "print(sibling)"
   ]
  },
  {
   "cell_type": "code",
   "execution_count": 6,
   "metadata": {},
   "outputs": [
    {
     "name": "stdout",
     "output_type": "stream",
     "text": [
      "UPPER CLASS:\n",
      "[['?Sensor', 'rdf:type', rdflib.term.URIRef('https://brickschema.org/schema/Brick#System_Enable_Command')]]\n",
      "LOWER CLASS:\n",
      "[['?Sensor', 'rdf:type', rdflib.term.URIRef('https://brickschema.org/schema/Brick#Domestic_Hot_Water_System_Enable_Command')]]\n",
      "SIBLING CLASS:\n",
      "[['?Sensor', 'rdf:type', rdflib.term.URIRef('https://brickschema.org/schema/Brick#Chilled_Water_System_Enable_Command')], ['?Sensor', 'rdf:type', rdflib.term.URIRef('https://brickschema.org/schema/Brick#Hot_Water_System_Enable_Command')]]\n"
     ]
    }
   ],
   "source": [
    "triple = [\"?Equipment\",  \"rdf:type\", 'brick:VAV']\n",
    "print(\"UPPER CLASS:\")\n",
    "print(upper)\n",
    "print(\"LOWER CLASS:\")\n",
    "print(lower)\n",
    "print(\"SIBLING CLASS:\")\n",
    "print(sibling)"
   ]
  },
  {
   "cell_type": "code",
   "execution_count": null,
   "metadata": {},
   "outputs": [],
   "source": []
  }
 ],
 "metadata": {
  "kernelspec": {
   "display_name": "Python 3",
   "language": "python",
   "name": "python3"
  },
  "language_info": {
   "codemirror_mode": {
    "name": "ipython",
    "version": 3
   },
   "file_extension": ".py",
   "mimetype": "text/x-python",
   "name": "python",
   "nbconvert_exporter": "python",
   "pygments_lexer": "ipython3",
   "version": "3.8.3"
  }
 },
 "nbformat": 4,
 "nbformat_minor": 4
}
