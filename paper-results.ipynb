{
 "cells": [
  {
   "cell_type": "code",
   "execution_count": 3,
   "metadata": {},
   "outputs": [],
   "source": [
    "import brickschema\n",
    "from brickschema.namespaces import BRICK, RDFS, OWL, TAG, RDF, SH\n",
    "from rdflib import URIRef\n",
    "from utils import *\n",
    "from relationship_relaxation import *"
   ]
  },
  {
   "cell_type": "code",
   "execution_count": 4,
   "metadata": {},
   "outputs": [],
   "source": [
    "brick_graph = brickschema.Graph(load_brick=True)\n",
    "# g = brickschema.Graph(load_brick=True)\n",
    "# g.parse(\"https://brickschema.org/ttl/soda_brick.ttl\", format=\"ttl\")"
   ]
  },
  {
   "cell_type": "code",
   "execution_count": 5,
   "metadata": {},
   "outputs": [],
   "source": [
    "relationships = get_all_brick_relationships()\n",
    "relationship_domain_range_map = get_relationship_domain_range_map()\n",
    "equipment = get_all_equipment()\n",
    "hvac_equipment = get_hvac_equipment()"
   ]
  },
  {
   "cell_type": "code",
   "execution_count": 6,
   "metadata": {},
   "outputs": [],
   "source": [
    "query = \"\"\"SELECT ?afs ?afsp ?vav WHERE  {\n",
    "    ?afs    a       brick:Air_Flow_Sensor .\n",
    "    ?afsp   a       brick:Air_Flow_Setpoint .\n",
    "    ?afs    brick:isPointOf ?vav .\n",
    "    ?afsp   brick:isPointOf ?vav .\n",
    "    ?vav    a   brick:VAV\n",
    "}\"\"\""
   ]
  },
  {
   "cell_type": "code",
   "execution_count": 7,
   "metadata": {},
   "outputs": [
    {
     "data": {
      "text/plain": [
       "[['?afs', 'a', 'brick:Air_Flow_Sensor'],\n",
       " ['?afsp', 'a', 'brick:Air_Flow_Setpoint'],\n",
       " ['?afs', 'brick:isPointOf', '?vav'],\n",
       " ['?afsp', 'brick:isPointOf', '?vav'],\n",
       " ['?vav', 'a', 'brick:VAV']]"
      ]
     },
     "execution_count": 7,
     "metadata": {},
     "output_type": "execute_result"
    }
   ],
   "source": [
    "extract_triples(query)"
   ]
  },
  {
   "cell_type": "code",
   "execution_count": 9,
   "metadata": {},
   "outputs": [
    {
     "data": {
      "text/plain": [
       "[['brick:VAV',\n",
       "  rdflib.term.URIRef('https://brickschema.org/schema/Brick#feeds'),\n",
       "  'brick:Rooftop'],\n",
       " ['brick:VAV',\n",
       "  rdflib.term.URIRef('https://brickschema.org/schema/Brick#controls'),\n",
       "  'brick:Rooftop'],\n",
       " ['brick:VAV',\n",
       "  rdflib.term.URIRef('https://brickschema.org/schema/Brick#feedsAir'),\n",
       "  'brick:Rooftop'],\n",
       " ['brick:VAV',\n",
       "  rdflib.term.URIRef('https://brickschema.org/schema/Brick#value'),\n",
       "  'brick:Rooftop'],\n",
       " ['brick:VAV',\n",
       "  rdflib.term.URIRef('https://brickschema.org/schema/Brick#isFedBy'),\n",
       "  'brick:Rooftop'],\n",
       " ['brick:VAV',\n",
       "  rdflib.term.URIRef('https://brickschema.org/schema/Brick#hasLocation'),\n",
       "  'brick:Rooftop'],\n",
       " ['brick:VAV',\n",
       "  rdflib.term.URIRef('https://brickschema.org/schema/Brick#isControlledBy'),\n",
       "  'brick:Rooftop'],\n",
       " ['brick:VAV',\n",
       "  rdflib.term.URIRef('https://brickschema.org/schema/Brick#isPartOf'),\n",
       "  'brick:Rooftop'],\n",
       " ['brick:VAV',\n",
       "  rdflib.term.URIRef('https://brickschema.org/schema/Brick#hasPart'),\n",
       "  'brick:Rooftop']]"
      ]
     },
     "execution_count": 9,
     "metadata": {},
     "output_type": "execute_result"
    }
   ],
   "source": [
    "apply_rule_variable_relationship(['brick:VAV', 'isPartOf', 'brick:Rooftop'])"
   ]
  },
  {
   "cell_type": "code",
   "execution_count": null,
   "metadata": {},
   "outputs": [],
   "source": []
  }
 ],
 "metadata": {
  "kernelspec": {
   "display_name": "Python 3",
   "language": "python",
   "name": "python3"
  },
  "language_info": {
   "codemirror_mode": {
    "name": "ipython",
    "version": 3
   },
   "file_extension": ".py",
   "mimetype": "text/x-python",
   "name": "python",
   "nbconvert_exporter": "python",
   "pygments_lexer": "ipython3",
   "version": "3.8.3"
  }
 },
 "nbformat": 4,
 "nbformat_minor": 4
}
