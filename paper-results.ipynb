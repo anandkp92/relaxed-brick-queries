{
 "cells": [
  {
   "cell_type": "code",
   "execution_count": 1,
   "metadata": {},
   "outputs": [],
   "source": [
    "import brickschema\n",
    "from utils import *"
   ]
  },
  {
   "cell_type": "code",
   "execution_count": 2,
   "metadata": {},
   "outputs": [
    {
     "data": {
      "text/plain": [
       "<Graph identifier=N15733928cf3047dabc8bf5e534be15f5 (<class 'brickschema.graph.Graph'>)>"
      ]
     },
     "execution_count": 2,
     "metadata": {},
     "output_type": "execute_result"
    }
   ],
   "source": [
    "brick_graph = brickschema.Graph(load_brick=True)\n",
    "g = brickschema.Graph(load_brick=True)\n",
    "g.parse(\"https://brickschema.org/ttl/soda_brick.ttl\", format=\"ttl\")"
   ]
  },
  {
   "cell_type": "code",
   "execution_count": 3,
   "metadata": {},
   "outputs": [],
   "source": [
    "query = \"\"\"SELECT ?afs ?afsp ?vav WHERE  {\n",
    "    ?afs    a       brick:Air_Flow_Sensor .\n",
    "    ?afsp   a       brick:Air_Flow_Setpoint .\n",
    "    ?afs    brick:isPointOf ?vav .\n",
    "    ?afsp   brick:isPointOf ?vav .\n",
    "    ?vav    a   brick:VAV\n",
    "}\"\"\""
   ]
  },
  {
   "cell_type": "code",
   "execution_count": 4,
   "metadata": {},
   "outputs": [
    {
     "data": {
      "text/plain": [
       "[['?afs', 'a', 'brick:Air_Flow_Sensor'],\n",
       " ['?afsp', 'a', 'brick:Air_Flow_Setpoint'],\n",
       " ['?afs', 'brick:isPointOf', '?vav'],\n",
       " ['?afsp', 'brick:isPointOf', '?vav'],\n",
       " ['?vav', 'a', 'brick:VAV']]"
      ]
     },
     "execution_count": 4,
     "metadata": {},
     "output_type": "execute_result"
    }
   ],
   "source": [
    "extract_triples(query)"
   ]
  }
 ],
 "metadata": {
  "kernelspec": {
   "display_name": "Python 3",
   "language": "python",
   "name": "python3"
  },
  "language_info": {
   "codemirror_mode": {
    "name": "ipython",
    "version": 3
   },
   "file_extension": ".py",
   "mimetype": "text/x-python",
   "name": "python",
   "nbconvert_exporter": "python",
   "pygments_lexer": "ipython3",
   "version": "3.8.3"
  }
 },
 "nbformat": 4,
 "nbformat_minor": 4
}
