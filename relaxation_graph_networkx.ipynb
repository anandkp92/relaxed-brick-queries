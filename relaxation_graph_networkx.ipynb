{
 "cells": [
  {
   "cell_type": "code",
   "execution_count": 17,
   "metadata": {},
   "outputs": [],
   "source": [
    "import brickschema\n",
    "from brickschema.namespaces import BRICK, RDFS, OWL, TAG, RDF, SH\n",
    "from rdflib import URIRef\n",
    "from utils import *\n",
    "from relationship_relaxation import *\n",
    "from type_relaxation_rdf import *\n",
    "import networkx"
   ]
  },
  {
   "cell_type": "code",
   "execution_count": 2,
   "metadata": {},
   "outputs": [],
   "source": [
    "brick_graph = brickschema.Graph(load_brick=True)\n",
    "# g = brickschema.Graph(load_brick=True)\n",
    "# g.parse(\"https://brickschema.org/ttl/soda_brick.ttl\", format=\"ttl\")"
   ]
  },
  {
   "cell_type": "code",
   "execution_count": 3,
   "metadata": {},
   "outputs": [],
   "source": [
    "query = \"\"\"SELECT ?afs ?afsp ?vav WHERE  {\n",
    "    ?afs    a       brick:Air_Flow_Sensor .\n",
    "    ?afsp   a       brick:Air_Flow_Setpoint .\n",
    "    ?afs    brick:isPointOf ?vav .\n",
    "    ?afsp   brick:isPointOf ?vav .\n",
    "    ?vav    a   brick:VAV\n",
    "}\"\"\""
   ]
  },
  {
   "cell_type": "code",
   "execution_count": 4,
   "metadata": {},
   "outputs": [
    {
     "data": {
      "text/plain": [
       "[['?afs', 'a', 'brick:Air_Flow_Sensor'],\n",
       " ['?afsp', 'a', 'brick:Air_Flow_Setpoint'],\n",
       " ['?afs', 'brick:isPointOf', '?vav'],\n",
       " ['?afsp', 'brick:isPointOf', '?vav'],\n",
       " ['?vav', 'a', 'brick:VAV']]"
      ]
     },
     "execution_count": 4,
     "metadata": {},
     "output_type": "execute_result"
    }
   ],
   "source": [
    "extract_triples(query)"
   ]
  },
  {
   "cell_type": "code",
   "execution_count": 57,
   "metadata": {},
   "outputs": [],
   "source": [
    "rules = [ApplyRule_LowerClass, ApplyRule_SiblingClass, ApplyRule_UpperClass, apply_rule_variable_relationship]\n",
    "rule_names = ['lower', 'sibling', 'upper', 'relationship']\n",
    "\n",
    "triples = extract_triples(query)\n",
    "\n",
    "relaxation_dict = {}\n",
    "\n",
    "G = networkx.Graph()\n",
    "\n",
    "node_idx = 0\n",
    "G.add_node(node_idx, query=triples)\n",
    "node_idx+=1\n",
    "\n",
    "\n",
    "\n",
    "# for triples in get_sets_of_triples()\n",
    "\n",
    "for r_index in range(len(rules)):\n",
    "    rule = rules[r_index]\n",
    "\n",
    "    for i in range(len(triples)):\n",
    "        triple = triples[i]\n",
    "        relaxed_triples = rule(triple)\n",
    "        \n",
    "        if len(relaxed_triples) > 0:\n",
    "            for relaxed_triple in relaxed_triples:\n",
    "                triples_copy = triples.copy()\n",
    "                triples_copy[i] = relaxed_triple\n",
    "                G.add_node(node_idx, query=triples_copy)\n",
    "                G.add_edge(0, node_idx, rule=rule_names[r_index], level=1, triple=i)\n",
    "                node_idx+=1\n"
   ]
  },
  {
   "cell_type": "code",
   "execution_count": 65,
   "metadata": {},
   "outputs": [
    {
     "data": {
      "text/plain": [
       "NodeDataView({0: {'query': [['?afs', 'a', 'brick:Air_Flow_Sensor'], ['?afsp', 'a', 'brick:Air_Flow_Setpoint'], ['?afs', 'brick:isPointOf', '?vav'], ['?afsp', 'brick:isPointOf', '?vav'], ['?vav', 'a', 'brick:VAV']]}, 1: {'query': [['?afs', 'a', rdflib.term.URIRef('https://brickschema.org/schema/Brick#Fume_Hood_Air_Flow_Sensor')], ['?afsp', 'a', 'brick:Air_Flow_Setpoint'], ['?afs', 'brick:isPointOf', '?vav'], ['?afsp', 'brick:isPointOf', '?vav'], ['?vav', 'a', 'brick:VAV']]}, 2: {'query': [['?afs', 'a', rdflib.term.URIRef('https://brickschema.org/schema/Brick#Outside_Air_Flow_Sensor')], ['?afsp', 'a', 'brick:Air_Flow_Setpoint'], ['?afs', 'brick:isPointOf', '?vav'], ['?afsp', 'brick:isPointOf', '?vav'], ['?vav', 'a', 'brick:VAV']]}, 3: {'query': [['?afs', 'a', rdflib.term.URIRef('https://brickschema.org/schema/Brick#Return_Air_Flow_Sensor')], ['?afsp', 'a', 'brick:Air_Flow_Setpoint'], ['?afs', 'brick:isPointOf', '?vav'], ['?afsp', 'brick:isPointOf', '?vav'], ['?vav', 'a', 'brick:VAV']]}, 4: {'query': [['?afs', 'a', rdflib.term.URIRef('https://brickschema.org/schema/Brick#Discharge_Air_Flow_Sensor')], ['?afsp', 'a', 'brick:Air_Flow_Setpoint'], ['?afs', 'brick:isPointOf', '?vav'], ['?afsp', 'brick:isPointOf', '?vav'], ['?vav', 'a', 'brick:VAV']]}, 5: {'query': [['?afs', 'a', rdflib.term.URIRef('https://brickschema.org/schema/Brick#Supply_Air_Flow_Sensor')], ['?afsp', 'a', 'brick:Air_Flow_Setpoint'], ['?afs', 'brick:isPointOf', '?vav'], ['?afsp', 'brick:isPointOf', '?vav'], ['?vav', 'a', 'brick:VAV']]}, 6: {'query': [['?afs', 'a', rdflib.term.URIRef('https://brickschema.org/schema/Brick#Exhaust_Air_Flow_Sensor')], ['?afsp', 'a', 'brick:Air_Flow_Setpoint'], ['?afs', 'brick:isPointOf', '?vav'], ['?afsp', 'brick:isPointOf', '?vav'], ['?vav', 'a', 'brick:VAV']]}, 7: {'query': [['?afs', 'a', rdflib.term.URIRef('https://brickschema.org/schema/Brick#Bypass_Air_Flow_Sensor')], ['?afsp', 'a', 'brick:Air_Flow_Setpoint'], ['?afs', 'brick:isPointOf', '?vav'], ['?afsp', 'brick:isPointOf', '?vav'], ['?vav', 'a', 'brick:VAV']]}, 8: {'query': [['?afs', 'a', 'brick:Air_Flow_Sensor'], ['?afsp', 'a', rdflib.term.URIRef('https://brickschema.org/schema/Brick#Air_Flow_Demand_Setpoint')], ['?afs', 'brick:isPointOf', '?vav'], ['?afsp', 'brick:isPointOf', '?vav'], ['?vav', 'a', 'brick:VAV']]}, 9: {'query': [['?afs', 'a', 'brick:Air_Flow_Sensor'], ['?afsp', 'a', rdflib.term.URIRef('https://brickschema.org/schema/Brick#Supply_Air_Flow_Setpoint')], ['?afs', 'brick:isPointOf', '?vav'], ['?afsp', 'brick:isPointOf', '?vav'], ['?vav', 'a', 'brick:VAV']]}, 10: {'query': [['?afs', 'a', 'brick:Air_Flow_Sensor'], ['?afsp', 'a', rdflib.term.URIRef('https://brickschema.org/schema/Brick#Exhaust_Air_Flow_Setpoint')], ['?afs', 'brick:isPointOf', '?vav'], ['?afsp', 'brick:isPointOf', '?vav'], ['?vav', 'a', 'brick:VAV']]}, 11: {'query': [['?afs', 'a', 'brick:Air_Flow_Sensor'], ['?afsp', 'a', rdflib.term.URIRef('https://brickschema.org/schema/Brick#Outside_Air_Flow_Setpoint')], ['?afs', 'brick:isPointOf', '?vav'], ['?afsp', 'brick:isPointOf', '?vav'], ['?vav', 'a', 'brick:VAV']]}, 12: {'query': [['?afs', 'a', 'brick:Air_Flow_Sensor'], ['?afsp', 'a', rdflib.term.URIRef('https://brickschema.org/schema/Brick#Discharge_Air_Flow_Setpoint')], ['?afs', 'brick:isPointOf', '?vav'], ['?afsp', 'brick:isPointOf', '?vav'], ['?vav', 'a', 'brick:VAV']]}, 13: {'query': [['?afs', 'a', 'brick:Air_Flow_Sensor'], ['?afsp', 'a', rdflib.term.URIRef('https://brickschema.org/schema/Brick#Air_Flow_Deadband_Setpoint')], ['?afs', 'brick:isPointOf', '?vav'], ['?afsp', 'brick:isPointOf', '?vav'], ['?vav', 'a', 'brick:VAV']]}, 14: {'query': [['?afs', 'a', rdflib.term.URIRef('https://brickschema.org/schema/Brick#Water_Flow_Sensor')], ['?afsp', 'a', 'brick:Air_Flow_Setpoint'], ['?afs', 'brick:isPointOf', '?vav'], ['?afsp', 'brick:isPointOf', '?vav'], ['?vav', 'a', 'brick:VAV']]}, 15: {'query': [['?afs', 'a', rdflib.term.URIRef('https://brickschema.org/schema/Brick#Air_Flow_Sensor')], ['?afsp', 'a', 'brick:Air_Flow_Setpoint'], ['?afs', 'brick:isPointOf', '?vav'], ['?afsp', 'brick:isPointOf', '?vav'], ['?vav', 'a', 'brick:VAV']]}, 16: {'query': [['?afs', 'a', 'brick:Air_Flow_Sensor'], ['?afsp', 'a', rdflib.term.URIRef('https://brickschema.org/schema/Brick#Air_Flow_Setpoint')], ['?afs', 'brick:isPointOf', '?vav'], ['?afsp', 'brick:isPointOf', '?vav'], ['?vav', 'a', 'brick:VAV']]}, 17: {'query': [['?afs', 'a', 'brick:Air_Flow_Sensor'], ['?afsp', 'a', 'brick:Air_Flow_Setpoint'], ['?afs', 'brick:isPointOf', '?vav'], ['?afsp', 'brick:isPointOf', '?vav'], ['?vav', 'a', rdflib.term.URIRef('https://brickschema.org/schema/Brick#Variable_Air_Volume_Box')]]}, 18: {'query': [['?afs', 'a', 'brick:Air_Flow_Sensor'], ['?afsp', 'a', 'brick:Air_Flow_Setpoint'], ['?afs', 'brick:isPointOf', '?vav'], ['?afsp', 'brick:isPointOf', '?vav'], ['?vav', 'a', rdflib.term.URIRef('https://brickschema.org/schema/Brick#VAV')]]}, 19: {'query': [['?afs', 'a', 'brick:Air_Flow_Sensor'], ['?afsp', 'a', 'brick:Air_Flow_Setpoint'], ['?afs', 'brick:isPointOf', '?vav'], ['?afsp', 'brick:isPointOf', '?vav'], ['?vav', 'a', rdflib.term.URIRef('https://brickschema.org/schema/Brick#Fan_Coil_Unit')]]}, 20: {'query': [['?afs', 'a', 'brick:Air_Flow_Sensor'], ['?afsp', 'a', 'brick:Air_Flow_Setpoint'], ['?afs', 'brick:isPointOf', '?vav'], ['?afsp', 'brick:isPointOf', '?vav'], ['?vav', 'a', rdflib.term.URIRef('https://brickschema.org/schema/Brick#FCU')]]}, 21: {'query': [['?afs', 'a', 'brick:Air_Flow_Sensor'], ['?afsp', 'a', 'brick:Air_Flow_Setpoint'], ['?afs', 'brick:isPointOf', '?vav'], ['?afsp', 'brick:isPointOf', '?vav'], ['?vav', 'a', rdflib.term.URIRef('https://brickschema.org/schema/Brick#CAV')]]}, 22: {'query': [['?afs', 'a', 'brick:Air_Flow_Sensor'], ['?afsp', 'a', 'brick:Air_Flow_Setpoint'], ['?afs', 'brick:isPointOf', '?vav'], ['?afsp', 'brick:isPointOf', '?vav'], ['?vav', 'a', rdflib.term.URIRef('https://brickschema.org/schema/Brick#Radiator')]]}, 23: {'query': [['?afs', 'a', 'brick:Air_Flow_Sensor'], ['?afsp', 'a', 'brick:Air_Flow_Setpoint'], ['?afs', 'brick:isPointOf', '?vav'], ['?afsp', 'brick:isPointOf', '?vav'], ['?vav', 'a', rdflib.term.URIRef('https://brickschema.org/schema/Brick#Constant_Air_Volume_Box')]]}, 24: {'query': [['?afs', 'a', rdflib.term.URIRef('https://brickschema.org/schema/Brick#Flow_Sensor')], ['?afsp', 'a', 'brick:Air_Flow_Setpoint'], ['?afs', 'brick:isPointOf', '?vav'], ['?afsp', 'brick:isPointOf', '?vav'], ['?vav', 'a', 'brick:VAV']]}, 25: {'query': [['?afs', 'a', 'brick:Air_Flow_Sensor'], ['?afsp', 'a', rdflib.term.URIRef('https://brickschema.org/schema/Brick#Flow_Setpoint')], ['?afs', 'brick:isPointOf', '?vav'], ['?afsp', 'brick:isPointOf', '?vav'], ['?vav', 'a', 'brick:VAV']]}, 26: {'query': [['?afs', 'a', 'brick:Air_Flow_Sensor'], ['?afsp', 'a', 'brick:Air_Flow_Setpoint'], ['?afs', 'brick:isPointOf', '?vav'], ['?afsp', 'brick:isPointOf', '?vav'], ['?vav', 'a', rdflib.term.URIRef('https://brickschema.org/schema/Brick#Terminal_Unit')]]}, 27: {'query': [['?afs', rdflib.term.URIRef('https://brickschema.org/schema/Brick#isMeasuredBy'), 'brick:Air_Flow_Sensor'], ['?afsp', 'a', 'brick:Air_Flow_Setpoint'], ['?afs', 'brick:isPointOf', '?vav'], ['?afsp', 'brick:isPointOf', '?vav'], ['?vav', 'a', 'brick:VAV']]}, 28: {'query': [['?afs', rdflib.term.URIRef('https://brickschema.org/schema/Brick#isLocationOf'), 'brick:Air_Flow_Sensor'], ['?afsp', 'a', 'brick:Air_Flow_Setpoint'], ['?afs', 'brick:isPointOf', '?vav'], ['?afsp', 'brick:isPointOf', '?vav'], ['?vav', 'a', 'brick:VAV']]}, 29: {'query': [['?afs', rdflib.term.URIRef('https://brickschema.org/schema/Brick#value'), 'brick:Air_Flow_Sensor'], ['?afsp', 'a', 'brick:Air_Flow_Setpoint'], ['?afs', 'brick:isPointOf', '?vav'], ['?afsp', 'brick:isPointOf', '?vav'], ['?vav', 'a', 'brick:VAV']]}, 30: {'query': [['?afs', rdflib.term.URIRef('https://brickschema.org/schema/Brick#isTagOf'), 'brick:Air_Flow_Sensor'], ['?afsp', 'a', 'brick:Air_Flow_Setpoint'], ['?afs', 'brick:isPointOf', '?vav'], ['?afsp', 'brick:isPointOf', '?vav'], ['?vav', 'a', 'brick:VAV']]}, 31: {'query': [['?afs', rdflib.term.URIRef('https://brickschema.org/schema/Brick#controls'), 'brick:Air_Flow_Sensor'], ['?afsp', 'a', 'brick:Air_Flow_Setpoint'], ['?afs', 'brick:isPointOf', '?vav'], ['?afsp', 'brick:isPointOf', '?vav'], ['?vav', 'a', 'brick:VAV']]}, 32: {'query': [['?afs', rdflib.term.URIRef('https://brickschema.org/schema/Brick#hasPoint'), 'brick:Air_Flow_Sensor'], ['?afsp', 'a', 'brick:Air_Flow_Setpoint'], ['?afs', 'brick:isPointOf', '?vav'], ['?afsp', 'brick:isPointOf', '?vav'], ['?vav', 'a', 'brick:VAV']]}, 33: {'query': [['?afs', rdflib.term.URIRef('https://brickschema.org/schema/Brick#storedAt'), 'brick:Air_Flow_Sensor'], ['?afsp', 'a', 'brick:Air_Flow_Setpoint'], ['?afs', 'brick:isPointOf', '?vav'], ['?afsp', 'brick:isPointOf', '?vav'], ['?vav', 'a', 'brick:VAV']]}, 34: {'query': [['?afs', rdflib.term.URIRef('https://brickschema.org/schema/Brick#isControlledBy'), 'brick:Air_Flow_Sensor'], ['?afsp', 'a', 'brick:Air_Flow_Setpoint'], ['?afs', 'brick:isPointOf', '?vav'], ['?afsp', 'brick:isPointOf', '?vav'], ['?vav', 'a', 'brick:VAV']]}, 35: {'query': [['?afs', rdflib.term.URIRef('https://brickschema.org/schema/Brick#feedsAir'), 'brick:Air_Flow_Sensor'], ['?afsp', 'a', 'brick:Air_Flow_Setpoint'], ['?afs', 'brick:isPointOf', '?vav'], ['?afsp', 'brick:isPointOf', '?vav'], ['?vav', 'a', 'brick:VAV']]}, 36: {'query': [['?afs', 'a', 'brick:Air_Flow_Sensor'], ['?afsp', rdflib.term.URIRef('https://brickschema.org/schema/Brick#isMeasuredBy'), 'brick:Air_Flow_Setpoint'], ['?afs', 'brick:isPointOf', '?vav'], ['?afsp', 'brick:isPointOf', '?vav'], ['?vav', 'a', 'brick:VAV']]}, 37: {'query': [['?afs', 'a', 'brick:Air_Flow_Sensor'], ['?afsp', rdflib.term.URIRef('https://brickschema.org/schema/Brick#isLocationOf'), 'brick:Air_Flow_Setpoint'], ['?afs', 'brick:isPointOf', '?vav'], ['?afsp', 'brick:isPointOf', '?vav'], ['?vav', 'a', 'brick:VAV']]}, 38: {'query': [['?afs', 'a', 'brick:Air_Flow_Sensor'], ['?afsp', rdflib.term.URIRef('https://brickschema.org/schema/Brick#value'), 'brick:Air_Flow_Setpoint'], ['?afs', 'brick:isPointOf', '?vav'], ['?afsp', 'brick:isPointOf', '?vav'], ['?vav', 'a', 'brick:VAV']]}, 39: {'query': [['?afs', 'a', 'brick:Air_Flow_Sensor'], ['?afsp', rdflib.term.URIRef('https://brickschema.org/schema/Brick#isTagOf'), 'brick:Air_Flow_Setpoint'], ['?afs', 'brick:isPointOf', '?vav'], ['?afsp', 'brick:isPointOf', '?vav'], ['?vav', 'a', 'brick:VAV']]}, 40: {'query': [['?afs', 'a', 'brick:Air_Flow_Sensor'], ['?afsp', rdflib.term.URIRef('https://brickschema.org/schema/Brick#controls'), 'brick:Air_Flow_Setpoint'], ['?afs', 'brick:isPointOf', '?vav'], ['?afsp', 'brick:isPointOf', '?vav'], ['?vav', 'a', 'brick:VAV']]}, 41: {'query': [['?afs', 'a', 'brick:Air_Flow_Sensor'], ['?afsp', rdflib.term.URIRef('https://brickschema.org/schema/Brick#hasPoint'), 'brick:Air_Flow_Setpoint'], ['?afs', 'brick:isPointOf', '?vav'], ['?afsp', 'brick:isPointOf', '?vav'], ['?vav', 'a', 'brick:VAV']]}, 42: {'query': [['?afs', 'a', 'brick:Air_Flow_Sensor'], ['?afsp', rdflib.term.URIRef('https://brickschema.org/schema/Brick#storedAt'), 'brick:Air_Flow_Setpoint'], ['?afs', 'brick:isPointOf', '?vav'], ['?afsp', 'brick:isPointOf', '?vav'], ['?vav', 'a', 'brick:VAV']]}, 43: {'query': [['?afs', 'a', 'brick:Air_Flow_Sensor'], ['?afsp', rdflib.term.URIRef('https://brickschema.org/schema/Brick#isControlledBy'), 'brick:Air_Flow_Setpoint'], ['?afs', 'brick:isPointOf', '?vav'], ['?afsp', 'brick:isPointOf', '?vav'], ['?vav', 'a', 'brick:VAV']]}, 44: {'query': [['?afs', 'a', 'brick:Air_Flow_Sensor'], ['?afsp', rdflib.term.URIRef('https://brickschema.org/schema/Brick#feedsAir'), 'brick:Air_Flow_Setpoint'], ['?afs', 'brick:isPointOf', '?vav'], ['?afsp', 'brick:isPointOf', '?vav'], ['?vav', 'a', 'brick:VAV']]}, 45: {'query': [['?afs', 'a', 'brick:Air_Flow_Sensor'], ['?afsp', 'a', 'brick:Air_Flow_Setpoint'], ['?afs', rdflib.term.URIRef('https://brickschema.org/schema/Brick#hasAssociatedTag'), '?vav'], ['?afsp', 'brick:isPointOf', '?vav'], ['?vav', 'a', 'brick:VAV']]}, 46: {'query': [['?afs', 'a', 'brick:Air_Flow_Sensor'], ['?afsp', 'a', 'brick:Air_Flow_Setpoint'], ['?afs', rdflib.term.URIRef('https://brickschema.org/schema/Brick#isMeasuredBy'), '?vav'], ['?afsp', 'brick:isPointOf', '?vav'], ['?vav', 'a', 'brick:VAV']]}, 47: {'query': [['?afs', 'a', 'brick:Air_Flow_Sensor'], ['?afsp', 'a', 'brick:Air_Flow_Setpoint'], ['?afs', rdflib.term.URIRef('https://brickschema.org/schema/Brick#hasUnit'), '?vav'], ['?afsp', 'brick:isPointOf', '?vav'], ['?vav', 'a', 'brick:VAV']]}, 48: {'query': [['?afs', 'a', 'brick:Air_Flow_Sensor'], ['?afsp', 'a', 'brick:Air_Flow_Setpoint'], ['?afs', rdflib.term.URIRef('https://brickschema.org/schema/Brick#hasPart'), '?vav'], ['?afsp', 'brick:isPointOf', '?vav'], ['?vav', 'a', 'brick:VAV']]}, 49: {'query': [['?afs', 'a', 'brick:Air_Flow_Sensor'], ['?afsp', 'a', 'brick:Air_Flow_Setpoint'], ['?afs', rdflib.term.URIRef('https://brickschema.org/schema/Brick#feeds'), '?vav'], ['?afsp', 'brick:isPointOf', '?vav'], ['?vav', 'a', 'brick:VAV']]}, 50: {'query': [['?afs', 'a', 'brick:Air_Flow_Sensor'], ['?afsp', 'a', 'brick:Air_Flow_Setpoint'], ['?afs', rdflib.term.URIRef('https://brickschema.org/schema/Brick#measures'), '?vav'], ['?afsp', 'brick:isPointOf', '?vav'], ['?vav', 'a', 'brick:VAV']]}, 51: {'query': [['?afs', 'a', 'brick:Air_Flow_Sensor'], ['?afsp', 'a', 'brick:Air_Flow_Setpoint'], ['?afs', rdflib.term.URIRef('https://brickschema.org/schema/Brick#isLocationOf'), '?vav'], ['?afsp', 'brick:isPointOf', '?vav'], ['?vav', 'a', 'brick:VAV']]}, 52: {'query': [['?afs', 'a', 'brick:Air_Flow_Sensor'], ['?afsp', 'a', 'brick:Air_Flow_Setpoint'], ['?afs', rdflib.term.URIRef('https://brickschema.org/schema/Brick#value'), '?vav'], ['?afsp', 'brick:isPointOf', '?vav'], ['?vav', 'a', 'brick:VAV']]}, 53: {'query': [['?afs', 'a', 'brick:Air_Flow_Sensor'], ['?afsp', 'a', 'brick:Air_Flow_Setpoint'], ['?afs', rdflib.term.URIRef('https://brickschema.org/schema/Brick#regulates'), '?vav'], ['?afsp', 'brick:isPointOf', '?vav'], ['?vav', 'a', 'brick:VAV']]}, 54: {'query': [['?afs', 'a', 'brick:Air_Flow_Sensor'], ['?afsp', 'a', 'brick:Air_Flow_Setpoint'], ['?afs', rdflib.term.URIRef('https://brickschema.org/schema/Brick#hasInputSubstance'), '?vav'], ['?afsp', 'brick:isPointOf', '?vav'], ['?vav', 'a', 'brick:VAV']]}, 55: {'query': [['?afs', 'a', 'brick:Air_Flow_Sensor'], ['?afsp', 'a', 'brick:Air_Flow_Setpoint'], ['?afs', rdflib.term.URIRef('https://brickschema.org/schema/Brick#isTagOf'), '?vav'], ['?afsp', 'brick:isPointOf', '?vav'], ['?vav', 'a', 'brick:VAV']]}, 56: {'query': [['?afs', 'a', 'brick:Air_Flow_Sensor'], ['?afsp', 'a', 'brick:Air_Flow_Setpoint'], ['?afs', rdflib.term.URIRef('https://brickschema.org/schema/Brick#controls'), '?vav'], ['?afsp', 'brick:isPointOf', '?vav'], ['?vav', 'a', 'brick:VAV']]}, 57: {'query': [['?afs', 'a', 'brick:Air_Flow_Sensor'], ['?afsp', 'a', 'brick:Air_Flow_Setpoint'], ['?afs', rdflib.term.URIRef('https://brickschema.org/schema/Brick#hasLocation'), '?vav'], ['?afsp', 'brick:isPointOf', '?vav'], ['?vav', 'a', 'brick:VAV']]}, 58: {'query': [['?afs', 'a', 'brick:Air_Flow_Sensor'], ['?afsp', 'a', 'brick:Air_Flow_Setpoint'], ['?afs', rdflib.term.URIRef('https://brickschema.org/schema/Brick#isAssociatedWith'), '?vav'], ['?afsp', 'brick:isPointOf', '?vav'], ['?vav', 'a', 'brick:VAV']]}, 59: {'query': [['?afs', 'a', 'brick:Air_Flow_Sensor'], ['?afsp', 'a', 'brick:Air_Flow_Setpoint'], ['?afs', rdflib.term.URIRef('https://brickschema.org/schema/Brick#isPartOf'), '?vav'], ['?afsp', 'brick:isPointOf', '?vav'], ['?vav', 'a', 'brick:VAV']]}, 60: {'query': [['?afs', 'a', 'brick:Air_Flow_Sensor'], ['?afsp', 'a', 'brick:Air_Flow_Setpoint'], ['?afs', rdflib.term.URIRef('https://brickschema.org/schema/Brick#isRegulatedBy'), '?vav'], ['?afsp', 'brick:isPointOf', '?vav'], ['?vav', 'a', 'brick:VAV']]}, 61: {'query': [['?afs', 'a', 'brick:Air_Flow_Sensor'], ['?afsp', 'a', 'brick:Air_Flow_Setpoint'], ['?afs', rdflib.term.URIRef('https://brickschema.org/schema/Brick#isFedBy'), '?vav'], ['?afsp', 'brick:isPointOf', '?vav'], ['?vav', 'a', 'brick:VAV']]}, 62: {'query': [['?afs', 'a', 'brick:Air_Flow_Sensor'], ['?afsp', 'a', 'brick:Air_Flow_Setpoint'], ['?afs', rdflib.term.URIRef('https://brickschema.org/schema/Brick#hasPoint'), '?vav'], ['?afsp', 'brick:isPointOf', '?vav'], ['?vav', 'a', 'brick:VAV']]}, 63: {'query': [['?afs', 'a', 'brick:Air_Flow_Sensor'], ['?afsp', 'a', 'brick:Air_Flow_Setpoint'], ['?afs', rdflib.term.URIRef('https://brickschema.org/schema/Brick#isPointOf'), '?vav'], ['?afsp', 'brick:isPointOf', '?vav'], ['?vav', 'a', 'brick:VAV']]}, 64: {'query': [['?afs', 'a', 'brick:Air_Flow_Sensor'], ['?afsp', 'a', 'brick:Air_Flow_Setpoint'], ['?afs', rdflib.term.URIRef('https://brickschema.org/schema/Brick#storedAt'), '?vav'], ['?afsp', 'brick:isPointOf', '?vav'], ['?vav', 'a', 'brick:VAV']]}, 65: {'query': [['?afs', 'a', 'brick:Air_Flow_Sensor'], ['?afsp', 'a', 'brick:Air_Flow_Setpoint'], ['?afs', rdflib.term.URIRef('https://brickschema.org/schema/Brick#hasAddress'), '?vav'], ['?afsp', 'brick:isPointOf', '?vav'], ['?vav', 'a', 'brick:VAV']]}, 66: {'query': [['?afs', 'a', 'brick:Air_Flow_Sensor'], ['?afsp', 'a', 'brick:Air_Flow_Setpoint'], ['?afs', rdflib.term.URIRef('https://brickschema.org/schema/Brick#isControlledBy'), '?vav'], ['?afsp', 'brick:isPointOf', '?vav'], ['?vav', 'a', 'brick:VAV']]}, 67: {'query': [['?afs', 'a', 'brick:Air_Flow_Sensor'], ['?afsp', 'a', 'brick:Air_Flow_Setpoint'], ['?afs', rdflib.term.URIRef('https://brickschema.org/schema/Brick#hasTag'), '?vav'], ['?afsp', 'brick:isPointOf', '?vav'], ['?vav', 'a', 'brick:VAV']]}, 68: {'query': [['?afs', 'a', 'brick:Air_Flow_Sensor'], ['?afsp', 'a', 'brick:Air_Flow_Setpoint'], ['?afs', rdflib.term.URIRef('https://brickschema.org/schema/Brick#timeseries'), '?vav'], ['?afsp', 'brick:isPointOf', '?vav'], ['?vav', 'a', 'brick:VAV']]}, 69: {'query': [['?afs', 'a', 'brick:Air_Flow_Sensor'], ['?afsp', 'a', 'brick:Air_Flow_Setpoint'], ['?afs', rdflib.term.URIRef('https://brickschema.org/schema/Brick#hasTimeseriesId'), '?vav'], ['?afsp', 'brick:isPointOf', '?vav'], ['?vav', 'a', 'brick:VAV']]}, 70: {'query': [['?afs', 'a', 'brick:Air_Flow_Sensor'], ['?afsp', 'a', 'brick:Air_Flow_Setpoint'], ['?afs', rdflib.term.URIRef('https://brickschema.org/schema/Brick#feedsAir'), '?vav'], ['?afsp', 'brick:isPointOf', '?vav'], ['?vav', 'a', 'brick:VAV']]}, 71: {'query': [['?afs', 'a', 'brick:Air_Flow_Sensor'], ['?afsp', 'a', 'brick:Air_Flow_Setpoint'], ['?afs', rdflib.term.URIRef('https://brickschema.org/schema/Brick#hasOutputSubstance'), '?vav'], ['?afsp', 'brick:isPointOf', '?vav'], ['?vav', 'a', 'brick:VAV']]}, 72: {'query': [['?afs', 'a', 'brick:Air_Flow_Sensor'], ['?afsp', 'a', 'brick:Air_Flow_Setpoint'], ['?afs', 'brick:isPointOf', '?vav'], ['?afsp', rdflib.term.URIRef('https://brickschema.org/schema/Brick#hasAssociatedTag'), '?vav'], ['?vav', 'a', 'brick:VAV']]}, 73: {'query': [['?afs', 'a', 'brick:Air_Flow_Sensor'], ['?afsp', 'a', 'brick:Air_Flow_Setpoint'], ['?afs', 'brick:isPointOf', '?vav'], ['?afsp', rdflib.term.URIRef('https://brickschema.org/schema/Brick#isMeasuredBy'), '?vav'], ['?vav', 'a', 'brick:VAV']]}, 74: {'query': [['?afs', 'a', 'brick:Air_Flow_Sensor'], ['?afsp', 'a', 'brick:Air_Flow_Setpoint'], ['?afs', 'brick:isPointOf', '?vav'], ['?afsp', rdflib.term.URIRef('https://brickschema.org/schema/Brick#hasUnit'), '?vav'], ['?vav', 'a', 'brick:VAV']]}, 75: {'query': [['?afs', 'a', 'brick:Air_Flow_Sensor'], ['?afsp', 'a', 'brick:Air_Flow_Setpoint'], ['?afs', 'brick:isPointOf', '?vav'], ['?afsp', rdflib.term.URIRef('https://brickschema.org/schema/Brick#hasPart'), '?vav'], ['?vav', 'a', 'brick:VAV']]}, 76: {'query': [['?afs', 'a', 'brick:Air_Flow_Sensor'], ['?afsp', 'a', 'brick:Air_Flow_Setpoint'], ['?afs', 'brick:isPointOf', '?vav'], ['?afsp', rdflib.term.URIRef('https://brickschema.org/schema/Brick#feeds'), '?vav'], ['?vav', 'a', 'brick:VAV']]}, 77: {'query': [['?afs', 'a', 'brick:Air_Flow_Sensor'], ['?afsp', 'a', 'brick:Air_Flow_Setpoint'], ['?afs', 'brick:isPointOf', '?vav'], ['?afsp', rdflib.term.URIRef('https://brickschema.org/schema/Brick#measures'), '?vav'], ['?vav', 'a', 'brick:VAV']]}, 78: {'query': [['?afs', 'a', 'brick:Air_Flow_Sensor'], ['?afsp', 'a', 'brick:Air_Flow_Setpoint'], ['?afs', 'brick:isPointOf', '?vav'], ['?afsp', rdflib.term.URIRef('https://brickschema.org/schema/Brick#isLocationOf'), '?vav'], ['?vav', 'a', 'brick:VAV']]}, 79: {'query': [['?afs', 'a', 'brick:Air_Flow_Sensor'], ['?afsp', 'a', 'brick:Air_Flow_Setpoint'], ['?afs', 'brick:isPointOf', '?vav'], ['?afsp', rdflib.term.URIRef('https://brickschema.org/schema/Brick#value'), '?vav'], ['?vav', 'a', 'brick:VAV']]}, 80: {'query': [['?afs', 'a', 'brick:Air_Flow_Sensor'], ['?afsp', 'a', 'brick:Air_Flow_Setpoint'], ['?afs', 'brick:isPointOf', '?vav'], ['?afsp', rdflib.term.URIRef('https://brickschema.org/schema/Brick#regulates'), '?vav'], ['?vav', 'a', 'brick:VAV']]}, 81: {'query': [['?afs', 'a', 'brick:Air_Flow_Sensor'], ['?afsp', 'a', 'brick:Air_Flow_Setpoint'], ['?afs', 'brick:isPointOf', '?vav'], ['?afsp', rdflib.term.URIRef('https://brickschema.org/schema/Brick#hasInputSubstance'), '?vav'], ['?vav', 'a', 'brick:VAV']]}, 82: {'query': [['?afs', 'a', 'brick:Air_Flow_Sensor'], ['?afsp', 'a', 'brick:Air_Flow_Setpoint'], ['?afs', 'brick:isPointOf', '?vav'], ['?afsp', rdflib.term.URIRef('https://brickschema.org/schema/Brick#isTagOf'), '?vav'], ['?vav', 'a', 'brick:VAV']]}, 83: {'query': [['?afs', 'a', 'brick:Air_Flow_Sensor'], ['?afsp', 'a', 'brick:Air_Flow_Setpoint'], ['?afs', 'brick:isPointOf', '?vav'], ['?afsp', rdflib.term.URIRef('https://brickschema.org/schema/Brick#controls'), '?vav'], ['?vav', 'a', 'brick:VAV']]}, 84: {'query': [['?afs', 'a', 'brick:Air_Flow_Sensor'], ['?afsp', 'a', 'brick:Air_Flow_Setpoint'], ['?afs', 'brick:isPointOf', '?vav'], ['?afsp', rdflib.term.URIRef('https://brickschema.org/schema/Brick#hasLocation'), '?vav'], ['?vav', 'a', 'brick:VAV']]}, 85: {'query': [['?afs', 'a', 'brick:Air_Flow_Sensor'], ['?afsp', 'a', 'brick:Air_Flow_Setpoint'], ['?afs', 'brick:isPointOf', '?vav'], ['?afsp', rdflib.term.URIRef('https://brickschema.org/schema/Brick#isAssociatedWith'), '?vav'], ['?vav', 'a', 'brick:VAV']]}, 86: {'query': [['?afs', 'a', 'brick:Air_Flow_Sensor'], ['?afsp', 'a', 'brick:Air_Flow_Setpoint'], ['?afs', 'brick:isPointOf', '?vav'], ['?afsp', rdflib.term.URIRef('https://brickschema.org/schema/Brick#isPartOf'), '?vav'], ['?vav', 'a', 'brick:VAV']]}, 87: {'query': [['?afs', 'a', 'brick:Air_Flow_Sensor'], ['?afsp', 'a', 'brick:Air_Flow_Setpoint'], ['?afs', 'brick:isPointOf', '?vav'], ['?afsp', rdflib.term.URIRef('https://brickschema.org/schema/Brick#isRegulatedBy'), '?vav'], ['?vav', 'a', 'brick:VAV']]}, 88: {'query': [['?afs', 'a', 'brick:Air_Flow_Sensor'], ['?afsp', 'a', 'brick:Air_Flow_Setpoint'], ['?afs', 'brick:isPointOf', '?vav'], ['?afsp', rdflib.term.URIRef('https://brickschema.org/schema/Brick#isFedBy'), '?vav'], ['?vav', 'a', 'brick:VAV']]}, 89: {'query': [['?afs', 'a', 'brick:Air_Flow_Sensor'], ['?afsp', 'a', 'brick:Air_Flow_Setpoint'], ['?afs', 'brick:isPointOf', '?vav'], ['?afsp', rdflib.term.URIRef('https://brickschema.org/schema/Brick#hasPoint'), '?vav'], ['?vav', 'a', 'brick:VAV']]}, 90: {'query': [['?afs', 'a', 'brick:Air_Flow_Sensor'], ['?afsp', 'a', 'brick:Air_Flow_Setpoint'], ['?afs', 'brick:isPointOf', '?vav'], ['?afsp', rdflib.term.URIRef('https://brickschema.org/schema/Brick#isPointOf'), '?vav'], ['?vav', 'a', 'brick:VAV']]}, 91: {'query': [['?afs', 'a', 'brick:Air_Flow_Sensor'], ['?afsp', 'a', 'brick:Air_Flow_Setpoint'], ['?afs', 'brick:isPointOf', '?vav'], ['?afsp', rdflib.term.URIRef('https://brickschema.org/schema/Brick#storedAt'), '?vav'], ['?vav', 'a', 'brick:VAV']]}, 92: {'query': [['?afs', 'a', 'brick:Air_Flow_Sensor'], ['?afsp', 'a', 'brick:Air_Flow_Setpoint'], ['?afs', 'brick:isPointOf', '?vav'], ['?afsp', rdflib.term.URIRef('https://brickschema.org/schema/Brick#hasAddress'), '?vav'], ['?vav', 'a', 'brick:VAV']]}, 93: {'query': [['?afs', 'a', 'brick:Air_Flow_Sensor'], ['?afsp', 'a', 'brick:Air_Flow_Setpoint'], ['?afs', 'brick:isPointOf', '?vav'], ['?afsp', rdflib.term.URIRef('https://brickschema.org/schema/Brick#isControlledBy'), '?vav'], ['?vav', 'a', 'brick:VAV']]}, 94: {'query': [['?afs', 'a', 'brick:Air_Flow_Sensor'], ['?afsp', 'a', 'brick:Air_Flow_Setpoint'], ['?afs', 'brick:isPointOf', '?vav'], ['?afsp', rdflib.term.URIRef('https://brickschema.org/schema/Brick#hasTag'), '?vav'], ['?vav', 'a', 'brick:VAV']]}, 95: {'query': [['?afs', 'a', 'brick:Air_Flow_Sensor'], ['?afsp', 'a', 'brick:Air_Flow_Setpoint'], ['?afs', 'brick:isPointOf', '?vav'], ['?afsp', rdflib.term.URIRef('https://brickschema.org/schema/Brick#timeseries'), '?vav'], ['?vav', 'a', 'brick:VAV']]}, 96: {'query': [['?afs', 'a', 'brick:Air_Flow_Sensor'], ['?afsp', 'a', 'brick:Air_Flow_Setpoint'], ['?afs', 'brick:isPointOf', '?vav'], ['?afsp', rdflib.term.URIRef('https://brickschema.org/schema/Brick#hasTimeseriesId'), '?vav'], ['?vav', 'a', 'brick:VAV']]}, 97: {'query': [['?afs', 'a', 'brick:Air_Flow_Sensor'], ['?afsp', 'a', 'brick:Air_Flow_Setpoint'], ['?afs', 'brick:isPointOf', '?vav'], ['?afsp', rdflib.term.URIRef('https://brickschema.org/schema/Brick#feedsAir'), '?vav'], ['?vav', 'a', 'brick:VAV']]}, 98: {'query': [['?afs', 'a', 'brick:Air_Flow_Sensor'], ['?afsp', 'a', 'brick:Air_Flow_Setpoint'], ['?afs', 'brick:isPointOf', '?vav'], ['?afsp', rdflib.term.URIRef('https://brickschema.org/schema/Brick#hasOutputSubstance'), '?vav'], ['?vav', 'a', 'brick:VAV']]}, 99: {'query': [['?afs', 'a', 'brick:Air_Flow_Sensor'], ['?afsp', 'a', 'brick:Air_Flow_Setpoint'], ['?afs', 'brick:isPointOf', '?vav'], ['?afsp', 'brick:isPointOf', '?vav'], ['?vav', rdflib.term.URIRef('https://brickschema.org/schema/Brick#hasPart'), 'brick:VAV']]}, 100: {'query': [['?afs', 'a', 'brick:Air_Flow_Sensor'], ['?afsp', 'a', 'brick:Air_Flow_Setpoint'], ['?afs', 'brick:isPointOf', '?vav'], ['?afsp', 'brick:isPointOf', '?vav'], ['?vav', rdflib.term.URIRef('https://brickschema.org/schema/Brick#feeds'), 'brick:VAV']]}, 101: {'query': [['?afs', 'a', 'brick:Air_Flow_Sensor'], ['?afsp', 'a', 'brick:Air_Flow_Setpoint'], ['?afs', 'brick:isPointOf', '?vav'], ['?afsp', 'brick:isPointOf', '?vav'], ['?vav', rdflib.term.URIRef('https://brickschema.org/schema/Brick#isLocationOf'), 'brick:VAV']]}, 102: {'query': [['?afs', 'a', 'brick:Air_Flow_Sensor'], ['?afsp', 'a', 'brick:Air_Flow_Setpoint'], ['?afs', 'brick:isPointOf', '?vav'], ['?afsp', 'brick:isPointOf', '?vav'], ['?vav', rdflib.term.URIRef('https://brickschema.org/schema/Brick#value'), 'brick:VAV']]}, 103: {'query': [['?afs', 'a', 'brick:Air_Flow_Sensor'], ['?afsp', 'a', 'brick:Air_Flow_Setpoint'], ['?afs', 'brick:isPointOf', '?vav'], ['?afsp', 'brick:isPointOf', '?vav'], ['?vav', rdflib.term.URIRef('https://brickschema.org/schema/Brick#isTagOf'), 'brick:VAV']]}, 104: {'query': [['?afs', 'a', 'brick:Air_Flow_Sensor'], ['?afsp', 'a', 'brick:Air_Flow_Setpoint'], ['?afs', 'brick:isPointOf', '?vav'], ['?afsp', 'brick:isPointOf', '?vav'], ['?vav', rdflib.term.URIRef('https://brickschema.org/schema/Brick#controls'), 'brick:VAV']]}, 105: {'query': [['?afs', 'a', 'brick:Air_Flow_Sensor'], ['?afsp', 'a', 'brick:Air_Flow_Setpoint'], ['?afs', 'brick:isPointOf', '?vav'], ['?afsp', 'brick:isPointOf', '?vav'], ['?vav', rdflib.term.URIRef('https://brickschema.org/schema/Brick#isPartOf'), 'brick:VAV']]}, 106: {'query': [['?afs', 'a', 'brick:Air_Flow_Sensor'], ['?afsp', 'a', 'brick:Air_Flow_Setpoint'], ['?afs', 'brick:isPointOf', '?vav'], ['?afsp', 'brick:isPointOf', '?vav'], ['?vav', rdflib.term.URIRef('https://brickschema.org/schema/Brick#isRegulatedBy'), 'brick:VAV']]}, 107: {'query': [['?afs', 'a', 'brick:Air_Flow_Sensor'], ['?afsp', 'a', 'brick:Air_Flow_Setpoint'], ['?afs', 'brick:isPointOf', '?vav'], ['?afsp', 'brick:isPointOf', '?vav'], ['?vav', rdflib.term.URIRef('https://brickschema.org/schema/Brick#isFedBy'), 'brick:VAV']]}, 108: {'query': [['?afs', 'a', 'brick:Air_Flow_Sensor'], ['?afsp', 'a', 'brick:Air_Flow_Setpoint'], ['?afs', 'brick:isPointOf', '?vav'], ['?afsp', 'brick:isPointOf', '?vav'], ['?vav', rdflib.term.URIRef('https://brickschema.org/schema/Brick#isPointOf'), 'brick:VAV']]}, 109: {'query': [['?afs', 'a', 'brick:Air_Flow_Sensor'], ['?afsp', 'a', 'brick:Air_Flow_Setpoint'], ['?afs', 'brick:isPointOf', '?vav'], ['?afsp', 'brick:isPointOf', '?vav'], ['?vav', rdflib.term.URIRef('https://brickschema.org/schema/Brick#storedAt'), 'brick:VAV']]}, 110: {'query': [['?afs', 'a', 'brick:Air_Flow_Sensor'], ['?afsp', 'a', 'brick:Air_Flow_Setpoint'], ['?afs', 'brick:isPointOf', '?vav'], ['?afsp', 'brick:isPointOf', '?vav'], ['?vav', rdflib.term.URIRef('https://brickschema.org/schema/Brick#isControlledBy'), 'brick:VAV']]}, 111: {'query': [['?afs', 'a', 'brick:Air_Flow_Sensor'], ['?afsp', 'a', 'brick:Air_Flow_Setpoint'], ['?afs', 'brick:isPointOf', '?vav'], ['?afsp', 'brick:isPointOf', '?vav'], ['?vav', rdflib.term.URIRef('https://brickschema.org/schema/Brick#feedsAir'), 'brick:VAV']]}})"
      ]
     },
     "execution_count": 65,
     "metadata": {},
     "output_type": "execute_result"
    }
   ],
   "source": [
    "G.nodes.data()"
   ]
  },
  {
   "cell_type": "code",
   "execution_count": 60,
   "metadata": {},
   "outputs": [
    {
     "data": {
      "text/plain": [
       "EdgeDataView([(0, 1, {'rule': 'lower', 'level': 1, 'triple': 0}), (0, 2, {'rule': 'lower', 'level': 1, 'triple': 0}), (0, 3, {'rule': 'lower', 'level': 1, 'triple': 0}), (0, 4, {'rule': 'lower', 'level': 1, 'triple': 0}), (0, 5, {'rule': 'lower', 'level': 1, 'triple': 0}), (0, 6, {'rule': 'lower', 'level': 1, 'triple': 0}), (0, 7, {'rule': 'lower', 'level': 1, 'triple': 0}), (0, 8, {'rule': 'lower', 'level': 1, 'triple': 1}), (0, 9, {'rule': 'lower', 'level': 1, 'triple': 1}), (0, 10, {'rule': 'lower', 'level': 1, 'triple': 1}), (0, 11, {'rule': 'lower', 'level': 1, 'triple': 1}), (0, 12, {'rule': 'lower', 'level': 1, 'triple': 1}), (0, 13, {'rule': 'lower', 'level': 1, 'triple': 1}), (0, 14, {'rule': 'sibling', 'level': 1, 'triple': 0}), (0, 15, {'rule': 'sibling', 'level': 1, 'triple': 0}), (0, 16, {'rule': 'sibling', 'level': 1, 'triple': 1}), (0, 17, {'rule': 'sibling', 'level': 1, 'triple': 4}), (0, 18, {'rule': 'sibling', 'level': 1, 'triple': 4}), (0, 19, {'rule': 'sibling', 'level': 1, 'triple': 4}), (0, 20, {'rule': 'sibling', 'level': 1, 'triple': 4}), (0, 21, {'rule': 'sibling', 'level': 1, 'triple': 4}), (0, 22, {'rule': 'sibling', 'level': 1, 'triple': 4}), (0, 23, {'rule': 'sibling', 'level': 1, 'triple': 4}), (0, 24, {'rule': 'upper', 'level': 1, 'triple': 0}), (0, 25, {'rule': 'upper', 'level': 1, 'triple': 1}), (0, 26, {'rule': 'upper', 'level': 1, 'triple': 4}), (0, 27, {'rule': 'relationship', 'level': 1, 'triple': 0}), (0, 28, {'rule': 'relationship', 'level': 1, 'triple': 0}), (0, 29, {'rule': 'relationship', 'level': 1, 'triple': 0}), (0, 30, {'rule': 'relationship', 'level': 1, 'triple': 0}), (0, 31, {'rule': 'relationship', 'level': 1, 'triple': 0}), (0, 32, {'rule': 'relationship', 'level': 1, 'triple': 0}), (0, 33, {'rule': 'relationship', 'level': 1, 'triple': 0}), (0, 34, {'rule': 'relationship', 'level': 1, 'triple': 0}), (0, 35, {'rule': 'relationship', 'level': 1, 'triple': 0}), (0, 36, {'rule': 'relationship', 'level': 1, 'triple': 1}), (0, 37, {'rule': 'relationship', 'level': 1, 'triple': 1}), (0, 38, {'rule': 'relationship', 'level': 1, 'triple': 1}), (0, 39, {'rule': 'relationship', 'level': 1, 'triple': 1}), (0, 40, {'rule': 'relationship', 'level': 1, 'triple': 1}), (0, 41, {'rule': 'relationship', 'level': 1, 'triple': 1}), (0, 42, {'rule': 'relationship', 'level': 1, 'triple': 1}), (0, 43, {'rule': 'relationship', 'level': 1, 'triple': 1}), (0, 44, {'rule': 'relationship', 'level': 1, 'triple': 1}), (0, 45, {'rule': 'relationship', 'level': 1, 'triple': 2}), (0, 46, {'rule': 'relationship', 'level': 1, 'triple': 2}), (0, 47, {'rule': 'relationship', 'level': 1, 'triple': 2}), (0, 48, {'rule': 'relationship', 'level': 1, 'triple': 2}), (0, 49, {'rule': 'relationship', 'level': 1, 'triple': 2}), (0, 50, {'rule': 'relationship', 'level': 1, 'triple': 2}), (0, 51, {'rule': 'relationship', 'level': 1, 'triple': 2}), (0, 52, {'rule': 'relationship', 'level': 1, 'triple': 2}), (0, 53, {'rule': 'relationship', 'level': 1, 'triple': 2}), (0, 54, {'rule': 'relationship', 'level': 1, 'triple': 2}), (0, 55, {'rule': 'relationship', 'level': 1, 'triple': 2}), (0, 56, {'rule': 'relationship', 'level': 1, 'triple': 2}), (0, 57, {'rule': 'relationship', 'level': 1, 'triple': 2}), (0, 58, {'rule': 'relationship', 'level': 1, 'triple': 2}), (0, 59, {'rule': 'relationship', 'level': 1, 'triple': 2}), (0, 60, {'rule': 'relationship', 'level': 1, 'triple': 2}), (0, 61, {'rule': 'relationship', 'level': 1, 'triple': 2}), (0, 62, {'rule': 'relationship', 'level': 1, 'triple': 2}), (0, 63, {'rule': 'relationship', 'level': 1, 'triple': 2}), (0, 64, {'rule': 'relationship', 'level': 1, 'triple': 2}), (0, 65, {'rule': 'relationship', 'level': 1, 'triple': 2}), (0, 66, {'rule': 'relationship', 'level': 1, 'triple': 2}), (0, 67, {'rule': 'relationship', 'level': 1, 'triple': 2}), (0, 68, {'rule': 'relationship', 'level': 1, 'triple': 2}), (0, 69, {'rule': 'relationship', 'level': 1, 'triple': 2}), (0, 70, {'rule': 'relationship', 'level': 1, 'triple': 2}), (0, 71, {'rule': 'relationship', 'level': 1, 'triple': 2}), (0, 72, {'rule': 'relationship', 'level': 1, 'triple': 3}), (0, 73, {'rule': 'relationship', 'level': 1, 'triple': 3}), (0, 74, {'rule': 'relationship', 'level': 1, 'triple': 3}), (0, 75, {'rule': 'relationship', 'level': 1, 'triple': 3}), (0, 76, {'rule': 'relationship', 'level': 1, 'triple': 3}), (0, 77, {'rule': 'relationship', 'level': 1, 'triple': 3}), (0, 78, {'rule': 'relationship', 'level': 1, 'triple': 3}), (0, 79, {'rule': 'relationship', 'level': 1, 'triple': 3}), (0, 80, {'rule': 'relationship', 'level': 1, 'triple': 3}), (0, 81, {'rule': 'relationship', 'level': 1, 'triple': 3}), (0, 82, {'rule': 'relationship', 'level': 1, 'triple': 3}), (0, 83, {'rule': 'relationship', 'level': 1, 'triple': 3}), (0, 84, {'rule': 'relationship', 'level': 1, 'triple': 3}), (0, 85, {'rule': 'relationship', 'level': 1, 'triple': 3}), (0, 86, {'rule': 'relationship', 'level': 1, 'triple': 3}), (0, 87, {'rule': 'relationship', 'level': 1, 'triple': 3}), (0, 88, {'rule': 'relationship', 'level': 1, 'triple': 3}), (0, 89, {'rule': 'relationship', 'level': 1, 'triple': 3}), (0, 90, {'rule': 'relationship', 'level': 1, 'triple': 3}), (0, 91, {'rule': 'relationship', 'level': 1, 'triple': 3}), (0, 92, {'rule': 'relationship', 'level': 1, 'triple': 3}), (0, 93, {'rule': 'relationship', 'level': 1, 'triple': 3}), (0, 94, {'rule': 'relationship', 'level': 1, 'triple': 3}), (0, 95, {'rule': 'relationship', 'level': 1, 'triple': 3}), (0, 96, {'rule': 'relationship', 'level': 1, 'triple': 3}), (0, 97, {'rule': 'relationship', 'level': 1, 'triple': 3}), (0, 98, {'rule': 'relationship', 'level': 1, 'triple': 3}), (0, 99, {'rule': 'relationship', 'level': 1, 'triple': 4}), (0, 100, {'rule': 'relationship', 'level': 1, 'triple': 4}), (0, 101, {'rule': 'relationship', 'level': 1, 'triple': 4}), (0, 102, {'rule': 'relationship', 'level': 1, 'triple': 4}), (0, 103, {'rule': 'relationship', 'level': 1, 'triple': 4}), (0, 104, {'rule': 'relationship', 'level': 1, 'triple': 4}), (0, 105, {'rule': 'relationship', 'level': 1, 'triple': 4}), (0, 106, {'rule': 'relationship', 'level': 1, 'triple': 4}), (0, 107, {'rule': 'relationship', 'level': 1, 'triple': 4}), (0, 108, {'rule': 'relationship', 'level': 1, 'triple': 4}), (0, 109, {'rule': 'relationship', 'level': 1, 'triple': 4}), (0, 110, {'rule': 'relationship', 'level': 1, 'triple': 4}), (0, 111, {'rule': 'relationship', 'level': 1, 'triple': 4})])"
      ]
     },
     "execution_count": 60,
     "metadata": {},
     "output_type": "execute_result"
    }
   ],
   "source": [
    "G.edges.data()"
   ]
  },
  {
   "cell_type": "code",
   "execution_count": 62,
   "metadata": {},
   "outputs": [
    {
     "data": {
      "text/plain": [
       "{'query': [['?afs', 'a', 'brick:Air_Flow_Sensor'],\n",
       "  ['?afsp', 'a', 'brick:Air_Flow_Setpoint'],\n",
       "  ['?afs', 'brick:isPointOf', '?vav'],\n",
       "  ['?afsp', 'brick:isPointOf', '?vav'],\n",
       "  ['?vav', 'a', 'brick:VAV']]}"
      ]
     },
     "execution_count": 62,
     "metadata": {},
     "output_type": "execute_result"
    }
   ],
   "source": [
    "G.nodes.data()[0]"
   ]
  },
  {
   "cell_type": "code",
   "execution_count": 64,
   "metadata": {},
   "outputs": [
    {
     "data": {
      "text/plain": [
       "{'query': [['?afs', 'a', 'brick:Air_Flow_Sensor'],\n",
       "  ['?afsp', 'a', 'brick:Air_Flow_Setpoint'],\n",
       "  ['?afs', 'brick:isPointOf', '?vav'],\n",
       "  ['?afsp', 'brick:isPointOf', '?vav'],\n",
       "  ['?vav',\n",
       "   rdflib.term.URIRef('https://brickschema.org/schema/Brick#feedsAir'),\n",
       "   'brick:VAV']]}"
      ]
     },
     "execution_count": 64,
     "metadata": {},
     "output_type": "execute_result"
    }
   ],
   "source": [
    "G.nodes.data()[111]"
   ]
  },
  {
   "cell_type": "code",
   "execution_count": null,
   "metadata": {},
   "outputs": [],
   "source": []
  }
 ],
 "metadata": {
  "kernelspec": {
   "display_name": "Python 3",
   "language": "python",
   "name": "python3"
  },
  "language_info": {
   "codemirror_mode": {
    "name": "ipython",
    "version": 3
   },
   "file_extension": ".py",
   "mimetype": "text/x-python",
   "name": "python",
   "nbconvert_exporter": "python",
   "pygments_lexer": "ipython3",
   "version": "3.8.3"
  }
 },
 "nbformat": 4,
 "nbformat_minor": 4
}
